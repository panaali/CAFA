{
 "cells": [
  {
   "cell_type": "code",
   "execution_count": 1,
   "metadata": {},
   "outputs": [],
   "source": [
    "import pandas as pd\n",
    "import numpy as np\n",
    "import glob\n",
    "import matplotlib.pyplot as plt\n",
    "from Bio import SeqIO"
   ]
  },
  {
   "cell_type": "code",
   "execution_count": 106,
   "metadata": {},
   "outputs": [],
   "source": [
    "fasta_file = 'uniprot_sprot_exp.fasta'\n",
    "fasta_path = './data/cafa3/'\n",
    "\n",
    "col_ids = []\n",
    "col_seqs = []\n",
    "for seq_record in SeqIO.parse(fasta_path + fasta_file, \"fasta\"):\n",
    "    col_ids.append(seq_record.id)\n",
    "    col_seqs.append(str(seq_record.seq))\n",
    "cols = {'accession': col_ids, 'seq': col_seqs}"
   ]
  },
  {
   "cell_type": "code",
   "execution_count": 107,
   "metadata": {},
   "outputs": [],
   "source": [
    "df = pd.DataFrame(data=cols)"
   ]
  },
  {
   "cell_type": "code",
   "execution_count": 31,
   "metadata": {},
   "outputs": [],
   "source": [
    "df.to_csv('./data/cafa3/uniprot_sprot_exp.csv', index=False)"
   ]
  },
  {
   "cell_type": "code",
   "execution_count": 108,
   "metadata": {},
   "outputs": [
    {
     "data": {
      "text/plain": [
       "66841"
      ]
     },
     "execution_count": 108,
     "metadata": {},
     "output_type": "execute_result"
    }
   ],
   "source": [
    "len(df)"
   ]
  },
  {
   "cell_type": "code",
   "execution_count": 118,
   "metadata": {},
   "outputs": [
    {
     "data": {
      "text/html": [
       "<div>\n",
       "<style scoped>\n",
       "    .dataframe tbody tr th:only-of-type {\n",
       "        vertical-align: middle;\n",
       "    }\n",
       "\n",
       "    .dataframe tbody tr th {\n",
       "        vertical-align: top;\n",
       "    }\n",
       "\n",
       "    .dataframe thead th {\n",
       "        text-align: right;\n",
       "    }\n",
       "</style>\n",
       "<table border=\"1\" class=\"dataframe\">\n",
       "  <thead>\n",
       "    <tr style=\"text-align: right;\">\n",
       "      <th></th>\n",
       "      <th>accession</th>\n",
       "      <th>seq</th>\n",
       "    </tr>\n",
       "  </thead>\n",
       "  <tbody>\n",
       "    <tr>\n",
       "      <th>50055</th>\n",
       "      <td>Q8WUK0</td>\n",
       "      <td>MAATALLEAGLARVLFYPTLLYTLFRGKVPGRAHRDWYHRIDPTVL...</td>\n",
       "    </tr>\n",
       "    <tr>\n",
       "      <th>60211</th>\n",
       "      <td>Q9P2N6</td>\n",
       "      <td>MAHRGGERDFQTSARRMGTSLLFQLSVHERELDLVFLDHSYAKPWS...</td>\n",
       "    </tr>\n",
       "    <tr>\n",
       "      <th>40209</th>\n",
       "      <td>Q5VZV1</td>\n",
       "      <td>MDVCLSSAQQPGRRGEGLSSPGGWLEAEKKGAPQKDSTGGVLEESN...</td>\n",
       "    </tr>\n",
       "    <tr>\n",
       "      <th>33168</th>\n",
       "      <td>Q09673</td>\n",
       "      <td>MQVLKEKLLIHQQVDNWRKDGNRIAFVPTMGNLHEGHFSLVREAKR...</td>\n",
       "    </tr>\n",
       "    <tr>\n",
       "      <th>1964</th>\n",
       "      <td>F4IG09</td>\n",
       "      <td>MAIAFHTFLLQLLLFFFASFAEANDSRKTYLVQMKVGGHRYGSSSG...</td>\n",
       "    </tr>\n",
       "  </tbody>\n",
       "</table>\n",
       "</div>"
      ],
      "text/plain": [
       "      accession                                                seq\n",
       "50055    Q8WUK0  MAATALLEAGLARVLFYPTLLYTLFRGKVPGRAHRDWYHRIDPTVL...\n",
       "60211    Q9P2N6  MAHRGGERDFQTSARRMGTSLLFQLSVHERELDLVFLDHSYAKPWS...\n",
       "40209    Q5VZV1  MDVCLSSAQQPGRRGEGLSSPGGWLEAEKKGAPQKDSTGGVLEESN...\n",
       "33168    Q09673  MQVLKEKLLIHQQVDNWRKDGNRIAFVPTMGNLHEGHFSLVREAKR...\n",
       "1964     F4IG09  MAIAFHTFLLQLLLFFFASFAEANDSRKTYLVQMKVGGHRYGSSSG..."
      ]
     },
     "execution_count": 118,
     "metadata": {},
     "output_type": "execute_result"
    }
   ],
   "source": [
    "df.sample(5)"
   ]
  },
  {
   "cell_type": "code",
   "execution_count": 119,
   "metadata": {},
   "outputs": [],
   "source": [
    "df.set_index('accession', inplace=True);"
   ]
  },
  {
   "cell_type": "code",
   "execution_count": 120,
   "metadata": {},
   "outputs": [
    {
     "data": {
      "text/html": [
       "<div>\n",
       "<style scoped>\n",
       "    .dataframe tbody tr th:only-of-type {\n",
       "        vertical-align: middle;\n",
       "    }\n",
       "\n",
       "    .dataframe tbody tr th {\n",
       "        vertical-align: top;\n",
       "    }\n",
       "\n",
       "    .dataframe thead th {\n",
       "        text-align: right;\n",
       "    }\n",
       "</style>\n",
       "<table border=\"1\" class=\"dataframe\">\n",
       "  <thead>\n",
       "    <tr style=\"text-align: right;\">\n",
       "      <th></th>\n",
       "      <th>seq</th>\n",
       "    </tr>\n",
       "    <tr>\n",
       "      <th>accession</th>\n",
       "      <th></th>\n",
       "    </tr>\n",
       "  </thead>\n",
       "  <tbody>\n",
       "    <tr>\n",
       "      <th>Q9TW32</th>\n",
       "      <td>MKVIFVVLAIVLVTLWAMPSEAGKDPKITNKVFFDIEIDNKPAGRI...</td>\n",
       "    </tr>\n",
       "    <tr>\n",
       "      <th>Q91YD4</th>\n",
       "      <td>MESLDRRRTGSEQEEGFGVQSRRATDLGMVPNLRRSNSSLCKSRRF...</td>\n",
       "    </tr>\n",
       "    <tr>\n",
       "      <th>Q9M0Y6</th>\n",
       "      <td>MYILDTGARFSAVRFSPVFNPPPTSLRRRYFIVRANLPFPKHQAKY...</td>\n",
       "    </tr>\n",
       "    <tr>\n",
       "      <th>P0AF40</th>\n",
       "      <td>MKQANQDRGTLLLALVAGLSINGTFAALFSSIVPFSVFPIISLVLT...</td>\n",
       "    </tr>\n",
       "    <tr>\n",
       "      <th>Q12555</th>\n",
       "      <td>MANTPHGGVLKDLIARDAPRHDQLEAEAATLPSIVLTERQLCDLEL...</td>\n",
       "    </tr>\n",
       "  </tbody>\n",
       "</table>\n",
       "</div>"
      ],
      "text/plain": [
       "                                                         seq\n",
       "accession                                                   \n",
       "Q9TW32     MKVIFVVLAIVLVTLWAMPSEAGKDPKITNKVFFDIEIDNKPAGRI...\n",
       "Q91YD4     MESLDRRRTGSEQEEGFGVQSRRATDLGMVPNLRRSNSSLCKSRRF...\n",
       "Q9M0Y6     MYILDTGARFSAVRFSPVFNPPPTSLRRRYFIVRANLPFPKHQAKY...\n",
       "P0AF40     MKQANQDRGTLLLALVAGLSINGTFAALFSSIVPFSVFPIISLVLT...\n",
       "Q12555     MANTPHGGVLKDLIARDAPRHDQLEAEAATLPSIVLTERQLCDLEL..."
      ]
     },
     "execution_count": 120,
     "metadata": {},
     "output_type": "execute_result"
    }
   ],
   "source": [
    "df.sample(5)"
   ]
  },
  {
   "cell_type": "code",
   "execution_count": 19,
   "metadata": {},
   "outputs": [],
   "source": [
    "go_file = 'uniprot_sprot_exp.txt'\n",
    "go_path = './data/cafa3/'\n",
    "\n",
    "df_go = pd.read_csv(go_path + go_file, delimiter='\\t', header=None, names=['accession', 'GO', 'domain']);"
   ]
  },
  {
   "cell_type": "code",
   "execution_count": 20,
   "metadata": {},
   "outputs": [
    {
     "data": {
      "text/plain": [
       "386197"
      ]
     },
     "execution_count": 20,
     "metadata": {},
     "output_type": "execute_result"
    }
   ],
   "source": [
    "len(df_go)"
   ]
  },
  {
   "cell_type": "code",
   "execution_count": 21,
   "metadata": {},
   "outputs": [
    {
     "data": {
      "text/html": [
       "<div>\n",
       "<style scoped>\n",
       "    .dataframe tbody tr th:only-of-type {\n",
       "        vertical-align: middle;\n",
       "    }\n",
       "\n",
       "    .dataframe tbody tr th {\n",
       "        vertical-align: top;\n",
       "    }\n",
       "\n",
       "    .dataframe thead th {\n",
       "        text-align: right;\n",
       "    }\n",
       "</style>\n",
       "<table border=\"1\" class=\"dataframe\">\n",
       "  <thead>\n",
       "    <tr style=\"text-align: right;\">\n",
       "      <th></th>\n",
       "      <th>accession</th>\n",
       "      <th>GO</th>\n",
       "      <th>domain</th>\n",
       "    </tr>\n",
       "  </thead>\n",
       "  <tbody>\n",
       "    <tr>\n",
       "      <th>370292</th>\n",
       "      <td>P30628</td>\n",
       "      <td>GO:0016471</td>\n",
       "      <td>C</td>\n",
       "    </tr>\n",
       "    <tr>\n",
       "      <th>184043</th>\n",
       "      <td>P06151</td>\n",
       "      <td>GO:0019661</td>\n",
       "      <td>P</td>\n",
       "    </tr>\n",
       "    <tr>\n",
       "      <th>82597</th>\n",
       "      <td>Q61462</td>\n",
       "      <td>GO:0043020</td>\n",
       "      <td>C</td>\n",
       "    </tr>\n",
       "    <tr>\n",
       "      <th>128028</th>\n",
       "      <td>P30553</td>\n",
       "      <td>GO:0090274</td>\n",
       "      <td>P</td>\n",
       "    </tr>\n",
       "    <tr>\n",
       "      <th>301137</th>\n",
       "      <td>P59158</td>\n",
       "      <td>GO:0005829</td>\n",
       "      <td>C</td>\n",
       "    </tr>\n",
       "  </tbody>\n",
       "</table>\n",
       "</div>"
      ],
      "text/plain": [
       "       accession          GO domain\n",
       "370292    P30628  GO:0016471      C\n",
       "184043    P06151  GO:0019661      P\n",
       "82597     Q61462  GO:0043020      C\n",
       "128028    P30553  GO:0090274      P\n",
       "301137    P59158  GO:0005829      C"
      ]
     },
     "execution_count": 21,
     "metadata": {},
     "output_type": "execute_result"
    }
   ],
   "source": [
    "df_go.sample(5)"
   ]
  },
  {
   "cell_type": "code",
   "execution_count": 25,
   "metadata": {},
   "outputs": [],
   "source": [
    "df_go.set_index('accession', inplace=True);"
   ]
  },
  {
   "cell_type": "code",
   "execution_count": 26,
   "metadata": {},
   "outputs": [
    {
     "data": {
      "text/html": [
       "<div>\n",
       "<style scoped>\n",
       "    .dataframe tbody tr th:only-of-type {\n",
       "        vertical-align: middle;\n",
       "    }\n",
       "\n",
       "    .dataframe tbody tr th {\n",
       "        vertical-align: top;\n",
       "    }\n",
       "\n",
       "    .dataframe thead th {\n",
       "        text-align: right;\n",
       "    }\n",
       "</style>\n",
       "<table border=\"1\" class=\"dataframe\">\n",
       "  <thead>\n",
       "    <tr style=\"text-align: right;\">\n",
       "      <th></th>\n",
       "      <th>GO</th>\n",
       "      <th>domain</th>\n",
       "    </tr>\n",
       "    <tr>\n",
       "      <th>accession</th>\n",
       "      <th></th>\n",
       "      <th></th>\n",
       "    </tr>\n",
       "  </thead>\n",
       "  <tbody>\n",
       "    <tr>\n",
       "      <th>P35439</th>\n",
       "      <td>GO:0019899</td>\n",
       "      <td>F</td>\n",
       "    </tr>\n",
       "    <tr>\n",
       "      <th>P63259</th>\n",
       "      <td>GO:0034332</td>\n",
       "      <td>P</td>\n",
       "    </tr>\n",
       "    <tr>\n",
       "      <th>Q9XF91</th>\n",
       "      <td>GO:0016020</td>\n",
       "      <td>C</td>\n",
       "    </tr>\n",
       "    <tr>\n",
       "      <th>Q6NVG5</th>\n",
       "      <td>GO:0032402</td>\n",
       "      <td>P</td>\n",
       "    </tr>\n",
       "    <tr>\n",
       "      <th>Q9Y2P4</th>\n",
       "      <td>GO:0004467</td>\n",
       "      <td>F</td>\n",
       "    </tr>\n",
       "  </tbody>\n",
       "</table>\n",
       "</div>"
      ],
      "text/plain": [
       "                   GO domain\n",
       "accession                   \n",
       "P35439     GO:0019899      F\n",
       "P63259     GO:0034332      P\n",
       "Q9XF91     GO:0016020      C\n",
       "Q6NVG5     GO:0032402      P\n",
       "Q9Y2P4     GO:0004467      F"
      ]
     },
     "execution_count": 26,
     "metadata": {},
     "output_type": "execute_result"
    }
   ],
   "source": [
    "df_go.sample(5)"
   ]
  },
  {
   "cell_type": "code",
   "execution_count": 116,
   "metadata": {},
   "outputs": [
    {
     "data": {
      "text/html": [
       "<div>\n",
       "<style scoped>\n",
       "    .dataframe tbody tr th:only-of-type {\n",
       "        vertical-align: middle;\n",
       "    }\n",
       "\n",
       "    .dataframe tbody tr th {\n",
       "        vertical-align: top;\n",
       "    }\n",
       "\n",
       "    .dataframe thead th {\n",
       "        text-align: right;\n",
       "    }\n",
       "</style>\n",
       "<table border=\"1\" class=\"dataframe\">\n",
       "  <thead>\n",
       "    <tr style=\"text-align: right;\">\n",
       "      <th></th>\n",
       "      <th>GO</th>\n",
       "      <th>domain</th>\n",
       "    </tr>\n",
       "    <tr>\n",
       "      <th>accession</th>\n",
       "      <th></th>\n",
       "      <th></th>\n",
       "    </tr>\n",
       "  </thead>\n",
       "  <tbody>\n",
       "    <tr>\n",
       "      <th>P48347</th>\n",
       "      <td>GO:0005829</td>\n",
       "      <td>C</td>\n",
       "    </tr>\n",
       "    <tr>\n",
       "      <th>P48347</th>\n",
       "      <td>GO:0005739</td>\n",
       "      <td>C</td>\n",
       "    </tr>\n",
       "    <tr>\n",
       "      <th>P48347</th>\n",
       "      <td>GO:0005886</td>\n",
       "      <td>C</td>\n",
       "    </tr>\n",
       "    <tr>\n",
       "      <th>P48347</th>\n",
       "      <td>GO:0009506</td>\n",
       "      <td>C</td>\n",
       "    </tr>\n",
       "    <tr>\n",
       "      <th>P48347</th>\n",
       "      <td>GO:0005524</td>\n",
       "      <td>F</td>\n",
       "    </tr>\n",
       "    <tr>\n",
       "      <th>P48347</th>\n",
       "      <td>GO:0009742</td>\n",
       "      <td>P</td>\n",
       "    </tr>\n",
       "    <tr>\n",
       "      <th>P48347</th>\n",
       "      <td>GO:0009737</td>\n",
       "      <td>P</td>\n",
       "    </tr>\n",
       "  </tbody>\n",
       "</table>\n",
       "</div>"
      ],
      "text/plain": [
       "                   GO domain\n",
       "accession                   \n",
       "P48347     GO:0005829      C\n",
       "P48347     GO:0005739      C\n",
       "P48347     GO:0005886      C\n",
       "P48347     GO:0009506      C\n",
       "P48347     GO:0005524      F\n",
       "P48347     GO:0009742      P\n",
       "P48347     GO:0009737      P"
      ]
     },
     "execution_count": 116,
     "metadata": {},
     "output_type": "execute_result"
    }
   ],
   "source": [
    "df_go.loc['P48347']"
   ]
  },
  {
   "cell_type": "code",
   "execution_count": 103,
   "metadata": {},
   "outputs": [],
   "source": [
    "# df for all\n",
    "for accession in df.index:\n",
    "    go_ids = df_go.loc[accession]\n",
    "    if type(go_ids['GO']) is str:\n",
    "        labels = go_ids['GO']\n",
    "    else:\n",
    "        labels = ' '.join(str(x) for x in go_ids['GO'].values)\n",
    "    df.loc[accession, 'labels'] = labels"
   ]
  },
  {
   "cell_type": "code",
   "execution_count": null,
   "metadata": {},
   "outputs": [],
   "source": [
    "df.sample(2)"
   ]
  },
  {
   "cell_type": "code",
   "execution_count": 105,
   "metadata": {},
   "outputs": [],
   "source": [
    "df.to_csv('./data/cafa3/uniprot_sprot_exp_go_all.csv', index=False)"
   ]
  },
  {
   "cell_type": "code",
   "execution_count": 111,
   "metadata": {},
   "outputs": [
    {
     "data": {
      "text/html": [
       "<div>\n",
       "<style scoped>\n",
       "    .dataframe tbody tr th:only-of-type {\n",
       "        vertical-align: middle;\n",
       "    }\n",
       "\n",
       "    .dataframe tbody tr th {\n",
       "        vertical-align: top;\n",
       "    }\n",
       "\n",
       "    .dataframe thead th {\n",
       "        text-align: right;\n",
       "    }\n",
       "</style>\n",
       "<table border=\"1\" class=\"dataframe\">\n",
       "  <thead>\n",
       "    <tr style=\"text-align: right;\">\n",
       "      <th></th>\n",
       "      <th>accession</th>\n",
       "      <th>seq</th>\n",
       "    </tr>\n",
       "  </thead>\n",
       "  <tbody>\n",
       "    <tr>\n",
       "      <th>21481</th>\n",
       "      <td>P40106</td>\n",
       "      <td>MGLTTKPLSLKVNAALFDVDGTIIISQPAIAAFWRDFGKDKPYFDA...</td>\n",
       "    </tr>\n",
       "    <tr>\n",
       "      <th>53935</th>\n",
       "      <td>Q9BZK7</td>\n",
       "      <td>MSISSDEVNFLVYRYLQESGFSHSAFTFGIESHISQSNINGALVPP...</td>\n",
       "    </tr>\n",
       "  </tbody>\n",
       "</table>\n",
       "</div>"
      ],
      "text/plain": [
       "      accession                                                seq\n",
       "21481    P40106  MGLTTKPLSLKVNAALFDVDGTIIISQPAIAAFWRDFGKDKPYFDA...\n",
       "53935    Q9BZK7  MSISSDEVNFLVYRYLQESGFSHSAFTFGIESHISQSNINGALVPP..."
      ]
     },
     "execution_count": 111,
     "metadata": {},
     "output_type": "execute_result"
    }
   ],
   "source": [
    "df.sample(2)"
   ]
  },
  {
   "cell_type": "code",
   "execution_count": 135,
   "metadata": {},
   "outputs": [],
   "source": [
    "# DF for Domain F\n",
    "df_F = pd.DataFrame(data=cols)\n",
    "df_F.set_index('accession', inplace=True);"
   ]
  },
  {
   "cell_type": "code",
   "execution_count": 156,
   "metadata": {},
   "outputs": [
    {
     "name": "stdout",
     "output_type": "stream",
     "text": [
      "1000\n",
      "2000\n",
      "3000\n",
      "4000\n",
      "5000\n",
      "6000\n",
      "7000\n",
      "8000\n",
      "9000\n",
      "10000\n",
      "11000\n",
      "12000\n",
      "13000\n",
      "14000\n",
      "15000\n",
      "16000\n",
      "17000\n",
      "18000\n",
      "19000\n",
      "20000\n",
      "21000\n",
      "22000\n",
      "23000\n",
      "24000\n",
      "25000\n",
      "26000\n",
      "27000\n",
      "28000\n",
      "29000\n",
      "30000\n",
      "31000\n",
      "32000\n",
      "33000\n",
      "34000\n",
      "35000\n",
      "36000\n",
      "37000\n",
      "38000\n",
      "39000\n",
      "40000\n",
      "41000\n",
      "42000\n",
      "43000\n",
      "44000\n",
      "45000\n",
      "46000\n",
      "47000\n",
      "48000\n",
      "49000\n",
      "50000\n",
      "51000\n",
      "52000\n",
      "53000\n",
      "54000\n",
      "55000\n",
      "56000\n",
      "57000\n",
      "58000\n",
      "59000\n",
      "60000\n",
      "61000\n",
      "62000\n",
      "63000\n",
      "64000\n",
      "65000\n",
      "66000\n"
     ]
    }
   ],
   "source": [
    "j = 0\n",
    "for accession in df_F.index:\n",
    "    j += 1\n",
    "    if j % 1000 == 0:\n",
    "        print(j)\n",
    "    cur_accession = df_go.loc[accession]\n",
    "    go_ids = cur_accession[df_go.loc[accession, 'domain'] == 'F']\n",
    "    \n",
    "    if isinstance(cur_accession, pd.DataFrame):\n",
    "        if go_ids.empty:\n",
    "            continue\n",
    "        if type(go_ids['GO']) is str:\n",
    "            labels = go_ids['GO']\n",
    "        else:\n",
    "            labels = ' '.join(str(x) for x in go_ids['GO'].values)\n",
    "    else:\n",
    "        labels = cur_accession['GO']\n",
    "    df_F.loc[accession, 'labels'] = labels"
   ]
  },
  {
   "cell_type": "code",
   "execution_count": 168,
   "metadata": {},
   "outputs": [],
   "source": [
    "# filter empty labels\n",
    "df_F = df_F[df_F['labels'].notnull()]"
   ]
  },
  {
   "cell_type": "code",
   "execution_count": 169,
   "metadata": {},
   "outputs": [],
   "source": [
    "df_F.to_csv('./data/cafa3/uniprot_sprot_exp_go_F.csv', index=False)"
   ]
  },
  {
   "cell_type": "code",
   "execution_count": 157,
   "metadata": {},
   "outputs": [],
   "source": [
    "# DF for Domain P\n",
    "df_P = pd.DataFrame(data=cols)\n",
    "df_P.set_index('accession', inplace=True);"
   ]
  },
  {
   "cell_type": "code",
   "execution_count": 158,
   "metadata": {},
   "outputs": [
    {
     "name": "stdout",
     "output_type": "stream",
     "text": [
      "1000\n",
      "2000\n",
      "3000\n",
      "4000\n",
      "5000\n",
      "6000\n",
      "7000\n",
      "8000\n",
      "9000\n",
      "10000\n",
      "11000\n",
      "12000\n",
      "13000\n",
      "14000\n",
      "15000\n",
      "16000\n",
      "17000\n",
      "18000\n",
      "19000\n",
      "20000\n",
      "21000\n",
      "22000\n",
      "23000\n",
      "24000\n",
      "25000\n",
      "26000\n",
      "27000\n",
      "28000\n",
      "29000\n",
      "30000\n",
      "31000\n",
      "32000\n",
      "33000\n",
      "34000\n",
      "35000\n",
      "36000\n",
      "37000\n",
      "38000\n",
      "39000\n",
      "40000\n",
      "41000\n",
      "42000\n",
      "43000\n",
      "44000\n",
      "45000\n",
      "46000\n",
      "47000\n",
      "48000\n",
      "49000\n",
      "50000\n",
      "51000\n",
      "52000\n",
      "53000\n",
      "54000\n",
      "55000\n",
      "56000\n",
      "57000\n",
      "58000\n",
      "59000\n",
      "60000\n",
      "61000\n",
      "62000\n",
      "63000\n",
      "64000\n",
      "65000\n",
      "66000\n"
     ]
    }
   ],
   "source": [
    "j = 0\n",
    "for accession in df_P.index:\n",
    "    j += 1\n",
    "    if j % 1000 == 0:\n",
    "        print(j)\n",
    "    cur_accession = df_go.loc[accession]\n",
    "    go_ids = cur_accession[df_go.loc[accession, 'domain'] == 'P']\n",
    "    \n",
    "    if isinstance(cur_accession, pd.DataFrame):\n",
    "        if go_ids.empty:\n",
    "            continue\n",
    "        if type(go_ids['GO']) is str:\n",
    "            labels = go_ids['GO']\n",
    "        else:\n",
    "            labels = ' '.join(str(x) for x in go_ids['GO'].values)\n",
    "    else:\n",
    "        labels = cur_accession['GO']\n",
    "    df_P.loc[accession, 'labels'] = labels"
   ]
  },
  {
   "cell_type": "code",
   "execution_count": 170,
   "metadata": {},
   "outputs": [],
   "source": [
    "# filter empty labels\n",
    "df_P = df_P[df_P['labels'].notnull()]"
   ]
  },
  {
   "cell_type": "code",
   "execution_count": 171,
   "metadata": {},
   "outputs": [],
   "source": [
    "df_P.to_csv('./data/cafa3/uniprot_sprot_exp_go_P.csv', index=False)"
   ]
  },
  {
   "cell_type": "code",
   "execution_count": 159,
   "metadata": {},
   "outputs": [],
   "source": [
    "# DF for Domain C\n",
    "df_C = pd.DataFrame(data=cols)\n",
    "df_C.set_index('accession', inplace=True);"
   ]
  },
  {
   "cell_type": "code",
   "execution_count": 160,
   "metadata": {},
   "outputs": [
    {
     "name": "stdout",
     "output_type": "stream",
     "text": [
      "1000\n",
      "2000\n",
      "3000\n",
      "4000\n",
      "5000\n",
      "6000\n",
      "7000\n",
      "8000\n",
      "9000\n",
      "10000\n",
      "11000\n",
      "12000\n",
      "13000\n",
      "14000\n",
      "15000\n",
      "16000\n",
      "17000\n",
      "18000\n",
      "19000\n",
      "20000\n",
      "21000\n",
      "22000\n",
      "23000\n",
      "24000\n",
      "25000\n",
      "26000\n",
      "27000\n",
      "28000\n",
      "29000\n",
      "30000\n",
      "31000\n",
      "32000\n",
      "33000\n",
      "34000\n",
      "35000\n",
      "36000\n",
      "37000\n",
      "38000\n",
      "39000\n",
      "40000\n",
      "41000\n",
      "42000\n",
      "43000\n",
      "44000\n",
      "45000\n",
      "46000\n",
      "47000\n",
      "48000\n",
      "49000\n",
      "50000\n",
      "51000\n",
      "52000\n",
      "53000\n",
      "54000\n",
      "55000\n",
      "56000\n",
      "57000\n",
      "58000\n",
      "59000\n",
      "60000\n",
      "61000\n",
      "62000\n",
      "63000\n",
      "64000\n",
      "65000\n",
      "66000\n"
     ]
    }
   ],
   "source": [
    "j = 0\n",
    "for accession in df_C.index:\n",
    "    j += 1\n",
    "    if j % 1000 == 0:\n",
    "        print(j)\n",
    "    cur_accession = df_go.loc[accession]\n",
    "    go_ids = cur_accession[df_go.loc[accession, 'domain'] == 'C']\n",
    "    \n",
    "    if isinstance(cur_accession, pd.DataFrame):\n",
    "        if go_ids.empty:\n",
    "            continue\n",
    "        if type(go_ids['GO']) is str:\n",
    "            labels = go_ids['GO']\n",
    "        else:\n",
    "            labels = ' '.join(str(x) for x in go_ids['GO'].values)\n",
    "    else:\n",
    "        labels = cur_accession['GO']\n",
    "    df_C.loc[accession, 'labels'] = labels"
   ]
  },
  {
   "cell_type": "code",
   "execution_count": 172,
   "metadata": {},
   "outputs": [],
   "source": [
    "# filter empty labels\n",
    "df_C = df_C[df_C['labels'].notnull()]"
   ]
  },
  {
   "cell_type": "code",
   "execution_count": 173,
   "metadata": {},
   "outputs": [],
   "source": [
    "df_C.to_csv('./data/cafa3/uniprot_sprot_exp_go_C.csv', index=False)"
   ]
  },
  {
   "cell_type": "code",
   "execution_count": null,
   "metadata": {},
   "outputs": [],
   "source": []
  }
 ],
 "metadata": {
  "kernelspec": {
   "display_name": "Python 3",
   "language": "python",
   "name": "python3"
  },
  "language_info": {
   "codemirror_mode": {
    "name": "ipython",
    "version": 3
   },
   "file_extension": ".py",
   "mimetype": "text/x-python",
   "name": "python",
   "nbconvert_exporter": "python",
   "pygments_lexer": "ipython3",
   "version": "3.7.3"
  }
 },
 "nbformat": 4,
 "nbformat_minor": 2
}
