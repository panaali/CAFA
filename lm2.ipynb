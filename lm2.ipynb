{
 "cells": [
  {
   "cell_type": "code",
   "execution_count": 1,
   "metadata": {},
   "outputs": [
    {
     "name": "stdout",
     "output_type": "stream",
     "text": [
      "local_project_path: ./bp_deepred/\n"
     ]
    }
   ],
   "source": [
    "local_path = './'\n",
    "\n",
    "\"\"\"## Prepare fastai\"\"\"\n",
    "from fastai import *\n",
    "from fastai.text import *\n",
    "from fastai.metrics import *\n",
    "torch.cuda.set_device(1)\n",
    "\n",
    "\"\"\"## Prepare Dataset\"\"\"\n",
    "local_project_path = local_path + 'bp_deepred/'\n",
    "if not os.path.exists(local_project_path):\n",
    "    os.makedirs(local_project_path)\n",
    "print('local_project_path:', local_project_path)\n",
    "\n",
    "\"\"\"## Create Language Model\"\"\"\n",
    "class dna_tokenizer(BaseTokenizer):\n",
    "    def tokenizer(slef, t):\n",
    "        return list(t)\n",
    "tokenizer = Tokenizer(tok_func=dna_tokenizer, pre_rules=[], post_rules=[], special_cases=[])\n",
    "processor = [TokenizeProcessor(tokenizer=tokenizer, include_bos= True, include_eos=True), NumericalizeProcessor(max_vocab=30000)]"
   ]
  },
  {
   "cell_type": "code",
   "execution_count": 13,
   "metadata": {},
   "outputs": [
    {
     "name": "stdout",
     "output_type": "stream",
     "text": [
      "data_cls Training set size 129303\n",
      "data_cls Validation set size 14368\n"
     ]
    }
   ],
   "source": [
    "# batch size\n",
    "bs = 2048\n",
    "data_lm = TextLMDataBunch.from_csv(local_project_path, 'combined.csv',\n",
    "                                   text_cols ='seq', valid_pct= 0.1, tokenizer=tokenizer,\n",
    "                                   include_bos= True, include_eos=True, bs=bs)\n",
    "print('data_cls Training set size', len(data_lm.train_ds))\n",
    "print('data_cls Validation set size', len(data_lm.valid_ds))"
   ]
  },
  {
   "cell_type": "code",
   "execution_count": 3,
   "metadata": {},
   "outputs": [
    {
     "data": {
      "text/html": [
       "<table border=\"1\" class=\"dataframe\">\n",
       "  <thead>\n",
       "    <tr style=\"text-align: right;\">\n",
       "      <th>idx</th>\n",
       "      <th>text</th>\n",
       "    </tr>\n",
       "  </thead>\n",
       "  <tbody>\n",
       "    <tr>\n",
       "      <td>0</td>\n",
       "      <td>V Y A Y V R S C P G Y T L D Y N A N G S G A G V T Q F L N N E T D F A G S D V P L N P S T G Q P D R S A E R C G S P A W D L P T V F G P I A</td>\n",
       "    </tr>\n",
       "    <tr>\n",
       "      <td>1</td>\n",
       "      <td>I N V L V F A S M L L V I S K A L F S H A C E G R R R K W V F P T L V G F S L D E G A K P L D G A S R M K L T G L S P Y W F D V S S G T A V</td>\n",
       "    </tr>\n",
       "    <tr>\n",
       "      <td>2</td>\n",
       "      <td>L G E C R Q M S S S S Q I G N D S F Q L Q V T E D V N S S I K T F F C P N D T Y N D M A T L F F N P Q E S A I L Q L F H Q D G T F S P V T L</td>\n",
       "    </tr>\n",
       "    <tr>\n",
       "      <td>3</td>\n",
       "      <td>D P K T S L Y E I P A V S S S S F F E E F G K L L R E A D E M D S I H D V T F Q V G N R L F P A H K Y I L A V H S D F F Q K L F L S D G N T</td>\n",
       "    </tr>\n",
       "    <tr>\n",
       "      <td>4</td>\n",
       "      <td>x b o s   M G V P S F F R W L S R K Y P K I I S P V L E E Q P Q I V D G V I L P L D Y S A S N P N G E L D N L Y L D M N G I V H P C S H P</td>\n",
       "    </tr>\n",
       "  </tbody>\n",
       "</table>"
      ],
      "text/plain": [
       "<IPython.core.display.HTML object>"
      ]
     },
     "metadata": {},
     "output_type": "display_data"
    }
   ],
   "source": [
    "data_lm.show_batch()"
   ]
  },
  {
   "cell_type": "code",
   "execution_count": null,
   "metadata": {},
   "outputs": [],
   "source": [
    "data_lm.vocab.itos"
   ]
  },
  {
   "cell_type": "code",
   "execution_count": 7,
   "metadata": {},
   "outputs": [],
   "source": [
    "learn_lm = language_model_learner(data_lm, AWD_LSTM, drop_mult=0.3, pretrained=False).to_fp16()"
   ]
  },
  {
   "cell_type": "code",
   "execution_count": 14,
   "metadata": {},
   "outputs": [],
   "source": [
    "learn_lm.data = data_lm"
   ]
  },
  {
   "cell_type": "code",
   "execution_count": null,
   "metadata": {},
   "outputs": [],
   "source": [
    "learn_lm.lr_find()\n",
    "learn_lm.recorder.plot(skip_end = 15)"
   ]
  },
  {
   "cell_type": "code",
   "execution_count": null,
   "metadata": {},
   "outputs": [
    {
     "data": {
      "text/html": [
       "\n",
       "    <div>\n",
       "        <style>\n",
       "            /* Turns off some styling */\n",
       "            progress {\n",
       "                /* gets rid of default border in Firefox and Opera. */\n",
       "                border: none;\n",
       "                /* Needs to be in here for Safari polyfill so background images work as expected. */\n",
       "                background-size: auto;\n",
       "            }\n",
       "            .progress-bar-interrupted, .progress-bar-interrupted::-webkit-progress-bar {\n",
       "                background: #F44336;\n",
       "            }\n",
       "        </style>\n",
       "      <progress value='0' class='' max='1', style='width:300px; height:20px; vertical-align: middle;'></progress>\n",
       "      0.00% [0/1 00:00<00:00]\n",
       "    </div>\n",
       "    \n",
       "<table border=\"1\" class=\"dataframe\">\n",
       "  <thead>\n",
       "    <tr style=\"text-align: left;\">\n",
       "      <th>epoch</th>\n",
       "      <th>train_loss</th>\n",
       "      <th>valid_loss</th>\n",
       "      <th>accuracy</th>\n",
       "      <th>time</th>\n",
       "    </tr>\n",
       "  </thead>\n",
       "  <tbody>\n",
       "  </tbody>\n",
       "</table><p>\n",
       "\n",
       "    <div>\n",
       "        <style>\n",
       "            /* Turns off some styling */\n",
       "            progress {\n",
       "                /* gets rid of default border in Firefox and Opera. */\n",
       "                border: none;\n",
       "                /* Needs to be in here for Safari polyfill so background images work as expected. */\n",
       "                background-size: auto;\n",
       "            }\n",
       "            .progress-bar-interrupted, .progress-bar-interrupted::-webkit-progress-bar {\n",
       "                background: #F44336;\n",
       "            }\n",
       "        </style>\n",
       "      <progress value='294' class='' max='510', style='width:300px; height:20px; vertical-align: middle;'></progress>\n",
       "      57.65% [294/510 10:20<07:35 2.9283]\n",
       "    </div>\n",
       "    "
      ],
      "text/plain": [
       "<IPython.core.display.HTML object>"
      ]
     },
     "metadata": {},
     "output_type": "display_data"
    }
   ],
   "source": [
    "learn_lm.fit_one_cycle(1, 1e-2/2.6**1, moms=(0.8,0.7))"
   ]
  },
  {
   "cell_type": "code",
   "execution_count": 20,
   "metadata": {},
   "outputs": [],
   "source": [
    "learn_lm.unfreeze()"
   ]
  },
  {
   "cell_type": "code",
   "execution_count": null,
   "metadata": {},
   "outputs": [],
   "source": [
    "lr=0.01\n",
    "learn_lm.fit_one_cycle(1, slice(lr), moms=(0.8,0.7))"
   ]
  },
  {
   "cell_type": "code",
   "execution_count": null,
   "metadata": {},
   "outputs": [],
   "source": [
    "learn_lm.fit_one_cycle(1, slice(1e-2), moms=(0.8,0.7))"
   ]
  }
 ],
 "metadata": {
  "kernelspec": {
   "display_name": "Python (tf-env)",
   "language": "python",
   "name": "tf-env"
  },
  "language_info": {
   "codemirror_mode": {
    "name": "ipython",
    "version": 3
   },
   "file_extension": ".py",
   "mimetype": "text/x-python",
   "name": "python",
   "nbconvert_exporter": "python",
   "pygments_lexer": "ipython3",
   "version": "3.6.8"
  }
 },
 "nbformat": 4,
 "nbformat_minor": 2
}
