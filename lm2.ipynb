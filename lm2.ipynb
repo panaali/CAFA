{
 "cells": [
  {
   "cell_type": "code",
   "execution_count": 1,
   "metadata": {},
   "outputs": [
    {
     "name": "stdout",
     "output_type": "stream",
     "text": [
      "local_project_path: ./bp_deepred/\n"
     ]
    }
   ],
   "source": [
    "local_path = './'\n",
    "\n",
    "\"\"\"## Prepare fastai\"\"\"\n",
    "from fastai import *\n",
    "from fastai.text import *\n",
    "from fastai.metrics import *\n",
    "torch.cuda.set_device(1)\n",
    "\n",
    "\"\"\"## Prepare Dataset\"\"\"\n",
    "local_project_path = local_path + 'bp_deepred/'\n",
    "if not os.path.exists(local_project_path):\n",
    "    os.makedirs(local_project_path)\n",
    "print('local_project_path:', local_project_path)\n",
    "\n",
    "\"\"\"## Create Language Model\"\"\"\n",
    "class dna_tokenizer(BaseTokenizer):\n",
    "    def tokenizer(slef, t):\n",
    "        return list(t)\n",
    "tokenizer = Tokenizer(tok_func=dna_tokenizer, pre_rules=[], post_rules=[], special_cases=[])\n",
    "processor = [TokenizeProcessor(tokenizer=tokenizer, include_bos= True, include_eos=True), NumericalizeProcessor(max_vocab=30000)]"
   ]
  },
  {
   "cell_type": "code",
   "execution_count": 13,
   "metadata": {},
   "outputs": [
    {
     "name": "stdout",
     "output_type": "stream",
     "text": [
      "data_cls Training set size 129303\n",
      "data_cls Validation set size 14368\n"
     ]
    }
   ],
   "source": [
    "# batch size\n",
    "bs = 2048\n",
    "data_lm = TextLMDataBunch.from_csv(local_project_path, 'combined.csv',\n",
    "                                   text_cols ='seq', valid_pct= 0.1, tokenizer=tokenizer,\n",
    "                                   include_bos= True, include_eos=True, bs=bs)\n",
    "print('data_cls Training set size', len(data_lm.train_ds))\n",
    "print('data_cls Validation set size', len(data_lm.valid_ds))"
   ]
  },
  {
   "cell_type": "code",
   "execution_count": 3,
   "metadata": {},
   "outputs": [
    {
     "data": {
      "text/html": [
       "<table border=\"1\" class=\"dataframe\">\n",
       "  <thead>\n",
       "    <tr style=\"text-align: right;\">\n",
       "      <th>idx</th>\n",
       "      <th>text</th>\n",
       "    </tr>\n",
       "  </thead>\n",
       "  <tbody>\n",
       "    <tr>\n",
       "      <td>0</td>\n",
       "      <td>V Y A Y V R S C P G Y T L D Y N A N G S G A G V T Q F L N N E T D F A G S D V P L N P S T G Q P D R S A E R C G S P A W D L P T V F G P I A</td>\n",
       "    </tr>\n",
       "    <tr>\n",
       "      <td>1</td>\n",
       "      <td>I N V L V F A S M L L V I S K A L F S H A C E G R R R K W V F P T L V G F S L D E G A K P L D G A S R M K L T G L S P Y W F D V S S G T A V</td>\n",
       "    </tr>\n",
       "    <tr>\n",
       "      <td>2</td>\n",
       "      <td>L G E C R Q M S S S S Q I G N D S F Q L Q V T E D V N S S I K T F F C P N D T Y N D M A T L F F N P Q E S A I L Q L F H Q D G T F S P V T L</td>\n",
       "    </tr>\n",
       "    <tr>\n",
       "      <td>3</td>\n",
       "      <td>D P K T S L Y E I P A V S S S S F F E E F G K L L R E A D E M D S I H D V T F Q V G N R L F P A H K Y I L A V H S D F F Q K L F L S D G N T</td>\n",
       "    </tr>\n",
       "    <tr>\n",
       "      <td>4</td>\n",
       "      <td>x b o s   M G V P S F F R W L S R K Y P K I I S P V L E E Q P Q I V D G V I L P L D Y S A S N P N G E L D N L Y L D M N G I V H P C S H P</td>\n",
       "    </tr>\n",
       "  </tbody>\n",
       "</table>"
      ],
      "text/plain": [
       "<IPython.core.display.HTML object>"
      ]
     },
     "metadata": {},
     "output_type": "display_data"
    }
   ],
   "source": [
    "data_lm.show_batch()"
   ]
  },
  {
   "cell_type": "code",
   "execution_count": null,
   "metadata": {},
   "outputs": [],
   "source": [
    "data_lm.vocab.itos"
   ]
  },
  {
   "cell_type": "code",
   "execution_count": 7,
   "metadata": {},
   "outputs": [],
   "source": [
    "learn_lm = language_model_learner(data_lm, AWD_LSTM, drop_mult=0.3, pretrained=False).to_fp16()"
   ]
  },
  {
   "cell_type": "code",
   "execution_count": 14,
   "metadata": {},
   "outputs": [],
   "source": [
    "learn_lm.data = data_lm"
   ]
  },
  {
   "cell_type": "code",
<<<<<<< HEAD
   "execution_count": 16,
   "metadata": {},
   "outputs": [
    {
     "data": {
      "text/html": [],
      "text/plain": [
       "<IPython.core.display.HTML object>"
      ]
     },
     "metadata": {},
     "output_type": "display_data"
    },
    {
     "name": "stdout",
     "output_type": "stream",
     "text": [
      "LR Finder is complete, type {learner_name}.recorder.plot() to see the graph.\n"
     ]
    },
    {
     "data": {
      "image/png": "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\n",
      "text/plain": [
       "<Figure size 432x288 with 1 Axes>"
      ]
     },
     "metadata": {
      "needs_background": "light"
     },
     "output_type": "display_data"
    }
   ],
   "execution_count": null,
   "metadata": {},
   "outputs": [],
   "source": [
    "learn_lm.lr_find()\n",
    "learn_lm.recorder.plot(skip_end = 15)"
   ]
  },
  {
   "cell_type": "code",
   "execution_count": 15,
   "metadata": {},
   "outputs": [
    {
     "data": {
      "text/html": [
       "\n",
       "    <div>\n",
       "        <style>\n",
       "            /* Turns off some styling */\n",
       "            progress {\n",
       "                /* gets rid of default border in Firefox and Opera. */\n",
       "                border: none;\n",
       "                /* Needs to be in here for Safari polyfill so background images work as expected. */\n",
       "                background-size: auto;\n",
       "            }\n",
       "            .progress-bar-interrupted, .progress-bar-interrupted::-webkit-progress-bar {\n",
       "                background: #F44336;\n",
       "            }\n",
       "        </style>\n",
       "      <progress value='0' class='' max='1', style='width:300px; height:20px; vertical-align: middle;'></progress>\n",
       "      0.00% [0/1 00:00<00:00]\n",
       "    </div>\n",
       "    \n",
       "<table border=\"1\" class=\"dataframe\">\n",
       "  <thead>\n",
       "    <tr style=\"text-align: left;\">\n",
       "      <th>epoch</th>\n",
       "      <th>train_loss</th>\n",
       "      <th>valid_loss</th>\n",
       "      <th>accuracy</th>\n",
       "      <th>time</th>\n",
       "    </tr>\n",
       "  </thead>\n",
       "  <tbody>\n",
       "    <tr>\n",
       "      <td>0</td>\n",
       "      <td>2.864710</td>\n",
       "      <td>2.859772</td>\n",
       "      <td>0.111787</td>\n",
       "      <td>18:35</td>\n",
       "    </tr>\n",
       "  </tbody>\n",
       "</table>"
       "\n",
       "    <div>\n",
       "        <style>\n",
       "            /* Turns off some styling */\n",
       "            progress {\n",
       "                /* gets rid of default border in Firefox and Opera. */\n",
       "                border: none;\n",
       "                /* Needs to be in here for Safari polyfill so background images work as expected. */\n",
       "                background-size: auto;\n",
       "            }\n",
       "            .progress-bar-interrupted, .progress-bar-interrupted::-webkit-progress-bar {\n",
       "                background: #F44336;\n",
       "            }\n",
       "        </style>\n",
       "      <progress value='294' class='' max='510', style='width:300px; height:20px; vertical-align: middle;'></progress>\n",
       "      57.65% [294/510 10:20<07:35 2.9283]\n",
       "    </div>\n",
       "    "
      ],
      "text/plain": [
       "<IPython.core.display.HTML object>"
      ]
     },
     "metadata": {},
     "output_type": "display_data"
    }
   ],
   "source": [
    "learn_lm.fit_one_cycle(1, 1e-2/2.6**1, moms=(0.8,0.7))"
   ]
  },
  {
   "cell_type": "code",
   "execution_count": 20,
   "metadata": {},
   "outputs": [],
   "source": [
    "learn_lm.unfreeze()"
   ]
  },
  {
   "cell_type": "code",
   "execution_count": null,
   "metadata": {},
   "outputs": [],
   "source": [
    "lr=0.01\n",
    "learn_lm.fit_one_cycle(1, slice(lr), moms=(0.8,0.7))"
   ]
  },
  {
   "cell_type": "code",
   "execution_count": null,
   "metadata": {},
   "outputs": [],
   "source": [
    "learn_lm.fit_one_cycle(1, slice(1e-2), moms=(0.8,0.7))"
   ]
  }
 ],
 "metadata": {
  "kernelspec": {
   "display_name": "Python (tf-env)",
   "language": "python",
   "name": "tf-env"
  },
  "language_info": {
   "codemirror_mode": {
    "name": "ipython",
    "version": 3
   },
   "file_extension": ".py",
   "mimetype": "text/x-python",
   "name": "python",
   "nbconvert_exporter": "python",
   "pygments_lexer": "ipython3",
   "version": "3.6.8"
  }
 },
 "nbformat": 4,
 "nbformat_minor": 2
}
