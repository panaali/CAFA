{
 "cells": [
  {
   "cell_type": "code",
   "execution_count": 1,
   "metadata": {},
   "outputs": [],
   "source": [
    "import pandas as pd\n",
    "import numpy as np\n",
    "import glob\n",
    "import matplotlib.pyplot as plt\n",
    "from Bio import SeqIO"
   ]
  },
  {
   "cell_type": "code",
   "execution_count": 2,
   "metadata": {},
   "outputs": [],
   "source": [
    "fasta_file = 'BP_deepred_training_sequences.fasta'\n",
    "fasta_path = './DEEPred-master/FastaFiles/deeppred/'\n",
    "\n",
    "col_ids = []\n",
    "col_seqs = []\n",
    "for seq_record in SeqIO.parse(fasta_path + fasta_file, \"fasta\"):\n",
    "    col_ids.append(seq_record.id)\n",
    "    col_seqs.append(str(seq_record.seq))\n",
    "cols = {'id': col_ids, 'seq': col_seqs}"
   ]
  },
  {
   "cell_type": "code",
   "execution_count": 3,
   "metadata": {},
   "outputs": [],
   "source": [
    "df = pd.DataFrame(data=cols)"
   ]
  },
  {
   "cell_type": "code",
   "execution_count": 4,
   "metadata": {},
   "outputs": [],
   "source": [
    "df.to_csv('./bp_deepred/BP_deepred_training_sequences.csv', index=False)"
   ]
  },
  {
   "cell_type": "code",
   "execution_count": 5,
   "metadata": {},
   "outputs": [
    {
     "data": {
      "text/plain": [
       "45873"
      ]
     },
     "execution_count": 5,
     "metadata": {},
     "output_type": "execute_result"
    }
   ],
   "source": [
    "len(df)"
   ]
  },
  {
   "cell_type": "code",
   "execution_count": 6,
   "metadata": {},
   "outputs": [
    {
     "name": "stdout",
     "output_type": "stream",
     "text": [
      "DEEPred-master/FastaFiles/deeppred/BP_deepred_training_sequences.fasta\n",
      "DEEPred-master/FastaFiles/deeppred/CC_deepred_training_sequences.fasta\n",
      "DEEPred-master/FastaFiles/deeppred/MF_deepred_training_sequences.fasta\n",
      "DEEPred-master/FastaFiles/cafa/mfo_cafa_only_annot_prot.fasta\n",
      "DEEPred-master/FastaFiles/cafa/cco_cafa_only_annot_prot.fasta\n",
      "DEEPred-master/FastaFiles/cafa/bpo_cafa_only_annot_prot.fasta\n"
     ]
    }
   ],
   "source": [
    "col_ids = []\n",
    "col_seqs = []\n",
    "for file_name in glob.glob('**/*.fasta', recursive=True):\n",
    "    print(file_name)\n",
    "    for seq_record in SeqIO.parse(file_name, \"fasta\"):\n",
    "        col_ids.append(seq_record.id)\n",
    "        col_seqs.append(str(seq_record.seq))\n",
    "cols = {'id': col_ids, 'seq': col_seqs}"
   ]
  },
  {
   "cell_type": "code",
   "execution_count": 7,
   "metadata": {},
   "outputs": [],
   "source": [
    "df = pd.DataFrame(data=cols)"
   ]
  },
  {
   "cell_type": "code",
   "execution_count": 8,
   "metadata": {},
   "outputs": [
    {
     "data": {
      "text/plain": [
       "143671"
      ]
     },
     "execution_count": 8,
     "metadata": {},
     "output_type": "execute_result"
    }
   ],
   "source": [
    "len(df)"
   ]
  },
  {
   "cell_type": "code",
   "execution_count": 9,
   "metadata": {},
   "outputs": [],
   "source": [
    "df = df.drop_duplicates()"
   ]
  },
  {
   "cell_type": "code",
   "execution_count": 10,
   "metadata": {},
   "outputs": [
    {
     "data": {
      "text/plain": [
       "71875"
      ]
     },
     "execution_count": 10,
     "metadata": {},
     "output_type": "execute_result"
    }
   ],
   "source": [
    "len(df)"
   ]
  },
  {
   "cell_type": "code",
   "execution_count": 11,
   "metadata": {},
   "outputs": [
    {
     "data": {
      "text/html": [
       "<div>\n",
       "<style scoped>\n",
       "    .dataframe tbody tr th:only-of-type {\n",
       "        vertical-align: middle;\n",
       "    }\n",
       "\n",
       "    .dataframe tbody tr th {\n",
       "        vertical-align: top;\n",
       "    }\n",
       "\n",
       "    .dataframe thead th {\n",
       "        text-align: right;\n",
       "    }\n",
       "</style>\n",
       "<table border=\"1\" class=\"dataframe\">\n",
       "  <thead>\n",
       "    <tr style=\"text-align: right;\">\n",
       "      <th></th>\n",
       "      <th>id</th>\n",
       "      <th>seq</th>\n",
       "    </tr>\n",
       "  </thead>\n",
       "  <tbody>\n",
       "    <tr>\n",
       "      <th>86990</th>\n",
       "      <td>sp|Q9JLI8|SART3_MOUSE</td>\n",
       "      <td>MATTAASSASEPEVEPQAGPEAEGEEDEAKPAGVQRKVLSGAVAAE...</td>\n",
       "    </tr>\n",
       "    <tr>\n",
       "      <th>28399</th>\n",
       "      <td>sp|Q08695|MST1_DROHY</td>\n",
       "      <td>MSFLSRFVCAVPRQAIFRTFSTLTGSSGCKYLPESTFNTIQKVSFC...</td>\n",
       "    </tr>\n",
       "    <tr>\n",
       "      <th>44181</th>\n",
       "      <td>sp|P61375|LHX5_MOUSE</td>\n",
       "      <td>MMVHCAGCERPILDRFLLNVLDRAWHIKCVQCCECKTNLSEKCFSR...</td>\n",
       "    </tr>\n",
       "    <tr>\n",
       "      <th>35391</th>\n",
       "      <td>sp|P21453|S1PR1_HUMAN</td>\n",
       "      <td>MGPTSVPLVKAHRSSVSDYVNYDIIVRHYNYTGKLNISADKENSIK...</td>\n",
       "    </tr>\n",
       "    <tr>\n",
       "      <th>14682</th>\n",
       "      <td>sp|Q27J49|BNP_LACMU</td>\n",
       "      <td>MFVSRLAASGLLLLALLAVSLDGKPVQQWSHKGWPPRPQIPPLVVQ...</td>\n",
       "    </tr>\n",
       "  </tbody>\n",
       "</table>\n",
       "</div>"
      ],
      "text/plain": [
       "                          id  \\\n",
       "86990  sp|Q9JLI8|SART3_MOUSE   \n",
       "28399   sp|Q08695|MST1_DROHY   \n",
       "44181   sp|P61375|LHX5_MOUSE   \n",
       "35391  sp|P21453|S1PR1_HUMAN   \n",
       "14682    sp|Q27J49|BNP_LACMU   \n",
       "\n",
       "                                                     seq  \n",
       "86990  MATTAASSASEPEVEPQAGPEAEGEEDEAKPAGVQRKVLSGAVAAE...  \n",
       "28399  MSFLSRFVCAVPRQAIFRTFSTLTGSSGCKYLPESTFNTIQKVSFC...  \n",
       "44181  MMVHCAGCERPILDRFLLNVLDRAWHIKCVQCCECKTNLSEKCFSR...  \n",
       "35391  MGPTSVPLVKAHRSSVSDYVNYDIIVRHYNYTGKLNISADKENSIK...  \n",
       "14682  MFVSRLAASGLLLLALLAVSLDGKPVQQWSHKGWPPRPQIPPLVVQ...  "
      ]
     },
     "execution_count": 11,
     "metadata": {},
     "output_type": "execute_result"
    }
   ],
   "source": [
    "df.sample(5)"
   ]
  },
  {
   "cell_type": "code",
   "execution_count": 12,
   "metadata": {},
   "outputs": [],
   "source": [
    "df.to_csv('./bp_deepred/combined2.csv', index=False)"
   ]
  },
  {
   "cell_type": "code",
   "execution_count": null,
   "metadata": {},
   "outputs": [],
   "source": []
  }
 ],
 "metadata": {
  "kernelspec": {
   "display_name": "Python (tf-env)",
   "language": "python",
   "name": "tf-env"
  },
  "language_info": {
   "codemirror_mode": {
    "name": "ipython",
    "version": 3
   },
   "file_extension": ".py",
   "mimetype": "text/x-python",
   "name": "python",
   "nbconvert_exporter": "python",
   "pygments_lexer": "ipython3",
   "version": "3.6.8"
  }
 },
 "nbformat": 4,
 "nbformat_minor": 2
}
