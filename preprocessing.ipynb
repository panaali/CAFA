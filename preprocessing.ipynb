{
 "cells": [
  {
   "cell_type": "code",
   "execution_count": 27,
   "metadata": {},
   "outputs": [],
   "source": [
    "import pandas as pd\n",
    "import numpy as np\n",
    "import glob\n",
    "import matplotlib.pyplot as plt\n",
    "from Bio import SeqIO"
   ]
  },
  {
   "cell_type": "code",
   "execution_count": 28,
   "metadata": {},
   "outputs": [],
   "source": [
    "fasta_file = 'BP_deepred_training_sequences.fasta'\n",
    "fasta_path = './DEEPred-master/FastaFiles/deeppred/'\n",
    "\n",
    "col_ids = []\n",
    "col_seqs = []\n",
    "for seq_record in SeqIO.parse(fasta_path + fasta_file, \"fasta\"):\n",
    "    col_ids.append(seq_record.id)\n",
    "    col_seqs.append(str(seq_record.seq))\n",
    "cols = {'id': col_ids, 'seq': col_seqs}"
   ]
  },
  {
   "cell_type": "code",
   "execution_count": 29,
   "metadata": {},
   "outputs": [],
   "source": [
    "df = pd.DataFrame(data=cols)"
   ]
  },
  {
   "cell_type": "code",
   "execution_count": 30,
   "metadata": {},
   "outputs": [],
   "source": [
    "df.to_csv('BP_deepred_training_sequences.csv', index=False)"
   ]
  },
  {
   "cell_type": "code",
   "execution_count": 31,
   "metadata": {},
   "outputs": [
    {
     "data": {
      "text/plain": [
       "45873"
      ]
     },
     "execution_count": 31,
     "metadata": {},
     "output_type": "execute_result"
    }
   ],
   "source": [
    "len(df)"
   ]
  },
  {
   "cell_type": "code",
   "execution_count": 32,
   "metadata": {},
   "outputs": [
    {
     "name": "stdout",
     "output_type": "stream",
     "text": [
      "DEEPred-master/FastaFiles/deeppred/BP_deepred_training_sequences.fasta\n",
      "DEEPred-master/FastaFiles/deeppred/CC_deepred_training_sequences.fasta\n",
      "DEEPred-master/FastaFiles/deeppred/MF_deepred_training_sequences.fasta\n",
      "DEEPred-master/FastaFiles/cafa/mfo_cafa_only_annot_prot.fasta\n",
      "DEEPred-master/FastaFiles/cafa/cco_cafa_only_annot_prot.fasta\n",
      "DEEPred-master/FastaFiles/cafa/bpo_cafa_only_annot_prot.fasta\n"
     ]
    }
   ],
   "source": [
    "col_ids = []\n",
    "col_seqs = []\n",
    "for file_name in glob.glob('**/*.fasta', recursive=True):\n",
    "    print(file_name)\n",
    "    for seq_record in SeqIO.parse(file_name, \"fasta\"):\n",
    "        col_ids.append(seq_record.id)\n",
    "        col_seqs.append(str(seq_record.seq))\n",
    "cols = {'id': col_ids, 'seq': col_seqs}"
   ]
  },
  {
   "cell_type": "code",
   "execution_count": 33,
   "metadata": {},
   "outputs": [],
   "source": [
    "df = pd.DataFrame(data=cols)"
   ]
  },
  {
   "cell_type": "code",
   "execution_count": 35,
   "metadata": {},
   "outputs": [
    {
     "data": {
      "text/html": [
       "<div>\n",
       "<style scoped>\n",
       "    .dataframe tbody tr th:only-of-type {\n",
       "        vertical-align: middle;\n",
       "    }\n",
       "\n",
       "    .dataframe tbody tr th {\n",
       "        vertical-align: top;\n",
       "    }\n",
       "\n",
       "    .dataframe thead th {\n",
       "        text-align: right;\n",
       "    }\n",
       "</style>\n",
       "<table border=\"1\" class=\"dataframe\">\n",
       "  <thead>\n",
       "    <tr style=\"text-align: right;\">\n",
       "      <th></th>\n",
       "      <th>id</th>\n",
       "      <th>seq</th>\n",
       "    </tr>\n",
       "  </thead>\n",
       "  <tbody>\n",
       "    <tr>\n",
       "      <th>81297</th>\n",
       "      <td>sp|Q9SJB3|PMA5_ARATH</td>\n",
       "      <td>MSELDHIKNESVDLVRIPMEEVFEELKCTKQGLTANEASHRLDVFG...</td>\n",
       "    </tr>\n",
       "    <tr>\n",
       "      <th>24522</th>\n",
       "      <td>sp|P53035|MIG2_YEAST</td>\n",
       "      <td>MPKKQTNFPVDNENRPFRCDTCHRGFHRLEHKKRHLRTHTGEKPHH...</td>\n",
       "    </tr>\n",
       "    <tr>\n",
       "      <th>90052</th>\n",
       "      <td>sp|P00514|KAP0_BOVIN</td>\n",
       "      <td>MASGTTASEEERSLRECELYVQKHNIQALLKDSIVQLCTARPERPM...</td>\n",
       "    </tr>\n",
       "    <tr>\n",
       "      <th>55170</th>\n",
       "      <td>sp|Q556J0|TKT_DICDI</td>\n",
       "      <td>MSNIDFKALERAANETRGLSMDAVAKAASGHLGLPLGSAEIGAALF...</td>\n",
       "    </tr>\n",
       "    <tr>\n",
       "      <th>23515</th>\n",
       "      <td>sp|Q09728|CUF1_SCHPO</td>\n",
       "      <td>MVVINNVKMACMKCIRGHRSSTCKHNDRELFPIRPKGRPISQCEKC...</td>\n",
       "    </tr>\n",
       "  </tbody>\n",
       "</table>\n",
       "</div>"
      ],
      "text/plain": [
       "                         id                                                seq\n",
       "81297  sp|Q9SJB3|PMA5_ARATH  MSELDHIKNESVDLVRIPMEEVFEELKCTKQGLTANEASHRLDVFG...\n",
       "24522  sp|P53035|MIG2_YEAST  MPKKQTNFPVDNENRPFRCDTCHRGFHRLEHKKRHLRTHTGEKPHH...\n",
       "90052  sp|P00514|KAP0_BOVIN  MASGTTASEEERSLRECELYVQKHNIQALLKDSIVQLCTARPERPM...\n",
       "55170   sp|Q556J0|TKT_DICDI  MSNIDFKALERAANETRGLSMDAVAKAASGHLGLPLGSAEIGAALF...\n",
       "23515  sp|Q09728|CUF1_SCHPO  MVVINNVKMACMKCIRGHRSSTCKHNDRELFPIRPKGRPISQCEKC..."
      ]
     },
     "execution_count": 35,
     "metadata": {},
     "output_type": "execute_result"
    }
   ],
   "source": [
    "df.sample(5)"
   ]
  },
  {
   "cell_type": "code",
   "execution_count": 36,
   "metadata": {},
   "outputs": [],
   "source": [
    "df.to_csv('./bp_deepred/combined.csv', index=False)"
   ]
  },
  {
   "cell_type": "code",
   "execution_count": null,
   "metadata": {},
   "outputs": [],
   "source": []
  }
 ],
 "metadata": {
  "kernelspec": {
   "display_name": "Python (tf-env)",
   "language": "python",
   "name": "tf-env"
  },
  "language_info": {
   "codemirror_mode": {
    "name": "ipython",
    "version": 3
   },
   "file_extension": ".py",
   "mimetype": "text/x-python",
   "name": "python",
   "nbconvert_exporter": "python",
   "pygments_lexer": "ipython3",
   "version": "3.6.8"
  }
 },
 "nbformat": 4,
 "nbformat_minor": 2
}
