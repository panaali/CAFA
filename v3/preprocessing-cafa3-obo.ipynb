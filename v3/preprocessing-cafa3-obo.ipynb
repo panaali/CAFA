{
 "cells": [
  {
   "cell_type": "code",
   "execution_count": 71,
   "metadata": {},
   "outputs": [],
   "source": [
    "import pandas as pd\n",
    "import numpy as np\n",
    "import glob\n",
    "import matplotlib.pyplot as plt\n",
    "from Bio import SeqIO\n",
    "from ttictoc import TicToc\n"
   ]
  },
  {
   "cell_type": "code",
   "execution_count": 2,
   "metadata": {},
   "outputs": [],
   "source": [
    "from Ontology.IO import OboIO"
   ]
  },
  {
   "cell_type": "code",
   "execution_count": 3,
   "metadata": {},
   "outputs": [],
   "source": [
    "obo_file = 'gene_ontology_edit.obo.2016-06-01'\n",
    "obo_path = '../data/cafa3/Gene Ontology Hirarchy/'"
   ]
  },
  {
   "cell_type": "code",
   "execution_count": 12,
   "metadata": {},
   "outputs": [],
   "source": [
    "obo_parser = OboIO.OboReader(open(obo_path + obo_file))"
   ]
  },
  {
   "cell_type": "code",
   "execution_count": 13,
   "metadata": {},
   "outputs": [],
   "source": [
    "ontology = obo_parser.read()"
   ]
  },
  {
   "cell_type": "code",
   "execution_count": 61,
   "metadata": {},
   "outputs": [
    {
     "name": "stdout",
     "output_type": "stream",
     "text": [
      "GO:0000001\n",
      "{'GO:0051641', 'GO:0048308', 'GO:0051646', 'GO:0044763', 'GO:1902578', 'GO:0051640', 'GO:0051179', 'GO:0016043', 'GO:0007005', 'GO:1902580', 'GO:0009987', 'GO:0006996', 'GO:0071840', 'GO:0008150', 'GO:1902589', 'GO:0048311', 'GO:0044699'}\n",
      "17\n"
     ]
    }
   ],
   "source": [
    "j = 0\n",
    "for node in ontology.get_ids(): \n",
    "    print(node)\n",
    "    j += 1\n",
    "    print(ontology.get_ancestors(node))\n",
    "    print(len(ontology.get_ancestors(node)))\n",
    "    if j > 0:\n",
    "        break"
   ]
  },
  {
   "cell_type": "code",
   "execution_count": 21,
   "metadata": {},
   "outputs": [
    {
     "data": {
      "text/plain": [
       "'biological_process'"
      ]
     },
     "execution_count": 21,
     "metadata": {},
     "output_type": "execute_result"
    }
   ],
   "source": [
    "ontology.namespace['GO:0051641']"
   ]
  },
  {
   "cell_type": "code",
   "execution_count": 27,
   "metadata": {},
   "outputs": [
    {
     "data": {
      "text/plain": [
       "46672"
      ]
     },
     "execution_count": 27,
     "metadata": {},
     "output_type": "execute_result"
    }
   ],
   "source": [
    "len(ontology.get_ids())"
   ]
  },
  {
   "cell_type": "code",
   "execution_count": 29,
   "metadata": {},
   "outputs": [],
   "source": [
    "obo_tax_file = 'ncbitaxon.obo'\n",
    "obo_tax_path = '../data/cafa3/Gene Ontology Hirarchy/'"
   ]
  },
  {
   "cell_type": "code",
   "execution_count": null,
   "metadata": {},
   "outputs": [],
   "source": [
    "obo_parser_tax = OboIO.OboReader(open(obo_tax_path + obo_tax_file))\n",
    "ontology_tax = obo_parser_tax.read()"
   ]
  },
  {
   "cell_type": "code",
   "execution_count": 37,
   "metadata": {},
   "outputs": [
    {
     "name": "stdout",
     "output_type": "stream",
     "text": [
      "../data/cafa3/Gene Ontology Hirarchy/ncbitaxon.obo: fmt(1.2) rel(2018-07-27) 1,877,499 GO Terms\n"
     ]
    }
   ],
   "source": [
    "from goatools import obo_parser\n",
    "p_tax = obo_parser.GODag(obo_tax_path + obo_tax_file)"
   ]
  },
  {
   "cell_type": "code",
   "execution_count": 38,
   "metadata": {},
   "outputs": [
    {
     "data": {
      "text/plain": [
       "GOTerm('NCBITaxon:10'):\n",
       "  id:NCBITaxon:10\n",
       "  item_id:NCBITaxon:10\n",
       "  name:Cellvibrio\n",
       "  namespace:ncbi_taxonomy\n",
       "  _parents: 1 items\n",
       "    NCBITaxon:1706371\n",
       "  parents: 1 items\n",
       "    NCBITaxon:1706371\tlevel-06\tdepth-06\tCellvibrionaceae [ncbi_taxonomy]\n",
       "  children: 50 items\n",
       "  level:7\n",
       "  depth:7\n",
       "  is_obsolete:False\n",
       "  alt_ids: 0 items"
      ]
     },
     "execution_count": 38,
     "metadata": {},
     "output_type": "execute_result"
    }
   ],
   "source": [
    "p_tax['NCBITaxon:10']"
   ]
  },
  {
   "cell_type": "code",
   "execution_count": 39,
   "metadata": {},
   "outputs": [
    {
     "name": "stdout",
     "output_type": "stream",
     "text": [
      "../data/cafa3/Gene Ontology Hirarchy/gene_ontology_edit.obo.2016-06-01: fmt(1.2) rel(2016-05-31) 44,636 GO Terms\n"
     ]
    }
   ],
   "source": [
    "from goatools import obo_parser\n",
    "p = obo_parser.GODag(obo_path + obo_file)"
   ]
  },
  {
   "cell_type": "code",
   "execution_count": 53,
   "metadata": {},
   "outputs": [
    {
     "data": {
      "text/plain": [
       "GOTerm('GO:0051641'):\n",
       "  id:GO:0051641\n",
       "  item_id:GO:0051641\n",
       "  name:cellular localization\n",
       "  namespace:biological_process\n",
       "  _parents: 1 items\n",
       "    GO:0051179\n",
       "  parents: 1 items\n",
       "    GO:0051179\tlevel-01\tdepth-01\tlocalization [biological_process]\n",
       "  children: 8 items\n",
       "    GO:0070631\tlevel-03\tdepth-03\tspindle pole body localization [biological_process]\n",
       "    GO:0051666\tlevel-03\tdepth-03\tactin cortical patch localization [biological_process]\n",
       "    GO:0071166\tlevel-03\tdepth-03\tribonucleoprotein complex localization [biological_process]\n",
       "    GO:0051640\tlevel-03\tdepth-03\torganelle localization [biological_process]\n",
       "    GO:1902580\tlevel-03\tdepth-03\tsingle-organism cellular localization [biological_process]\n",
       "    GO:0051668\tlevel-03\tdepth-03\tlocalization within membrane [biological_process]\n",
       "    GO:1902581\tlevel-03\tdepth-03\tmulti-organism cellular localization [biological_process]\n",
       "    GO:0070727\tlevel-03\tdepth-03\tcellular macromolecule localization [biological_process]\n",
       "  level:2\n",
       "  depth:2\n",
       "  is_obsolete:False\n",
       "  alt_ids: 0 items"
      ]
     },
     "execution_count": 53,
     "metadata": {},
     "output_type": "execute_result"
    }
   ],
   "source": [
    "samp = p['GO:0051641']; samp"
   ]
  },
  {
   "cell_type": "code",
   "execution_count": 51,
   "metadata": {},
   "outputs": [
    {
     "data": {
      "text/plain": [
       "{'GO:0008150', 'GO:0051179'}"
      ]
     },
     "execution_count": 51,
     "metadata": {},
     "output_type": "execute_result"
    }
   ],
   "source": [
    "samp.get_all_parents() #maybe a better option"
   ]
  },
  {
   "cell_type": "code",
   "execution_count": 54,
   "metadata": {},
   "outputs": [
    {
     "data": {
      "text/plain": [
       "GOTerm('GO:0008150'):\n",
       "  id:GO:0008150\n",
       "  item_id:GO:0008150\n",
       "  name:biological_process\n",
       "  namespace:biological_process\n",
       "  _parents: 0 items\n",
       "  parents: 0 items\n",
       "  children: 24 items\n",
       "  level:0\n",
       "  depth:0\n",
       "  is_obsolete:False\n",
       "  alt_ids: 2 items\n",
       "    GO:0007582\n",
       "    GO:0000004"
      ]
     },
     "execution_count": 54,
     "metadata": {},
     "output_type": "execute_result"
    }
   ],
   "source": [
    "p['GO:0008150']"
   ]
  },
  {
   "cell_type": "code",
   "execution_count": 58,
   "metadata": {},
   "outputs": [
    {
     "data": {
      "text/plain": [
       "{'GO:0006996',\n",
       " 'GO:0007005',\n",
       " 'GO:0008150',\n",
       " 'GO:0009987',\n",
       " 'GO:0016043',\n",
       " 'GO:0044699',\n",
       " 'GO:0044763',\n",
       " 'GO:0048308',\n",
       " 'GO:0048311',\n",
       " 'GO:0051179',\n",
       " 'GO:0051640',\n",
       " 'GO:0051641',\n",
       " 'GO:0051646',\n",
       " 'GO:0071840',\n",
       " 'GO:1902578',\n",
       " 'GO:1902580',\n",
       " 'GO:1902589'}"
      ]
     },
     "execution_count": 58,
     "metadata": {},
     "output_type": "execute_result"
    }
   ],
   "source": [
    "p['GO:0000001'].get_all_parents()"
   ]
  },
  {
   "cell_type": "code",
   "execution_count": 63,
   "metadata": {},
   "outputs": [
    {
     "data": {
      "text/plain": [
       "17"
      ]
     },
     "execution_count": 63,
     "metadata": {},
     "output_type": "execute_result"
    }
   ],
   "source": [
    "len(p['GO:0000001'].get_all_parents())"
   ]
  },
  {
   "cell_type": "code",
   "execution_count": 74,
   "metadata": {},
   "outputs": [],
   "source": [
    "# from Bio import SwissProt\n",
    "# dat_path = '../data/uniprot_sprot/uniprot_sprot-only2017_01/'\n",
    "# dat_file = \"uniprot_sprot.dat\"\n",
    "# df_sp = []\n",
    "\n",
    "# j= 0\n",
    "# handle = open(dat_path + dat_file)\n",
    "# for record in SwissProt.parse(handle):\n",
    "#     df_sp.append(vars(record))\n",
    "#     j += 1\n",
    "#     if j > 5:\n",
    "#         break "
   ]
  },
  {
   "cell_type": "code",
   "execution_count": 77,
   "metadata": {},
   "outputs": [],
   "source": [
    "# df_sp = pd.DataFrame(df_sp)"
   ]
  },
  {
   "cell_type": "code",
   "execution_count": 79,
   "metadata": {},
   "outputs": [],
   "source": [
    "# df_sp"
   ]
  }
 ],
 "metadata": {
  "kernelspec": {
   "display_name": "Python 3",
   "language": "python",
   "name": "python3"
  },
  "language_info": {
   "codemirror_mode": {
    "name": "ipython",
    "version": 3
   },
   "file_extension": ".py",
   "mimetype": "text/x-python",
   "name": "python",
   "nbconvert_exporter": "python",
   "pygments_lexer": "ipython3",
   "version": "3.7.3"
  }
 },
 "nbformat": 4,
 "nbformat_minor": 2
}
