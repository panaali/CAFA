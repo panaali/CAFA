{
 "cells": [
  {
   "cell_type": "code",
   "execution_count": 1,
   "metadata": {},
   "outputs": [
    {
     "name": "stdout",
     "output_type": "stream",
     "text": [
      "local_project_path: ../data/proteinnet/\n"
     ]
    }
   ],
   "source": [
    "local_path = '../'\n",
    "\n",
    "\"\"\"## Prepare fastai\"\"\"\n",
    "from fastai import *\n",
    "from fastai.text import *\n",
    "from fastai.metrics import *\n",
    "torch.cuda.set_device(2)\n",
    "np.random.seed(0)\n",
    "\"\"\"## Prepare Dataset\"\"\"\n",
    "local_project_path = local_path + 'data/proteinnet/'\n",
    "if not os.path.exists(local_project_path):\n",
    "    os.makedirs(local_project_path)\n",
    "print('local_project_path:', local_project_path)\n",
    "\n",
    "\"\"\"## Create Language Model\"\"\"\n",
    "class dna_tokenizer(BaseTokenizer):\n",
    "    def tokenizer(self, t):\n",
    "        res = []\n",
    "        tokens = t.split(' ')\n",
    "        before_seq = tokens[:-2]\n",
    "        seq = tokens[-2]\n",
    "        eos = tokens[-1]\n",
    "        \n",
    "        res = before_seq\n",
    "        res += list(seq) # sequence string to list\n",
    "        res.append(eos)\n",
    "        \n",
    "        return res\n",
    "tokenizer = Tokenizer(tok_func=dna_tokenizer, pre_rules=[], post_rules=[], special_cases=[])\n",
    "processor = [TokenizeProcessor(tokenizer=tokenizer, include_bos= True, include_eos=True), NumericalizeProcessor(max_vocab=30000)]"
   ]
  },
  {
   "cell_type": "code",
   "execution_count": 2,
   "metadata": {},
   "outputs": [],
   "source": [
    "# batch size\n",
    "bs = 512\n",
    "data_cls = (TextList.from_csv(local_project_path, 'test.csv', cols='seq', processor=[OpenFileProcessor(), SPProcessor()])\n",
    "                    .split_by_rand_pct(0.01)\n",
    "                   .label_for_lm()\n",
    "                   .databunch(bs=bs))"
   ]
  },
  {
   "cell_type": "code",
   "execution_count": 3,
   "metadata": {},
   "outputs": [
    {
     "name": "stdout",
     "output_type": "stream",
     "text": [
      "data_cls Training set size 109899\n",
      "data_cls Validation set size 1110\n"
     ]
    }
   ],
   "source": [
    "data_lm = data_cls\n",
    "# batch size\n",
    "# bs = 512\n",
    "# data_lm = TextLMDataBunch.from_csv(local_project_path, 'test.csv',\n",
    "#                                    text_cols ='seq', valid_pct= 0.1,\n",
    "#                                    tokenizer=tokenizer,\n",
    "#                                    include_bos= True, include_eos=True, bs=bs)\n",
    "print('data_cls Training set size', len(data_lm.train_ds))\n",
    "print('data_cls Validation set size', len(data_lm.valid_ds))"
   ]
  },
  {
   "cell_type": "code",
   "execution_count": 4,
   "metadata": {},
   "outputs": [
    {
     "data": {
      "text/html": [
       "<table border=\"1\" class=\"dataframe\">\n",
       "  <thead>\n",
       "    <tr style=\"text-align: right;\">\n",
       "      <th>idx</th>\n",
       "      <th>text</th>\n",
       "    </tr>\n",
       "  </thead>\n",
       "  <tbody>\n",
       "    <tr>\n",
       "      <td>0</td>\n",
       "      <td>l ila nken vhw tty mdt ff rtsp mvi attd mqn ▁xxbos ▁xxup ▁mm tpen deeq tsv fsat vyg dki qgk nkrk rvig l cir ism vis l l smi tms af l ivr l nqc msa nea ait daav avaaa sst hrk vass ttq ydh kes cng l yyq gsc yi l hsd yq l fsd aka nct aes stlp nksd vlit wli dyve dtw gsdg npi tktt sdy</td>\n",
       "    </tr>\n",
       "    <tr>\n",
       "      <td>1</td>\n",
       "      <td>tsk ylnn l ieq dhr hik vrk try qsi nta knt l kgie ciy a l ykkn rrs l qi ygf spc hei sim l as ▁xxbos ▁xxup ▁m ynp fdea yhg l ce eile ign rrdd rth tgti skf ghq l rfd l tk gfp l l tt kkv sfk l va te l l wfi kgd tni qy l l ky nnni wne waf eny vqs ddy hgp</td>\n",
       "    </tr>\n",
       "    <tr>\n",
       "      <td>2</td>\n",
       "      <td>l aw div dgvf ppd l l ddm l eay vvf l rr l tee pwg eq vrc slpp aqlea ras ana tna l l seh tlh glf aar veq l pmq l avvs ark tlt yee l s rrsrr l gar lreqg arp ntlv avvm ekg weq vvav l avle sgaa yvp ida dlpa eri hy l l dh gevk l vlt qpw l dgk l sw ppg iqr</td>\n",
       "    </tr>\n",
       "    <tr>\n",
       "      <td>3</td>\n",
       "      <td>qg wge ndr gvs ftf gadvv skf l nr hdld l ic rahq vved gye ffa krq l vt l fsa pny cge fdn aggm msv det l mcs fqi l kpse kkak yqy ggln sgrp vtp prt anpp kkr ▁xxbos ▁xxup ▁man yef sqvs gdr pgc rlsr kaq i glgvg l l vlia l vvgi vvi l l rprs l l vwt gep ttk hfs dif l grc l</td>\n",
       "    </tr>\n",
       "    <tr>\n",
       "      <td>4</td>\n",
       "      <td>niy va qay nsn hqm l l vdn ak elaek l kke grpvr l ii vds l msh fra eyv grg tlad rqq klnr hlh dlmk fge l yna aivv ▁xxbos ▁xxup ▁mas kem fed tvee rvi nee yki wkk ntp fly dlv mt halq wps l tvq wlp evt kpe gkdy alh wlv l gtht sdeq nh l vva rvh ipn dda qfd as hcd sdk gef ggfgs vtgk</td>\n",
       "    </tr>\n",
       "  </tbody>\n",
       "</table>"
      ],
      "text/plain": [
       "<IPython.core.display.HTML object>"
      ]
     },
     "metadata": {},
     "output_type": "display_data"
    }
   ],
   "source": [
    "data_lm.show_batch()"
   ]
  },
  {
   "cell_type": "code",
   "execution_count": 5,
   "metadata": {},
   "outputs": [
    {
     "data": {
      "text/plain": [
       "Text ▁xxbos ▁xxup ▁mg aaas iqt tvn tlse riss kleqe anas aqt kc diei gnf yir qnh gcn l tv knm csa dada qlda vlsa ate tysg l tpeq kay vpa mft aaln iqt svn tvv rdf eny vkqt cnss avvd nklk iqn vii dec yga pgsp tnle fint gssk gnc aika l mq l ttk att qia pkq vagt gvq fym ivig vii l aalf myy akr mlf tstn dkik l ila nken vhw tty mdt ff rtsp mvi attd mqn"
      ]
     },
     "execution_count": 5,
     "metadata": {},
     "output_type": "execute_result"
    }
   ],
   "source": [
    "data_lm.train_ds.x[0]"
   ]
  },
  {
   "cell_type": "code",
   "execution_count": 6,
   "metadata": {},
   "outputs": [
    {
     "data": {
      "text/plain": [
       "30000"
      ]
     },
     "execution_count": 6,
     "metadata": {},
     "output_type": "execute_result"
    }
   ],
   "source": [
    "len(data_lm.vocab.itos)"
   ]
  },
  {
   "cell_type": "code",
   "execution_count": 7,
   "metadata": {},
   "outputs": [],
   "source": [
    "learn_lm = language_model_learner(data_lm, AWD_LSTM, drop_mult=0.5, pretrained=False).to_fp16()"
   ]
  },
  {
   "cell_type": "code",
   "execution_count": 8,
   "metadata": {},
   "outputs": [],
   "source": [
    "learn_lm.unfreeze()"
   ]
  },
  {
   "cell_type": "code",
   "execution_count": 9,
   "metadata": {},
   "outputs": [
    {
     "data": {
      "text/plain": [
       "0.003"
      ]
     },
     "execution_count": 9,
     "metadata": {},
     "output_type": "execute_result"
    }
   ],
   "source": [
    "lr = 3e-3\n",
    "# lr *= bs/48\n",
    "lr"
   ]
  },
  {
   "cell_type": "code",
   "execution_count": null,
   "metadata": {},
   "outputs": [],
   "source": [
    "learn_lm.lr_find()\n",
    "learn_lm.recorder.plot(skip_end = 15)"
   ]
  },
  {
   "cell_type": "code",
   "execution_count": null,
   "metadata": {},
   "outputs": [],
   "source": [
    "learn_lm.recorder.plot_losses()"
   ]
  },
  {
   "cell_type": "code",
   "execution_count": 12,
   "metadata": {},
   "outputs": [
    {
     "data": {
      "text/html": [
       "<table border=\"1\" class=\"dataframe\">\n",
       "  <thead>\n",
       "    <tr style=\"text-align: left;\">\n",
       "      <th>epoch</th>\n",
       "      <th>train_loss</th>\n",
       "      <th>valid_loss</th>\n",
       "      <th>accuracy</th>\n",
       "      <th>time</th>\n",
       "    </tr>\n",
       "  </thead>\n",
       "  <tbody>\n",
       "    <tr>\n",
       "      <td>0</td>\n",
       "      <td>7.128744</td>\n",
       "      <td>7.440886</td>\n",
       "      <td>0.224742</td>\n",
       "      <td>01:36</td>\n",
       "    </tr>\n",
       "    <tr>\n",
       "      <td>1</td>\n",
       "      <td>7.145301</td>\n",
       "      <td>7.440466</td>\n",
       "      <td>0.224770</td>\n",
       "      <td>01:37</td>\n",
       "    </tr>\n",
       "    <tr>\n",
       "      <td>2</td>\n",
       "      <td>7.167376</td>\n",
       "      <td>7.424616</td>\n",
       "      <td>0.225398</td>\n",
       "      <td>01:37</td>\n",
       "    </tr>\n",
       "    <tr>\n",
       "      <td>3</td>\n",
       "      <td>7.093630</td>\n",
       "      <td>7.406709</td>\n",
       "      <td>0.227441</td>\n",
       "      <td>01:37</td>\n",
       "    </tr>\n",
       "    <tr>\n",
       "      <td>4</td>\n",
       "      <td>7.060319</td>\n",
       "      <td>7.385869</td>\n",
       "      <td>0.228823</td>\n",
       "      <td>01:37</td>\n",
       "    </tr>\n",
       "    <tr>\n",
       "      <td>5</td>\n",
       "      <td>7.006532</td>\n",
       "      <td>7.358196</td>\n",
       "      <td>0.231083</td>\n",
       "      <td>01:37</td>\n",
       "    </tr>\n",
       "    <tr>\n",
       "      <td>6</td>\n",
       "      <td>6.937879</td>\n",
       "      <td>7.343986</td>\n",
       "      <td>0.232380</td>\n",
       "      <td>01:37</td>\n",
       "    </tr>\n",
       "    <tr>\n",
       "      <td>7</td>\n",
       "      <td>6.893778</td>\n",
       "      <td>7.334908</td>\n",
       "      <td>0.233949</td>\n",
       "      <td>01:37</td>\n",
       "    </tr>\n",
       "    <tr>\n",
       "      <td>8</td>\n",
       "      <td>6.864722</td>\n",
       "      <td>7.320726</td>\n",
       "      <td>0.234759</td>\n",
       "      <td>01:37</td>\n",
       "    </tr>\n",
       "    <tr>\n",
       "      <td>9</td>\n",
       "      <td>6.830932</td>\n",
       "      <td>7.319204</td>\n",
       "      <td>0.235345</td>\n",
       "      <td>01:37</td>\n",
       "    </tr>\n",
       "  </tbody>\n",
       "</table>"
      ],
      "text/plain": [
       "<IPython.core.display.HTML object>"
      ]
     },
     "metadata": {},
     "output_type": "display_data"
    }
   ],
   "source": [
    "learn_lm.fit_one_cycle(10, lr, moms=(0.8,0.7)) #bs = 512"
   ]
  },
  {
   "cell_type": "code",
   "execution_count": null,
   "metadata": {},
   "outputs": [
    {
     "data": {
      "text/html": [
       "\n",
       "    <div>\n",
       "        <style>\n",
       "            /* Turns off some styling */\n",
       "            progress {\n",
       "                /* gets rid of default border in Firefox and Opera. */\n",
       "                border: none;\n",
       "                /* Needs to be in here for Safari polyfill so background images work as expected. */\n",
       "                background-size: auto;\n",
       "            }\n",
       "            .progress-bar-interrupted, .progress-bar-interrupted::-webkit-progress-bar {\n",
       "                background: #F44336;\n",
       "            }\n",
       "        </style>\n",
       "      <progress value='0' class='' max='1', style='width:300px; height:20px; vertical-align: middle;'></progress>\n",
       "      0.00% [0/1 00:00<00:00]\n",
       "    </div>\n",
       "    \n",
       "<table border=\"1\" class=\"dataframe\">\n",
       "  <thead>\n",
       "    <tr style=\"text-align: left;\">\n",
       "      <th>epoch</th>\n",
       "      <th>train_loss</th>\n",
       "      <th>valid_loss</th>\n",
       "      <th>accuracy</th>\n",
       "      <th>time</th>\n",
       "    </tr>\n",
       "  </thead>\n",
       "  <tbody>\n",
       "  </tbody>\n",
       "</table><p>\n",
       "\n",
       "    <div>\n",
       "        <style>\n",
       "            /* Turns off some styling */\n",
       "            progress {\n",
       "                /* gets rid of default border in Firefox and Opera. */\n",
       "                border: none;\n",
       "                /* Needs to be in here for Safari polyfill so background images work as expected. */\n",
       "                background-size: auto;\n",
       "            }\n",
       "            .progress-bar-interrupted, .progress-bar-interrupted::-webkit-progress-bar {\n",
       "                background: #F44336;\n",
       "            }\n",
       "        </style>\n",
       "      <progress value='248' class='' max='386', style='width:300px; height:20px; vertical-align: middle;'></progress>\n",
       "      64.25% [248/386 00:59<00:32 6.6821]\n",
       "    </div>\n",
       "    "
      ],
      "text/plain": [
       "<IPython.core.display.HTML object>"
      ]
     },
     "metadata": {},
     "output_type": "display_data"
    }
   ],
   "source": [
    "lr = 1e-3\n",
    "learn_lm.fit_one_cycle(1, lr, moms=(0.8,0.7)) #bs = 512"
   ]
  },
  {
   "cell_type": "code",
   "execution_count": 10,
   "metadata": {},
   "outputs": [],
   "source": [
    "learn_lm.load('lm-gpu2-sp-40M-v1');"
   ]
  },
  {
   "cell_type": "code",
   "execution_count": null,
   "metadata": {},
   "outputs": [],
   "source": [
    "data_cls2 = (TextList.from_csv(local_project_path, 'test-400M.csv', cols='seq', vocab=data_cls.vocab, processor=[OpenFileProcessor(), SPProcessor()])\n",
    "                    .split_by_rand_pct(0.01)\n",
    "                   .label_for_lm()\n",
    "                   .databunch(bs=bs))"
   ]
  },
  {
   "cell_type": "code",
   "execution_count": null,
   "metadata": {},
   "outputs": [],
   "source": [
    "learn_lm.data = data_cls2"
   ]
  },
  {
   "cell_type": "code",
   "execution_count": null,
   "metadata": {},
   "outputs": [],
   "source": [
    "learn_lm.fit_one_cycle(10, lr, moms=(0.8,0.7)) #bs = 512"
   ]
  },
  {
   "cell_type": "code",
   "execution_count": null,
   "metadata": {},
   "outputs": [],
   "source": [
    "learn_lm.fit_one_cycle(10, lr, moms=(0.8,0.7)) #bs = 512"
   ]
  },
  {
   "cell_type": "code",
   "execution_count": 14,
   "metadata": {},
   "outputs": [],
   "source": [
    "learn_lm.save('lm-gpu2-sp-40M-v3');"
   ]
  },
  {
   "cell_type": "code",
   "execution_count": null,
   "metadata": {},
   "outputs": [],
   "source": [
    "lr = 1e-3\n",
    "learn_lm.fit_one_cycle(10, lr, moms=(0.8,0.7)) #bs = 512"
   ]
  },
  {
   "cell_type": "code",
   "execution_count": null,
   "metadata": {},
   "outputs": [],
   "source": []
  },
  {
   "cell_type": "code",
   "execution_count": null,
   "metadata": {},
   "outputs": [],
   "source": [
    "learn_lm.validate(metrics=[accuracy])"
   ]
  },
  {
   "cell_type": "code",
   "execution_count": null,
   "metadata": {},
   "outputs": [],
   "source": [
    "learn_lm.save('lm-v1-loss2.46')"
   ]
  },
  {
   "cell_type": "code",
   "execution_count": null,
   "metadata": {},
   "outputs": [],
   "source": [
    "# del learn_lm\n",
    "torch.cuda.empty_cache()\n",
    "import gc; gc.collect()"
   ]
  },
  {
   "cell_type": "code",
   "execution_count": null,
   "metadata": {},
   "outputs": [],
   "source": []
  },
  {
   "cell_type": "code",
   "execution_count": null,
   "metadata": {},
   "outputs": [],
   "source": []
  }
 ],
 "metadata": {
  "kernelspec": {
   "display_name": "Python 3",
   "language": "python",
   "name": "python3"
  },
  "language_info": {
   "codemirror_mode": {
    "name": "ipython",
    "version": 3
   },
   "file_extension": ".py",
   "mimetype": "text/x-python",
   "name": "python",
   "nbconvert_exporter": "python",
   "pygments_lexer": "ipython3",
   "version": "3.7.3"
  }
 },
 "nbformat": 4,
 "nbformat_minor": 2
}
