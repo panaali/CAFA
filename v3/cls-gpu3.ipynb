{
 "cells": [
  {
   "cell_type": "code",
   "execution_count": 1,
   "metadata": {},
   "outputs": [
    {
     "name": "stdout",
     "output_type": "stream",
     "text": [
      "local_project_path: ../data/proteinnet/\n"
     ]
    }
   ],
   "source": [
    "\"\"\"## Prepare fastai\"\"\"\n",
    "from fastai import *\n",
    "from fastai.text import *\n",
    "from fastai.metrics import *\n",
    "from fastai.callbacks.tensorboard import LearnerTensorboardWriter\n",
    "from fastai.callbacks.misc import StopAfterNBatches\n",
    "from fastai.callbacks.oversampling import OverSamplingCallback\n",
    "import datetime\n",
    "import pickle\n",
    "from pytz import timezone\n",
    "\n",
    "torch.cuda.set_device(3)\n",
    "np.random.seed(0)\n",
    "\n",
    "\"\"\"## Prepare Dataset\"\"\"\n",
    "local_project_path = local_path + 'data/proteinnet/'\n",
    "if not os.path.exists(local_project_path):\n",
    "    os.makedirs(local_project_path)\n",
    "print('local_project_path:', local_project_path)"
   ]
  },
  {
   "cell_type": "code",
   "execution_count": 2,
   "metadata": {},
   "outputs": [],
   "source": [
    "\"\"\"## Tokenization\"\"\"\n",
    "class dna_tokenizer(BaseTokenizer):\n",
    "    def tokenizer(self, t):\n",
    "#         return list(t)\n",
    "        res = []\n",
    "        tokens = t.split(' ')\n",
    "        before_seq = tokens[:-2]\n",
    "        seq = tokens[-2]\n",
    "        eos = tokens[-1]\n",
    "        \n",
    "        res = before_seq\n",
    "        res += list(seq) # sequence string to list\n",
    "        res.append(eos)\n",
    "        \n",
    "        return res\n",
    "tokenizer = Tokenizer(tok_func=dna_tokenizer, pre_rules=[], post_rules=[], special_cases=[])\n",
    "processor = [TokenizeProcessor(tokenizer=tokenizer, include_bos= True, include_eos=True), NumericalizeProcessor(max_vocab=30000)]"
   ]
  },
  {
   "cell_type": "code",
   "execution_count": 3,
   "metadata": {},
   "outputs": [],
   "source": [
    "# # batch size\n",
    "# bs = 128\n",
    "# data_lm = TextLMDataBunch.from_csv(local_project_path, 'test.csv',\n",
    "#                                    text_cols ='seq', valid_pct= 0.1, tokenizer=tokenizer,\n",
    "#                                    include_bos= True, include_eos=True, bs=bs)\n",
    "# print('data_cls Training set size', len(data_lm.train_ds))\n",
    "# print('data_cls Validation set size', len(data_lm.valid_ds))"
   ]
  },
  {
   "cell_type": "code",
   "execution_count": 15,
   "metadata": {},
   "outputs": [],
   "source": [
    "train_df_full = pickle.load(open('../data/uniprot_sprot/train_df.p', 'rb'))\n",
    "train_df = train_df_full[['seq','GO', 'GO_ancestors_C', 'GO_ancestors_P', 'GO_ancestors_F']].copy()"
   ]
  },
  {
   "cell_type": "code",
   "execution_count": 16,
   "metadata": {},
   "outputs": [
    {
     "data": {
      "text/html": [
       "<div>\n",
       "<style scoped>\n",
       "    .dataframe tbody tr th:only-of-type {\n",
       "        vertical-align: middle;\n",
       "    }\n",
       "\n",
       "    .dataframe tbody tr th {\n",
       "        vertical-align: top;\n",
       "    }\n",
       "\n",
       "    .dataframe thead th {\n",
       "        text-align: right;\n",
       "    }\n",
       "</style>\n",
       "<table border=\"1\" class=\"dataframe\">\n",
       "  <thead>\n",
       "    <tr style=\"text-align: right;\">\n",
       "      <th></th>\n",
       "      <th>GO</th>\n",
       "      <th>domain</th>\n",
       "      <th>seq</th>\n",
       "      <th>taxonomy_id</th>\n",
       "      <th>GO_ancestors_C</th>\n",
       "      <th>GO_ancestors_P</th>\n",
       "      <th>GO_ancestors_F</th>\n",
       "      <th>Tax_ancestors</th>\n",
       "      <th>seq_taxons</th>\n",
       "      <th>seq_tax</th>\n",
       "    </tr>\n",
       "    <tr>\n",
       "      <th>accession</th>\n",
       "      <th></th>\n",
       "      <th></th>\n",
       "      <th></th>\n",
       "      <th></th>\n",
       "      <th></th>\n",
       "      <th></th>\n",
       "      <th></th>\n",
       "      <th></th>\n",
       "      <th></th>\n",
       "      <th></th>\n",
       "    </tr>\n",
       "  </thead>\n",
       "  <tbody>\n",
       "    <tr>\n",
       "      <th>A0A060X6Z0</th>\n",
       "      <td>GO:0070852 GO:0043204 GO:0004511</td>\n",
       "      <td>C C F</td>\n",
       "      <td>MPISSSSSSSTKSMRRAASELERSDSVTSPRFIGRRQSLIEDARKE...</td>\n",
       "      <td>8022</td>\n",
       "      <td>{GO:0043005, GO:0005575, GO:0097458, GO:004446...</td>\n",
       "      <td>{}</td>\n",
       "      <td>{GO:0003674, GO:0016491, GO:0016714, GO:000449...</td>\n",
       "      <td>{NCBITaxon:32443, NCBITaxon:8006, NCBITaxon:1,...</td>\n",
       "      <td>131567 33154 504568 33511 89593 2759 8006 7776...</td>\n",
       "      <td>8022 MPISSSSSSSTKSMRRAASELERSDSVTSPRFIGRRQSLIE...</td>\n",
       "    </tr>\n",
       "  </tbody>\n",
       "</table>\n",
       "</div>"
      ],
      "text/plain": [
       "                                          GO domain  \\\n",
       "accession                                             \n",
       "A0A060X6Z0  GO:0070852 GO:0043204 GO:0004511  C C F   \n",
       "\n",
       "                                                          seq taxonomy_id  \\\n",
       "accession                                                                   \n",
       "A0A060X6Z0  MPISSSSSSSTKSMRRAASELERSDSVTSPRFIGRRQSLIEDARKE...        8022   \n",
       "\n",
       "                                               GO_ancestors_C GO_ancestors_P  \\\n",
       "accession                                                                      \n",
       "A0A060X6Z0  {GO:0043005, GO:0005575, GO:0097458, GO:004446...             {}   \n",
       "\n",
       "                                               GO_ancestors_F  \\\n",
       "accession                                                       \n",
       "A0A060X6Z0  {GO:0003674, GO:0016491, GO:0016714, GO:000449...   \n",
       "\n",
       "                                                Tax_ancestors  \\\n",
       "accession                                                       \n",
       "A0A060X6Z0  {NCBITaxon:32443, NCBITaxon:8006, NCBITaxon:1,...   \n",
       "\n",
       "                                                   seq_taxons  \\\n",
       "accession                                                       \n",
       "A0A060X6Z0  131567 33154 504568 33511 89593 2759 8006 7776...   \n",
       "\n",
       "                                                      seq_tax  \n",
       "accession                                                      \n",
       "A0A060X6Z0  8022 MPISSSSSSSTKSMRRAASELERSDSVTSPRFIGRRQSLIE...  "
      ]
     },
     "execution_count": 16,
     "metadata": {},
     "output_type": "execute_result"
    }
   ],
   "source": [
    "train_df_full.head(1)"
   ]
  },
  {
   "cell_type": "code",
   "execution_count": 17,
   "metadata": {},
   "outputs": [
    {
     "data": {
      "text/plain": [
       "66840"
      ]
     },
     "execution_count": 17,
     "metadata": {},
     "output_type": "execute_result"
    }
   ],
   "source": [
    "del train_df_full\n",
    "gc.collect()\n",
    "\n",
    "len(train_df)"
   ]
  },
  {
   "cell_type": "code",
   "execution_count": 81,
   "metadata": {},
   "outputs": [],
   "source": [
    "go_id = 'GO:0017076'"
   ]
  },
  {
   "cell_type": "code",
   "execution_count": 82,
   "metadata": {},
   "outputs": [],
   "source": [
    "def find_go(row):\n",
    "    if go_id in row.GO or go_id in row.GO_ancestors_C or go_id in row.GO_ancestors_P or go_id in row.GO_ancestors_F :\n",
    "        res = 'T'\n",
    "    else:\n",
    "        res = 'F'\n",
    "    return res\n",
    "train_df[go_id] = train_df.apply(find_go, axis=1)"
   ]
  },
  {
   "cell_type": "code",
   "execution_count": 83,
   "metadata": {},
   "outputs": [],
   "source": [
    "# train_df['GO'].value_counts()"
   ]
  },
  {
   "cell_type": "code",
   "execution_count": 84,
   "metadata": {},
   "outputs": [
    {
     "data": {
      "text/plain": [
       "1087"
      ]
     },
     "execution_count": 84,
     "metadata": {},
     "output_type": "execute_result"
    }
   ],
   "source": [
    "available_T = (train_df[go_id] == 'T').sum(); available_T"
   ]
  },
  {
   "cell_type": "code",
   "execution_count": 85,
   "metadata": {},
   "outputs": [],
   "source": [
    "train_df_undersampled_F = train_df[train_df[go_id] == 'F'][:available_T].copy()\n",
    "train_df_undersampled_T = train_df[train_df[go_id] == 'T'].copy()"
   ]
  },
  {
   "cell_type": "code",
   "execution_count": 86,
   "metadata": {},
   "outputs": [
    {
     "data": {
      "text/plain": [
       "66840"
      ]
     },
     "execution_count": 86,
     "metadata": {},
     "output_type": "execute_result"
    }
   ],
   "source": [
    "len(train_df)"
   ]
  },
  {
   "cell_type": "code",
   "execution_count": 87,
   "metadata": {},
   "outputs": [
    {
     "name": "stdout",
     "output_type": "stream",
     "text": [
      "2174\n"
     ]
    },
    {
     "data": {
      "text/html": [
       "<div>\n",
       "<style scoped>\n",
       "    .dataframe tbody tr th:only-of-type {\n",
       "        vertical-align: middle;\n",
       "    }\n",
       "\n",
       "    .dataframe tbody tr th {\n",
       "        vertical-align: top;\n",
       "    }\n",
       "\n",
       "    .dataframe thead th {\n",
       "        text-align: right;\n",
       "    }\n",
       "</style>\n",
       "<table border=\"1\" class=\"dataframe\">\n",
       "  <thead>\n",
       "    <tr style=\"text-align: right;\">\n",
       "      <th></th>\n",
       "      <th>seq</th>\n",
       "      <th>GO</th>\n",
       "      <th>GO_ancestors_C</th>\n",
       "      <th>GO_ancestors_P</th>\n",
       "      <th>GO_ancestors_F</th>\n",
       "      <th>GO:0005886</th>\n",
       "      <th>GO:0017076</th>\n",
       "    </tr>\n",
       "    <tr>\n",
       "      <th>accession</th>\n",
       "      <th></th>\n",
       "      <th></th>\n",
       "      <th></th>\n",
       "      <th></th>\n",
       "      <th></th>\n",
       "      <th></th>\n",
       "      <th></th>\n",
       "    </tr>\n",
       "  </thead>\n",
       "  <tbody>\n",
       "    <tr>\n",
       "      <th>O15648</th>\n",
       "      <td>MAVESRSRVTSKLVKAHRAMLNSVTQEDLKVDRLPGADYPNPSKKY...</td>\n",
       "      <td>GO:0020015 GO:0003872 GO:0005524 GO:0006096</td>\n",
       "      <td>{GO:0043227, GO:0005777, GO:0043229, GO:004322...</td>\n",
       "      <td>{GO:0009117, GO:0044763, GO:0006757, GO:190157...</td>\n",
       "      <td>{GO:0019200, GO:0017076, GO:0032550, GO:001677...</td>\n",
       "      <td>F</td>\n",
       "      <td>T</td>\n",
       "    </tr>\n",
       "    <tr>\n",
       "      <th>A2VDJ0</th>\n",
       "      <td>MAGLRRPQPGCYCRTAAAVNLLLGVFQVLLPCCRPGGAQGQAIEPL...</td>\n",
       "      <td>GO:0005737 GO:0005886 GO:0090090 GO:0033088</td>\n",
       "      <td>{GO:0044464, GO:0016020, GO:0044424, GO:0005575}</td>\n",
       "      <td>{GO:0050672, GO:0065007, GO:0051250, GO:001064...</td>\n",
       "      <td>{}</td>\n",
       "      <td>T</td>\n",
       "      <td>F</td>\n",
       "    </tr>\n",
       "    <tr>\n",
       "      <th>A8MTZ0</th>\n",
       "      <td>MLKAAAKRPELSGKNTISNNSDMAEVKSMFREVLPKQGPLFVEDIM...</td>\n",
       "      <td>GO:0034464 GO:0005737 GO:0005829 GO:0042384</td>\n",
       "      <td>{GO:0032991, GO:0005575, GO:0044444, GO:004442...</td>\n",
       "      <td>{GO:0044763, GO:0030030, GO:0010927, GO:004478...</td>\n",
       "      <td>{}</td>\n",
       "      <td>F</td>\n",
       "      <td>F</td>\n",
       "    </tr>\n",
       "    <tr>\n",
       "      <th>A4FU49</th>\n",
       "      <td>MVQSELQLQPRAGGRAEAASWGDRGNDKGGLGNPDMPSVSPGPQRP...</td>\n",
       "      <td>GO:0070062</td>\n",
       "      <td>{GO:0031982, GO:0043230, GO:0043227, GO:004322...</td>\n",
       "      <td>{}</td>\n",
       "      <td>{}</td>\n",
       "      <td>F</td>\n",
       "      <td>F</td>\n",
       "    </tr>\n",
       "    <tr>\n",
       "      <th>Q99NG0</th>\n",
       "      <td>MSDESASGSDPDLDPDVELEDEEEEEEEEEVAVEEHDRDDEEGLLD...</td>\n",
       "      <td>GO:0016607 GO:0005634 GO:0005524 GO:0016887 GO...</td>\n",
       "      <td>{GO:0044446, GO:0044422, GO:0044428, GO:004322...</td>\n",
       "      <td>{GO:0006357, GO:0045935, GO:0065007, GO:004852...</td>\n",
       "      <td>{GO:0017076, GO:0032550, GO:0000988, GO:003563...</td>\n",
       "      <td>F</td>\n",
       "      <td>T</td>\n",
       "    </tr>\n",
       "  </tbody>\n",
       "</table>\n",
       "</div>"
      ],
      "text/plain": [
       "                                                         seq  \\\n",
       "accession                                                      \n",
       "O15648     MAVESRSRVTSKLVKAHRAMLNSVTQEDLKVDRLPGADYPNPSKKY...   \n",
       "A2VDJ0     MAGLRRPQPGCYCRTAAAVNLLLGVFQVLLPCCRPGGAQGQAIEPL...   \n",
       "A8MTZ0     MLKAAAKRPELSGKNTISNNSDMAEVKSMFREVLPKQGPLFVEDIM...   \n",
       "A4FU49     MVQSELQLQPRAGGRAEAASWGDRGNDKGGLGNPDMPSVSPGPQRP...   \n",
       "Q99NG0     MSDESASGSDPDLDPDVELEDEEEEEEEEEVAVEEHDRDDEEGLLD...   \n",
       "\n",
       "                                                          GO  \\\n",
       "accession                                                      \n",
       "O15648           GO:0020015 GO:0003872 GO:0005524 GO:0006096   \n",
       "A2VDJ0           GO:0005737 GO:0005886 GO:0090090 GO:0033088   \n",
       "A8MTZ0           GO:0034464 GO:0005737 GO:0005829 GO:0042384   \n",
       "A4FU49                                            GO:0070062   \n",
       "Q99NG0     GO:0016607 GO:0005634 GO:0005524 GO:0016887 GO...   \n",
       "\n",
       "                                              GO_ancestors_C  \\\n",
       "accession                                                      \n",
       "O15648     {GO:0043227, GO:0005777, GO:0043229, GO:004322...   \n",
       "A2VDJ0      {GO:0044464, GO:0016020, GO:0044424, GO:0005575}   \n",
       "A8MTZ0     {GO:0032991, GO:0005575, GO:0044444, GO:004442...   \n",
       "A4FU49     {GO:0031982, GO:0043230, GO:0043227, GO:004322...   \n",
       "Q99NG0     {GO:0044446, GO:0044422, GO:0044428, GO:004322...   \n",
       "\n",
       "                                              GO_ancestors_P  \\\n",
       "accession                                                      \n",
       "O15648     {GO:0009117, GO:0044763, GO:0006757, GO:190157...   \n",
       "A2VDJ0     {GO:0050672, GO:0065007, GO:0051250, GO:001064...   \n",
       "A8MTZ0     {GO:0044763, GO:0030030, GO:0010927, GO:004478...   \n",
       "A4FU49                                                    {}   \n",
       "Q99NG0     {GO:0006357, GO:0045935, GO:0065007, GO:004852...   \n",
       "\n",
       "                                              GO_ancestors_F GO:0005886  \\\n",
       "accession                                                                 \n",
       "O15648     {GO:0019200, GO:0017076, GO:0032550, GO:001677...          F   \n",
       "A2VDJ0                                                    {}          T   \n",
       "A8MTZ0                                                    {}          F   \n",
       "A4FU49                                                    {}          F   \n",
       "Q99NG0     {GO:0017076, GO:0032550, GO:0000988, GO:003563...          F   \n",
       "\n",
       "          GO:0017076  \n",
       "accession             \n",
       "O15648             T  \n",
       "A2VDJ0             F  \n",
       "A8MTZ0             F  \n",
       "A4FU49             F  \n",
       "Q99NG0             T  "
      ]
     },
     "execution_count": 87,
     "metadata": {},
     "output_type": "execute_result"
    }
   ],
   "source": [
    "train_df_undersampled = pd.concat([train_df_undersampled_F, train_df_undersampled_T])\n",
    "print(len(train_df_undersampled))\n",
    "train_df_undersampled.sample(5)"
   ]
  },
  {
   "cell_type": "code",
   "execution_count": 88,
   "metadata": {},
   "outputs": [],
   "source": [
    "# train_df_undersampled.to_csv('train_df_undersampled.csv', index=False)"
   ]
  },
  {
   "cell_type": "code",
   "execution_count": 89,
   "metadata": {},
   "outputs": [],
   "source": [
    "# bs = 512\n",
    "# data_cls = (TextList.from_df(train_df, path = local_project_path, cols='seq', vocab=data_lm.vocab, processor=processor)\n",
    "#                     .split_by_rand_pct(0.10)\n",
    "#                    .label_from_df(cols='is_GO0005525') #, label_delim=' '\n",
    "#                    .databunch(bs=bs))"
   ]
  },
  {
   "cell_type": "code",
   "execution_count": 90,
   "metadata": {},
   "outputs": [],
   "source": [
    "vocab = pickle.load(open(local_project_path + 'lm-whole-sp-v2-vocab.pkl', 'rb')); "
   ]
  },
  {
   "cell_type": "code",
   "execution_count": 91,
   "metadata": {},
   "outputs": [],
   "source": [
    "bs = 256\n",
    "data_cls = (TextList.from_df(train_df_undersampled, path = local_project_path, cols='seq', vocab=vocab, processor=processor)\n",
    "                    .split_by_rand_pct(0.10)\n",
    "                   .label_from_df(cols=go_id) # , label_delim=' '\n",
    "                   .databunch(bs=bs))"
   ]
  },
  {
   "cell_type": "code",
   "execution_count": 92,
   "metadata": {},
   "outputs": [
    {
     "name": "stdout",
     "output_type": "stream",
     "text": [
      "1957\n",
      "217\n"
     ]
    }
   ],
   "source": [
    "print(len(data_cls.train_ds))\n",
    "print(len(data_cls.valid_ds))"
   ]
  },
  {
   "cell_type": "code",
   "execution_count": 93,
   "metadata": {},
   "outputs": [
    {
     "data": {
      "text/plain": [
       "2"
      ]
     },
     "execution_count": 93,
     "metadata": {},
     "output_type": "execute_result"
    }
   ],
   "source": [
    "_, train_class_counts = np.unique(data_cls.train_ds.y.items, return_counts=True)\n",
    "_, valid_class_counts = np.unique(data_cls.valid_ds.y.items, return_counts=True)\n",
    "len(train_class_counts)"
   ]
  },
  {
   "cell_type": "code",
   "execution_count": 94,
   "metadata": {},
   "outputs": [],
   "source": [
    "w0 = 1/train_class_counts[0]*1000\n",
    "w1 = 1/train_class_counts[1]*1000"
   ]
  },
  {
   "cell_type": "code",
   "execution_count": 95,
   "metadata": {},
   "outputs": [
    {
     "data": {
      "text/plain": [
       "tensor([1.0194, 1.0246], device='cuda:3')"
      ]
     },
     "execution_count": 95,
     "metadata": {},
     "output_type": "execute_result"
    }
   ],
   "source": [
    "weight = torch.FloatTensor([w0,w1]).cuda();weight"
   ]
  },
  {
   "cell_type": "code",
   "execution_count": 96,
   "metadata": {},
   "outputs": [
    {
     "data": {
      "text/plain": [
       "array([106, 111])"
      ]
     },
     "execution_count": 96,
     "metadata": {},
     "output_type": "execute_result"
    }
   ],
   "source": [
    "valid_class_counts"
   ]
  },
  {
   "cell_type": "code",
   "execution_count": 97,
   "metadata": {},
   "outputs": [
    {
     "data": {
      "text/plain": [
       "tensor([0.5013, 0.4987])"
      ]
     },
     "execution_count": 97,
     "metadata": {},
     "output_type": "execute_result"
    }
   ],
   "source": [
    "torch.FloatTensor(train_class_counts/np.sum(train_class_counts))"
   ]
  },
  {
   "cell_type": "code",
   "execution_count": 98,
   "metadata": {},
   "outputs": [
    {
     "data": {
      "text/plain": [
       "array([0.488479, 0.511521])"
      ]
     },
     "execution_count": 98,
     "metadata": {},
     "output_type": "execute_result"
    }
   ],
   "source": [
    "valid_class_counts/np.sum(valid_class_counts)"
   ]
  },
  {
   "cell_type": "code",
   "execution_count": 99,
   "metadata": {},
   "outputs": [],
   "source": [
    "# pos_weight = torch.ones(len(train_class_counts)) * (loss_weights[0] / loss_weights[1])\n",
    "# pos_weight # for multi-label!?"
   ]
  },
  {
   "cell_type": "code",
   "execution_count": 100,
   "metadata": {},
   "outputs": [
    {
     "data": {
      "text/plain": [
       "'xxbos M P I S S S S S S S T K S M R R A '"
      ]
     },
     "execution_count": 100,
     "metadata": {},
     "output_type": "execute_result"
    }
   ],
   "source": [
    "data_cls.train_ds.x[0].text[:40]"
   ]
  },
  {
   "cell_type": "code",
   "execution_count": 101,
   "metadata": {},
   "outputs": [
    {
     "data": {
      "text/plain": [
       "Category F"
      ]
     },
     "execution_count": 101,
     "metadata": {},
     "output_type": "execute_result"
    }
   ],
   "source": [
    "data_cls.train_ds.y[0]"
   ]
  },
  {
   "cell_type": "code",
   "execution_count": 102,
   "metadata": {},
   "outputs": [],
   "source": [
    "# # batch size\n",
    "# bs = 256\n",
    "# data_cls = TextClasDataBunch.from_csv(local_project_path, 'uniprot_sprot_exp_go_F.csv',\n",
    "#                                    text_cols ='seq', valid_pct= 0.1, tokenizer=tokenizer,\n",
    "#                                    include_bos= True, include_eos=True, classes='labels', bs=bs)\n",
    "# print('data_cls Training set size', len(data_lm.train_ds))\n",
    "# print('data_cls Validation set size', len(data_lm.valid_ds)) "
   ]
  },
  {
   "cell_type": "code",
   "execution_count": 103,
   "metadata": {},
   "outputs": [
    {
     "data": {
      "text/html": [
       "<table border=\"1\" class=\"dataframe\">\n",
       "  <thead>\n",
       "    <tr style=\"text-align: right;\">\n",
       "      <th>text</th>\n",
       "      <th>target</th>\n",
       "    </tr>\n",
       "  </thead>\n",
       "  <tbody>\n",
       "    <tr>\n",
       "      <td>xxbos M T T Q A P M F T Q P L Q S V V V L E G S T A T F E A H V S G S P V P E V S W F R D G Q V I S T S T L P G V Q I S F S D G R A R L M I P A</td>\n",
       "      <td>F</td>\n",
       "    </tr>\n",
       "    <tr>\n",
       "      <td>xxbos M D H S F S G A P R F L T R P K A F V V S V G K D A T L S C Q I V G N P T P H V S W E K D R Q P V E A G A R F R L A Q D G D V Y R L T I L</td>\n",
       "      <td>F</td>\n",
       "    </tr>\n",
       "    <tr>\n",
       "      <td>xxbos M E L Y L S A C S K T A N V A A N K A A S S T V A E D S Q Q C V D G R H K T P I P G V G A A Q L L D L P L G V K L P M I P G T D T V Y F T</td>\n",
       "      <td>F</td>\n",
       "    </tr>\n",
       "    <tr>\n",
       "      <td>xxbos M K C P K C S H E A L E K A P K F C S E C G H K L Q S Q S Y E T T Q G T P H D K S Q T P S I V P Q I T N A E M D E T G S E S K S L E I Q N</td>\n",
       "      <td>F</td>\n",
       "    </tr>\n",
       "    <tr>\n",
       "      <td>xxbos M L L P A L L F G M A W A L A D G R W C E W T E T I R V E E E V A P R Q E D L V P C A S L D H Y S R L G W R L D L P W S G R S G L T R S P</td>\n",
       "      <td>F</td>\n",
       "    </tr>\n",
       "  </tbody>\n",
       "</table>"
      ],
      "text/plain": [
       "<IPython.core.display.HTML object>"
      ]
     },
     "metadata": {},
     "output_type": "display_data"
    }
   ],
   "source": [
    "data_cls.show_batch()"
   ]
  },
  {
   "cell_type": "code",
   "execution_count": 104,
   "metadata": {},
   "outputs": [
    {
     "data": {
      "text/plain": [
       "40"
      ]
     },
     "execution_count": 104,
     "metadata": {},
     "output_type": "execute_result"
    }
   ],
   "source": [
    "len(data_cls.vocab.itos)"
   ]
  },
  {
   "cell_type": "code",
   "execution_count": 105,
   "metadata": {},
   "outputs": [],
   "source": [
    "# acc_02 = partial(accuracy_thresh, thresh=0.5)\n",
    "# f_score = partial(fbeta, thresh=0.5, beta=1)\n",
    "from sklearn.metrics import f1_score\n",
    "@np_func\n",
    "def f1(inp,targ):\n",
    "    return f1_score(targ, np.argmax(inp, axis=-1))"
   ]
  },
  {
   "cell_type": "code",
   "execution_count": 106,
   "metadata": {},
   "outputs": [],
   "source": [
    "def one_hot_embedding(labels, num_classes):\n",
    "    return torch.eye(num_classes, device= 'cuda')[labels.data]\n",
    "\n",
    "\n",
    "class FocalLoss(nn.Module):\n",
    "    def __init__(self, gamma=2):\n",
    "        super().__init__()\n",
    "        self.gamma = gamma\n",
    "\n",
    "    def forward(self, logit, target, reduction='elementwise_mean'):\n",
    "        target = one_hot_embedding(target, logit.size(-1))\n",
    "        target = target.float()\n",
    "        max_val = (-logit).clamp(min=0)\n",
    "        loss = logit - logit * target + max_val + \\\n",
    "               ((-max_val).exp() + (-logit - max_val).exp()).log()\n",
    "\n",
    "        invprobs = F.logsigmoid(-logit * (target * 2.0 - 1.0))\n",
    "        loss = (invprobs * self.gamma).exp() * loss\n",
    "        if len(loss.size())==2:\n",
    "            loss = loss.sum(dim=1)\n",
    "        \n",
    "        if reduction == 'elementwise_mean': return loss.mean()\n",
    "        elif reduction == 'sum': return loss.sum()\n",
    "        return loss"
   ]
  },
  {
   "cell_type": "code",
   "execution_count": 107,
   "metadata": {},
   "outputs": [],
   "source": [
    "\n",
    "# class myCCELoss(nn.Module):\n",
    "\n",
    "#     def __init__(self):\n",
    "#         super(myCCELoss, self).__init__()\n",
    "\n",
    "#     def forward(self, input, target):\n",
    "#         y = one_hot_embedding(target, input.size(-1))\n",
    "#         logit = F.softmax(input)\n",
    "       \n",
    "#         loss = -1 * V(y) * torch.log(logit) # cross entropy loss\n",
    "#         return loss.sum(dim=1).mean()\n",
    "    \n",
    "# class FocalLoss(nn.Module):\n",
    "\n",
    "#     def __init__(self, gamma=0, eps=1e-7):\n",
    "#         super(FocalLoss, self).__init__()\n",
    "#         self.gamma = gamma\n",
    "#         self.eps = eps\n",
    "\n",
    "#     def forward(self, input, target):\n",
    "#         y = one_hot_embedding(target, input.size(-1))\n",
    "#         logit = F.softmax(input)\n",
    "#         logit = logit.clamp(self.eps, 1. - self.eps)\n",
    "        \n",
    "#         loss = -1 * V(y) * torch.log(logit) # cross entropy\n",
    "#         loss = loss * (1 - logit) ** self.gamma # focal loss\n",
    "#         return loss.sum(dim=1).mean()"
   ]
  },
  {
   "cell_type": "code",
   "execution_count": 108,
   "metadata": {},
   "outputs": [],
   "source": [
    "learn_cls = text_classifier_learner(data_cls, AWD_LSTM, drop_mult=0.5, pretrained=False, \n",
    "                                    metrics=[accuracy, f1], # f1\n",
    "#                                     callback_fns=[\n",
    "#                                         OverSamplingCallback\n",
    "#                                     ],\n",
    "#                                     loss_func = FocalLoss()\n",
    "#                                     loss_func=CrossEntropyFlat(weight=weight)\n",
    "                                   ).to_fp16()\n"
   ]
  },
  {
   "cell_type": "code",
   "execution_count": 109,
   "metadata": {},
   "outputs": [],
   "source": [
    "learn_cls.load_encoder('lm-whole-sp-v4-enc');"
   ]
  },
  {
   "cell_type": "code",
   "execution_count": 110,
   "metadata": {},
   "outputs": [],
   "source": [
    "def add_tensorboard_callback(learn):\n",
    "    now = datetime.datetime.now().astimezone(timezone('US/Eastern'))\n",
    "    time_for_different_run = f'{now.year}-{now.month}-{now.day}-{now.hour}-{now.minute}-{now.second}'\n",
    "\n",
    "    proj_id = 'cafa' + time_for_different_run\n",
    "    tboard_path = Path('log/' + proj_id)\n",
    "    remove_tensorboard_callback(learn)\n",
    "    learn.callback_fns.append(partial(LearnerTensorboardWriter, base_dir=tboard_path, name='CafaLearner'))\n",
    "\n",
    "def remove_tensorboard_callback(learn):\n",
    "    if len(learn.callback_fns) > 1: # not the best way to check this !!\n",
    "        learn.callback_fns.pop()\n"
   ]
  },
  {
   "cell_type": "code",
   "execution_count": 111,
   "metadata": {},
   "outputs": [],
   "source": [
    "# add_tensorboard_callback(learn_cls)"
   ]
  },
  {
   "cell_type": "code",
   "execution_count": 112,
   "metadata": {},
   "outputs": [],
   "source": [
    "# remove_tensorboard_callback(learn_cls)\n",
    "# learn_cls.lr_find()\n",
    "# add_tensorboard_callback(learn_cls)"
   ]
  },
  {
   "cell_type": "code",
   "execution_count": 113,
   "metadata": {},
   "outputs": [],
   "source": [
    "# learn_cls.recorder.plot(skip_start=5, skip_end=10, suggestion = True)"
   ]
  },
  {
   "cell_type": "code",
   "execution_count": 114,
   "metadata": {},
   "outputs": [],
   "source": [
    "# learn_cls.recorder.plot_losses()"
   ]
  },
  {
   "cell_type": "code",
   "execution_count": 115,
   "metadata": {},
   "outputs": [],
   "source": [
    "# learn_cls.recorder.plot_lr(show_moms=True)"
   ]
  },
  {
   "cell_type": "code",
   "execution_count": 116,
   "metadata": {},
   "outputs": [],
   "source": [
    "# learn_cls.recorder.plot_metrics()"
   ]
  },
  {
   "cell_type": "code",
   "execution_count": null,
   "metadata": {},
   "outputs": [],
   "source": [
    "lr = 1e-3\n",
    "learn_cls.freeze()\n",
    "learn_cls.fit_one_cycle(3, lr, moms=(0.8,0.7))"
   ]
  },
  {
   "cell_type": "code",
   "execution_count": 118,
   "metadata": {},
   "outputs": [
    {
     "data": {
      "text/html": [
       "<table border=\"1\" class=\"dataframe\">\n",
       "  <thead>\n",
       "    <tr style=\"text-align: left;\">\n",
       "      <th>epoch</th>\n",
       "      <th>train_loss</th>\n",
       "      <th>valid_loss</th>\n",
       "      <th>accuracy</th>\n",
       "      <th>f1</th>\n",
       "      <th>time</th>\n",
       "    </tr>\n",
       "  </thead>\n",
       "  <tbody>\n",
       "    <tr>\n",
       "      <td>0</td>\n",
       "      <td>0.670117</td>\n",
       "      <td>0.713908</td>\n",
       "      <td>0.511521</td>\n",
       "      <td>0.676829</td>\n",
       "      <td>00:19</td>\n",
       "    </tr>\n",
       "    <tr>\n",
       "      <td>1</td>\n",
       "      <td>0.652687</td>\n",
       "      <td>0.707731</td>\n",
       "      <td>0.516129</td>\n",
       "      <td>0.678899</td>\n",
       "      <td>00:20</td>\n",
       "    </tr>\n",
       "  </tbody>\n",
       "</table>"
      ],
      "text/plain": [
       "<IPython.core.display.HTML object>"
      ]
     },
     "metadata": {},
     "output_type": "display_data"
    }
   ],
   "source": [
    "lr = 2e-2\n",
    "learn_cls.freeze_to(-2)\n",
    "learn_cls.fit_one_cycle(2, slice(lr/(2.6**4),lr), moms=(0.8,0.7))"
   ]
  },
  {
   "cell_type": "code",
   "execution_count": 119,
   "metadata": {},
   "outputs": [
    {
     "data": {
      "text/html": [
       "<table border=\"1\" class=\"dataframe\">\n",
       "  <thead>\n",
       "    <tr style=\"text-align: left;\">\n",
       "      <th>epoch</th>\n",
       "      <th>train_loss</th>\n",
       "      <th>valid_loss</th>\n",
       "      <th>accuracy</th>\n",
       "      <th>f1</th>\n",
       "      <th>time</th>\n",
       "    </tr>\n",
       "  </thead>\n",
       "  <tbody>\n",
       "    <tr>\n",
       "      <td>0</td>\n",
       "      <td>0.635074</td>\n",
       "      <td>0.715662</td>\n",
       "      <td>0.534562</td>\n",
       "      <td>0.687307</td>\n",
       "      <td>00:20</td>\n",
       "    </tr>\n",
       "    <tr>\n",
       "      <td>1</td>\n",
       "      <td>0.614265</td>\n",
       "      <td>0.695494</td>\n",
       "      <td>0.548387</td>\n",
       "      <td>0.693750</td>\n",
       "      <td>00:19</td>\n",
       "    </tr>\n",
       "  </tbody>\n",
       "</table>"
      ],
      "text/plain": [
       "<IPython.core.display.HTML object>"
      ]
     },
     "metadata": {},
     "output_type": "display_data"
    }
   ],
   "source": [
    "learn_cls.fit_one_cycle(2, slice(lr/(2.6**4),lr), moms=(0.8,0.7))"
   ]
  },
  {
   "cell_type": "code",
   "execution_count": 120,
   "metadata": {},
   "outputs": [
    {
     "data": {
      "text/html": [
       "<table border=\"1\" class=\"dataframe\">\n",
       "  <thead>\n",
       "    <tr style=\"text-align: left;\">\n",
       "      <th>epoch</th>\n",
       "      <th>train_loss</th>\n",
       "      <th>valid_loss</th>\n",
       "      <th>accuracy</th>\n",
       "      <th>f1</th>\n",
       "      <th>time</th>\n",
       "    </tr>\n",
       "  </thead>\n",
       "  <tbody>\n",
       "    <tr>\n",
       "      <td>0</td>\n",
       "      <td>0.584860</td>\n",
       "      <td>0.669643</td>\n",
       "      <td>0.580645</td>\n",
       "      <td>0.709265</td>\n",
       "      <td>00:21</td>\n",
       "    </tr>\n",
       "    <tr>\n",
       "      <td>1</td>\n",
       "      <td>0.565205</td>\n",
       "      <td>0.636826</td>\n",
       "      <td>0.645161</td>\n",
       "      <td>0.722022</td>\n",
       "      <td>00:20</td>\n",
       "    </tr>\n",
       "  </tbody>\n",
       "</table>"
      ],
      "text/plain": [
       "<IPython.core.display.HTML object>"
      ]
     },
     "metadata": {},
     "output_type": "display_data"
    }
   ],
   "source": [
    "learn_cls.freeze_to(-3)\n",
    "learn_cls.fit_one_cycle(2, slice(lr/2/(2.6**4),lr/2), moms=(0.8,0.7))"
   ]
  },
  {
   "cell_type": "code",
   "execution_count": 121,
   "metadata": {},
   "outputs": [
    {
     "data": {
      "text/html": [
       "<table border=\"1\" class=\"dataframe\">\n",
       "  <thead>\n",
       "    <tr style=\"text-align: left;\">\n",
       "      <th>epoch</th>\n",
       "      <th>train_loss</th>\n",
       "      <th>valid_loss</th>\n",
       "      <th>accuracy</th>\n",
       "      <th>f1</th>\n",
       "      <th>time</th>\n",
       "    </tr>\n",
       "  </thead>\n",
       "  <tbody>\n",
       "    <tr>\n",
       "      <td>0</td>\n",
       "      <td>0.514095</td>\n",
       "      <td>0.612678</td>\n",
       "      <td>0.658986</td>\n",
       "      <td>0.739437</td>\n",
       "      <td>00:21</td>\n",
       "    </tr>\n",
       "    <tr>\n",
       "      <td>1</td>\n",
       "      <td>0.531782</td>\n",
       "      <td>0.591656</td>\n",
       "      <td>0.728111</td>\n",
       "      <td>0.737778</td>\n",
       "      <td>00:21</td>\n",
       "    </tr>\n",
       "  </tbody>\n",
       "</table>"
      ],
      "text/plain": [
       "<IPython.core.display.HTML object>"
      ]
     },
     "metadata": {},
     "output_type": "display_data"
    }
   ],
   "source": [
    "learn_cls.fit_one_cycle(2, slice(lr/2/(2.6**4),lr/2), moms=(0.8,0.7))"
   ]
  },
  {
   "cell_type": "code",
   "execution_count": 122,
   "metadata": {},
   "outputs": [
    {
     "data": {
      "text/html": [
       "<table border=\"1\" class=\"dataframe\">\n",
       "  <thead>\n",
       "    <tr style=\"text-align: left;\">\n",
       "      <th>epoch</th>\n",
       "      <th>train_loss</th>\n",
       "      <th>valid_loss</th>\n",
       "      <th>accuracy</th>\n",
       "      <th>f1</th>\n",
       "      <th>time</th>\n",
       "    </tr>\n",
       "  </thead>\n",
       "  <tbody>\n",
       "    <tr>\n",
       "      <td>0</td>\n",
       "      <td>0.489113</td>\n",
       "      <td>0.564866</td>\n",
       "      <td>0.746544</td>\n",
       "      <td>0.755556</td>\n",
       "      <td>00:22</td>\n",
       "    </tr>\n",
       "    <tr>\n",
       "      <td>1</td>\n",
       "      <td>0.482449</td>\n",
       "      <td>0.537624</td>\n",
       "      <td>0.746544</td>\n",
       "      <td>0.755556</td>\n",
       "      <td>00:22</td>\n",
       "    </tr>\n",
       "    <tr>\n",
       "      <td>2</td>\n",
       "      <td>0.469587</td>\n",
       "      <td>0.522763</td>\n",
       "      <td>0.755760</td>\n",
       "      <td>0.760181</td>\n",
       "      <td>00:22</td>\n",
       "    </tr>\n",
       "    <tr>\n",
       "      <td>3</td>\n",
       "      <td>0.465013</td>\n",
       "      <td>0.526218</td>\n",
       "      <td>0.755760</td>\n",
       "      <td>0.755760</td>\n",
       "      <td>00:22</td>\n",
       "    </tr>\n",
       "  </tbody>\n",
       "</table>"
      ],
      "text/plain": [
       "<IPython.core.display.HTML object>"
      ]
     },
     "metadata": {},
     "output_type": "display_data"
    }
   ],
   "source": [
    "learn_cls.unfreeze()\n",
    "learn_cls.fit_one_cycle(4, slice(lr/10/(2.6**4),lr/10), moms=(0.8,0.7))"
   ]
  },
  {
   "cell_type": "code",
   "execution_count": null,
   "metadata": {},
   "outputs": [],
   "source": [
    "learn_cls.fit_one_cycle(10, slice(lr/10/(2.6**4),lr/10), moms=(0.8,0.7))"
   ]
  },
  {
   "cell_type": "code",
   "execution_count": null,
   "metadata": {},
   "outputs": [],
   "source": [
    "learn_cls.fit_one_cycle(1, slice(lr/10/(2.6**4),lr/10), moms=(0.8,0.7))"
   ]
  },
  {
   "cell_type": "code",
   "execution_count": null,
   "metadata": {},
   "outputs": [],
   "source": [
    "# learn_cls.save('cls-is_GO0005886-v0');"
   ]
  },
  {
   "cell_type": "code",
   "execution_count": null,
   "metadata": {},
   "outputs": [],
   "source": [
    "# learn_cls.load('cls-is_GO0005525-v0');"
   ]
  },
  {
   "cell_type": "code",
   "execution_count": null,
   "metadata": {},
   "outputs": [],
   "source": [
    "%debug"
   ]
  },
  {
   "cell_type": "code",
   "execution_count": null,
   "metadata": {},
   "outputs": [],
   "source": [
    "bug"
   ]
  },
  {
   "cell_type": "code",
   "execution_count": null,
   "metadata": {},
   "outputs": [],
   "source": [
    "learn_cls.validate(metrics=[partial(accuracy_thresh, thresh=0.5), partial(fbeta, thresh=0.5, beta = 1), top_k_accuracy])"
   ]
  },
  {
   "cell_type": "code",
   "execution_count": null,
   "metadata": {},
   "outputs": [],
   "source": [
    "pred = learn_cls.get_preds()"
   ]
  },
  {
   "cell_type": "code",
   "execution_count": null,
   "metadata": {},
   "outputs": [],
   "source": [
    "learn_cls.summary()"
   ]
  },
  {
   "cell_type": "code",
   "execution_count": null,
   "metadata": {},
   "outputs": [],
   "source": [
    "learn_cls.model"
   ]
  },
  {
   "cell_type": "code",
   "execution_count": null,
   "metadata": {},
   "outputs": [],
   "source": [
    "interp = ClassificationInterpretation.from_learner(learn_cls)"
   ]
  },
  {
   "cell_type": "code",
   "execution_count": null,
   "metadata": {},
   "outputs": [],
   "source": [
    "losses,idxs = interp.top_losses()"
   ]
  },
  {
   "cell_type": "code",
   "execution_count": null,
   "metadata": {},
   "outputs": [],
   "source": [
    "len(data_cls.valid_ds)==len(losses)==len(idxs)"
   ]
  },
  {
   "cell_type": "code",
   "execution_count": null,
   "metadata": {},
   "outputs": [],
   "source": [
    "# interp.plot_top_losses(9, figsize=(15,11))"
   ]
  },
  {
   "cell_type": "code",
   "execution_count": null,
   "metadata": {},
   "outputs": [],
   "source": []
  },
  {
   "cell_type": "code",
   "execution_count": null,
   "metadata": {},
   "outputs": [],
   "source": [
    "interp.plot_confusion_matrix(figsize=(6,6), dpi=120)"
   ]
  },
  {
   "cell_type": "code",
   "execution_count": null,
   "metadata": {},
   "outputs": [],
   "source": [
    "interp.most_confused(min_val=2)"
   ]
  },
  {
   "cell_type": "code",
   "execution_count": null,
   "metadata": {},
   "outputs": [],
   "source": [
    "(losses > 1).sum()"
   ]
  },
  {
   "cell_type": "code",
   "execution_count": null,
   "metadata": {},
   "outputs": [],
   "source": [
    "len(losses)"
   ]
  },
  {
   "cell_type": "code",
   "execution_count": null,
   "metadata": {},
   "outputs": [],
   "source": [
    "len(data_cls.classes)"
   ]
  },
  {
   "cell_type": "code",
   "execution_count": null,
   "metadata": {},
   "outputs": [],
   "source": [
    "preds,targs = learn_cls.get_preds(ordered=True)\n",
    "accuracy(preds,targs),f1(preds,targs)"
   ]
  },
  {
   "cell_type": "code",
   "execution_count": null,
   "metadata": {},
   "outputs": [],
   "source": []
  }
 ],
 "metadata": {
  "kernelspec": {
   "display_name": "Python 3",
   "language": "python",
   "name": "python3"
  },
  "language_info": {
   "codemirror_mode": {
    "name": "ipython",
    "version": 3
   },
   "file_extension": ".py",
   "mimetype": "text/x-python",
   "name": "python",
   "nbconvert_exporter": "python",
   "pygments_lexer": "ipython3",
   "version": "3.7.3"
  }
 },
 "nbformat": 4,
 "nbformat_minor": 2
}
