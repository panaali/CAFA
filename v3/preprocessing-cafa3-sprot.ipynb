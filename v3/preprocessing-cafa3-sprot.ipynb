{
 "cells": [
  {
   "cell_type": "code",
   "execution_count": 102,
   "metadata": {},
   "outputs": [],
   "source": [
    "import pandas as pd\n",
    "import pickle\n",
    "from Bio import SeqIO\n"
   ]
  },
  {
   "cell_type": "code",
   "execution_count": 499,
   "metadata": {},
   "outputs": [],
   "source": [
    "df = pickle.load(open('./py/sproat_parser_df_sp.p', 'rb'))"
   ]
  },
  {
   "cell_type": "code",
   "execution_count": 500,
   "metadata": {},
   "outputs": [
    {
     "data": {
      "text/plain": [
       "553474"
      ]
     },
     "execution_count": 500,
     "metadata": {},
     "output_type": "execute_result"
    }
   ],
   "source": [
    "len(df)"
   ]
  },
  {
   "cell_type": "code",
   "execution_count": 501,
   "metadata": {},
   "outputs": [
    {
     "data": {
      "text/html": [
       "<div>\n",
       "<style scoped>\n",
       "    .dataframe tbody tr th:only-of-type {\n",
       "        vertical-align: middle;\n",
       "    }\n",
       "\n",
       "    .dataframe tbody tr th {\n",
       "        vertical-align: top;\n",
       "    }\n",
       "\n",
       "    .dataframe thead th {\n",
       "        text-align: right;\n",
       "    }\n",
       "</style>\n",
       "<table border=\"1\" class=\"dataframe\">\n",
       "  <thead>\n",
       "    <tr style=\"text-align: right;\">\n",
       "      <th></th>\n",
       "      <th>accessions</th>\n",
       "      <th>annotation_update</th>\n",
       "      <th>comments</th>\n",
       "      <th>created</th>\n",
       "      <th>cross_references</th>\n",
       "      <th>data_class</th>\n",
       "      <th>description</th>\n",
       "      <th>entry_name</th>\n",
       "      <th>features</th>\n",
       "      <th>gene_name</th>\n",
       "      <th>...</th>\n",
       "      <th>organelle</th>\n",
       "      <th>organism</th>\n",
       "      <th>organism_classification</th>\n",
       "      <th>protein_existence</th>\n",
       "      <th>references</th>\n",
       "      <th>seqinfo</th>\n",
       "      <th>sequence</th>\n",
       "      <th>sequence_length</th>\n",
       "      <th>sequence_update</th>\n",
       "      <th>taxonomy_id</th>\n",
       "    </tr>\n",
       "  </thead>\n",
       "  <tbody>\n",
       "    <tr>\n",
       "      <th>211966</th>\n",
       "      <td>[Q92A28]</td>\n",
       "      <td>(02-NOV-2016, 87)</td>\n",
       "      <td>[FUNCTION: Catalyzes the condensation of the a...</td>\n",
       "      <td>(26-JUL-2002, 0)</td>\n",
       "      <td>[(EMBL, AL596171, CAC97324.1, -, Genomic_DNA),...</td>\n",
       "      <td>Reviewed</td>\n",
       "      <td>RecName: Full=2-isopropylmalate synthase {ECO:...</td>\n",
       "      <td>LEU1_LISIN</td>\n",
       "      <td>[(CHAIN, 1, 512, 2-isopropylmalate synthase., ...</td>\n",
       "      <td>Name=leuA {ECO:0000255|HAMAP-Rule:MF_01025}; O...</td>\n",
       "      <td>...</td>\n",
       "      <td></td>\n",
       "      <td>Listeria innocua serovar 6a (strain ATCC BAA-6...</td>\n",
       "      <td>[Bacteria, Firmicutes, Bacilli, Bacillales, Li...</td>\n",
       "      <td>3</td>\n",
       "      <td>[&lt;Bio.SwissProt.Reference object at 0x7fbf3b68...</td>\n",
       "      <td>(512, 56149, 23836636815EC7E2)</td>\n",
       "      <td>MKKIQFFDTTLRDGEQTPGVNFDVKEKIQIALQLEKLGIDVIEAGF...</td>\n",
       "      <td>512</td>\n",
       "      <td>(01-DEC-2001, 1)</td>\n",
       "      <td>[272626]</td>\n",
       "    </tr>\n",
       "  </tbody>\n",
       "</table>\n",
       "<p>1 rows × 24 columns</p>\n",
       "</div>"
      ],
      "text/plain": [
       "       accessions  annotation_update  \\\n",
       "211966   [Q92A28]  (02-NOV-2016, 87)   \n",
       "\n",
       "                                                 comments           created  \\\n",
       "211966  [FUNCTION: Catalyzes the condensation of the a...  (26-JUL-2002, 0)   \n",
       "\n",
       "                                         cross_references data_class  \\\n",
       "211966  [(EMBL, AL596171, CAC97324.1, -, Genomic_DNA),...   Reviewed   \n",
       "\n",
       "                                              description  entry_name  \\\n",
       "211966  RecName: Full=2-isopropylmalate synthase {ECO:...  LEU1_LISIN   \n",
       "\n",
       "                                                 features  \\\n",
       "211966  [(CHAIN, 1, 512, 2-isopropylmalate synthase., ...   \n",
       "\n",
       "                                                gene_name  ... organelle  \\\n",
       "211966  Name=leuA {ECO:0000255|HAMAP-Rule:MF_01025}; O...  ...             \n",
       "\n",
       "                                                 organism  \\\n",
       "211966  Listeria innocua serovar 6a (strain ATCC BAA-6...   \n",
       "\n",
       "                                  organism_classification protein_existence  \\\n",
       "211966  [Bacteria, Firmicutes, Bacilli, Bacillales, Li...                 3   \n",
       "\n",
       "                                               references  \\\n",
       "211966  [<Bio.SwissProt.Reference object at 0x7fbf3b68...   \n",
       "\n",
       "                               seqinfo  \\\n",
       "211966  (512, 56149, 23836636815EC7E2)   \n",
       "\n",
       "                                                 sequence  sequence_length  \\\n",
       "211966  MKKIQFFDTTLRDGEQTPGVNFDVKEKIQIALQLEKLGIDVIEAGF...              512   \n",
       "\n",
       "         sequence_update taxonomy_id  \n",
       "211966  (01-DEC-2001, 1)    [272626]  \n",
       "\n",
       "[1 rows x 24 columns]"
      ]
     },
     "execution_count": 501,
     "metadata": {},
     "output_type": "execute_result"
    }
   ],
   "source": [
    "df.sample()"
   ]
  },
  {
   "cell_type": "code",
   "execution_count": null,
   "metadata": {},
   "outputs": [],
   "source": [
    "# from dask.distributed import Client, progress\n",
    "# client = Client(n_workers=20, threads_per_worker=2, memory_limit='10GB')\n",
    "# client"
   ]
  },
  {
   "cell_type": "code",
   "execution_count": null,
   "metadata": {},
   "outputs": [],
   "source": [
    "# import dask\n",
    "# import dask.dataframe as dd"
   ]
  },
  {
   "cell_type": "code",
   "execution_count": null,
   "metadata": {},
   "outputs": [],
   "source": [
    "# df_10 = df[:10]\n",
    "# df_10['primary_accession'] = df_10.apply(lambda x: x.accessions[0], axis=1)"
   ]
  },
  {
   "cell_type": "code",
   "execution_count": 504,
   "metadata": {},
   "outputs": [
    {
     "data": {
      "text/html": [
       "<div>\n",
       "<style scoped>\n",
       "    .dataframe tbody tr th:only-of-type {\n",
       "        vertical-align: middle;\n",
       "    }\n",
       "\n",
       "    .dataframe tbody tr th {\n",
       "        vertical-align: top;\n",
       "    }\n",
       "\n",
       "    .dataframe thead th {\n",
       "        text-align: right;\n",
       "    }\n",
       "</style>\n",
       "<table border=\"1\" class=\"dataframe\">\n",
       "  <thead>\n",
       "    <tr style=\"text-align: right;\">\n",
       "      <th></th>\n",
       "      <th>accessions</th>\n",
       "      <th>annotation_update</th>\n",
       "      <th>comments</th>\n",
       "      <th>created</th>\n",
       "      <th>cross_references</th>\n",
       "      <th>data_class</th>\n",
       "      <th>description</th>\n",
       "      <th>entry_name</th>\n",
       "      <th>features</th>\n",
       "      <th>gene_name</th>\n",
       "      <th>...</th>\n",
       "      <th>organism</th>\n",
       "      <th>organism_classification</th>\n",
       "      <th>protein_existence</th>\n",
       "      <th>references</th>\n",
       "      <th>seqinfo</th>\n",
       "      <th>sequence</th>\n",
       "      <th>sequence_length</th>\n",
       "      <th>sequence_update</th>\n",
       "      <th>taxonomy_id</th>\n",
       "      <th>primary_accession</th>\n",
       "    </tr>\n",
       "  </thead>\n",
       "  <tbody>\n",
       "    <tr>\n",
       "      <th>414134</th>\n",
       "      <td>[B9K8D3]</td>\n",
       "      <td>(02-NOV-2016, 41)</td>\n",
       "      <td>[SIMILARITY: Belongs to the ribosomal protein ...</td>\n",
       "      <td>(28-JUL-2009, 0)</td>\n",
       "      <td>[(EMBL, CP000916, ACM23216.1, -, Genomic_DNA),...</td>\n",
       "      <td>Reviewed</td>\n",
       "      <td>RecName: Full=30S ribosomal protein S9 {ECO:00...</td>\n",
       "      <td>RS9_THENN</td>\n",
       "      <td>[(CHAIN, 1, 134, 30S ribosomal protein S9., PR...</td>\n",
       "      <td>Name=rpsI {ECO:0000255|HAMAP-Rule:MF_00532}; O...</td>\n",
       "      <td>...</td>\n",
       "      <td>Thermotoga neapolitana (strain ATCC 49049 / DS...</td>\n",
       "      <td>[Bacteria, Thermotogae, Thermotogales, Thermot...</td>\n",
       "      <td>3</td>\n",
       "      <td>[&lt;Bio.SwissProt.Reference object at 0x7fbf0c30...</td>\n",
       "      <td>(134, 15129, 6831A4DB6283AB87)</td>\n",
       "      <td>MASVIGYYGTGRRKTAVARVYLRPGDGKVKVNGKEYESLNDYFKNI...</td>\n",
       "      <td>134</td>\n",
       "      <td>(24-MAR-2009, 1)</td>\n",
       "      <td>[309803]</td>\n",
       "      <td>B9K8D3</td>\n",
       "    </tr>\n",
       "  </tbody>\n",
       "</table>\n",
       "<p>1 rows × 25 columns</p>\n",
       "</div>"
      ],
      "text/plain": [
       "       accessions  annotation_update  \\\n",
       "414134   [B9K8D3]  (02-NOV-2016, 41)   \n",
       "\n",
       "                                                 comments           created  \\\n",
       "414134  [SIMILARITY: Belongs to the ribosomal protein ...  (28-JUL-2009, 0)   \n",
       "\n",
       "                                         cross_references data_class  \\\n",
       "414134  [(EMBL, CP000916, ACM23216.1, -, Genomic_DNA),...   Reviewed   \n",
       "\n",
       "                                              description entry_name  \\\n",
       "414134  RecName: Full=30S ribosomal protein S9 {ECO:00...  RS9_THENN   \n",
       "\n",
       "                                                 features  \\\n",
       "414134  [(CHAIN, 1, 134, 30S ribosomal protein S9., PR...   \n",
       "\n",
       "                                                gene_name  ...  \\\n",
       "414134  Name=rpsI {ECO:0000255|HAMAP-Rule:MF_00532}; O...  ...   \n",
       "\n",
       "                                                 organism  \\\n",
       "414134  Thermotoga neapolitana (strain ATCC 49049 / DS...   \n",
       "\n",
       "                                  organism_classification protein_existence  \\\n",
       "414134  [Bacteria, Thermotogae, Thermotogales, Thermot...                 3   \n",
       "\n",
       "                                               references  \\\n",
       "414134  [<Bio.SwissProt.Reference object at 0x7fbf0c30...   \n",
       "\n",
       "                               seqinfo  \\\n",
       "414134  (134, 15129, 6831A4DB6283AB87)   \n",
       "\n",
       "                                                 sequence sequence_length  \\\n",
       "414134  MASVIGYYGTGRRKTAVARVYLRPGDGKVKVNGKEYESLNDYFKNI...             134   \n",
       "\n",
       "         sequence_update taxonomy_id primary_accession  \n",
       "414134  (24-MAR-2009, 1)    [309803]            B9K8D3  \n",
       "\n",
       "[1 rows x 25 columns]"
      ]
     },
     "execution_count": 504,
     "metadata": {},
     "output_type": "execute_result"
    }
   ],
   "source": [
    "df['primary_accession'] = df.apply(lambda row: row.accessions[0], axis=1)\n",
    "df.sample()"
   ]
  },
  {
   "cell_type": "code",
   "execution_count": 521,
   "metadata": {},
   "outputs": [],
   "source": [
    "df.set_index('primary_accession', inplace=True)"
   ]
  },
  {
   "cell_type": "code",
   "execution_count": 522,
   "metadata": {},
   "outputs": [
    {
     "data": {
      "text/html": [
       "<div>\n",
       "<style scoped>\n",
       "    .dataframe tbody tr th:only-of-type {\n",
       "        vertical-align: middle;\n",
       "    }\n",
       "\n",
       "    .dataframe tbody tr th {\n",
       "        vertical-align: top;\n",
       "    }\n",
       "\n",
       "    .dataframe thead th {\n",
       "        text-align: right;\n",
       "    }\n",
       "</style>\n",
       "<table border=\"1\" class=\"dataframe\">\n",
       "  <thead>\n",
       "    <tr style=\"text-align: right;\">\n",
       "      <th></th>\n",
       "      <th>accessions</th>\n",
       "      <th>annotation_update</th>\n",
       "      <th>comments</th>\n",
       "      <th>created</th>\n",
       "      <th>cross_references</th>\n",
       "      <th>data_class</th>\n",
       "      <th>description</th>\n",
       "      <th>entry_name</th>\n",
       "      <th>features</th>\n",
       "      <th>gene_name</th>\n",
       "      <th>...</th>\n",
       "      <th>organelle</th>\n",
       "      <th>organism</th>\n",
       "      <th>organism_classification</th>\n",
       "      <th>protein_existence</th>\n",
       "      <th>references</th>\n",
       "      <th>seqinfo</th>\n",
       "      <th>sequence</th>\n",
       "      <th>sequence_length</th>\n",
       "      <th>sequence_update</th>\n",
       "      <th>taxonomy_id</th>\n",
       "    </tr>\n",
       "    <tr>\n",
       "      <th>primary_accession</th>\n",
       "      <th></th>\n",
       "      <th></th>\n",
       "      <th></th>\n",
       "      <th></th>\n",
       "      <th></th>\n",
       "      <th></th>\n",
       "      <th></th>\n",
       "      <th></th>\n",
       "      <th></th>\n",
       "      <th></th>\n",
       "      <th></th>\n",
       "      <th></th>\n",
       "      <th></th>\n",
       "      <th></th>\n",
       "      <th></th>\n",
       "      <th></th>\n",
       "      <th></th>\n",
       "      <th></th>\n",
       "      <th></th>\n",
       "      <th></th>\n",
       "      <th></th>\n",
       "    </tr>\n",
       "  </thead>\n",
       "  <tbody>\n",
       "    <tr>\n",
       "      <th>Q9EUT5</th>\n",
       "      <td>[Q9EUT5]</td>\n",
       "      <td>(05-OCT-2016, 53)</td>\n",
       "      <td>[FUNCTION: Synthesizes alpha-1,4-glucan chains...</td>\n",
       "      <td>(16-NOV-2001, 0)</td>\n",
       "      <td>[(EMBL, AJ291603, CAC17472.1, -, Genomic_DNA),...</td>\n",
       "      <td>Reviewed</td>\n",
       "      <td>RecName: Full=Glycogen synthase {ECO:0000255|H...</td>\n",
       "      <td>GLGA_RHITR</td>\n",
       "      <td>[(CHAIN, 1, 480, Glycogen synthase., PRO_00001...</td>\n",
       "      <td>Name=glgA {ECO:0000255|HAMAP-Rule:MF_00484};</td>\n",
       "      <td>...</td>\n",
       "      <td></td>\n",
       "      <td>Rhizobium tropici.</td>\n",
       "      <td>[Bacteria, Proteobacteria, Alphaproteobacteria...</td>\n",
       "      <td>3</td>\n",
       "      <td>[&lt;Bio.SwissProt.Reference object at 0x7fbf47c6...</td>\n",
       "      <td>(480, 51646, 93405DB405663B26)</td>\n",
       "      <td>MKVLSVSSEVFPLIKTGGLADVVGALPIALKPYGVETKTLIPGYPA...</td>\n",
       "      <td>480</td>\n",
       "      <td>(01-MAR-2001, 1)</td>\n",
       "      <td>[398]</td>\n",
       "    </tr>\n",
       "  </tbody>\n",
       "</table>\n",
       "<p>1 rows × 24 columns</p>\n",
       "</div>"
      ],
      "text/plain": [
       "                  accessions  annotation_update  \\\n",
       "primary_accession                                 \n",
       "Q9EUT5              [Q9EUT5]  (05-OCT-2016, 53)   \n",
       "\n",
       "                                                            comments  \\\n",
       "primary_accession                                                      \n",
       "Q9EUT5             [FUNCTION: Synthesizes alpha-1,4-glucan chains...   \n",
       "\n",
       "                            created  \\\n",
       "primary_accession                     \n",
       "Q9EUT5             (16-NOV-2001, 0)   \n",
       "\n",
       "                                                    cross_references  \\\n",
       "primary_accession                                                      \n",
       "Q9EUT5             [(EMBL, AJ291603, CAC17472.1, -, Genomic_DNA),...   \n",
       "\n",
       "                  data_class  \\\n",
       "primary_accession              \n",
       "Q9EUT5              Reviewed   \n",
       "\n",
       "                                                         description  \\\n",
       "primary_accession                                                      \n",
       "Q9EUT5             RecName: Full=Glycogen synthase {ECO:0000255|H...   \n",
       "\n",
       "                   entry_name  \\\n",
       "primary_accession               \n",
       "Q9EUT5             GLGA_RHITR   \n",
       "\n",
       "                                                            features  \\\n",
       "primary_accession                                                      \n",
       "Q9EUT5             [(CHAIN, 1, 480, Glycogen synthase., PRO_00001...   \n",
       "\n",
       "                                                      gene_name  ...  \\\n",
       "primary_accession                                                ...   \n",
       "Q9EUT5             Name=glgA {ECO:0000255|HAMAP-Rule:MF_00484};  ...   \n",
       "\n",
       "                  organelle            organism  \\\n",
       "primary_accession                                 \n",
       "Q9EUT5                       Rhizobium tropici.   \n",
       "\n",
       "                                             organism_classification  \\\n",
       "primary_accession                                                      \n",
       "Q9EUT5             [Bacteria, Proteobacteria, Alphaproteobacteria...   \n",
       "\n",
       "                  protein_existence  \\\n",
       "primary_accession                     \n",
       "Q9EUT5                            3   \n",
       "\n",
       "                                                          references  \\\n",
       "primary_accession                                                      \n",
       "Q9EUT5             [<Bio.SwissProt.Reference object at 0x7fbf47c6...   \n",
       "\n",
       "                                          seqinfo  \\\n",
       "primary_accession                                   \n",
       "Q9EUT5             (480, 51646, 93405DB405663B26)   \n",
       "\n",
       "                                                            sequence  \\\n",
       "primary_accession                                                      \n",
       "Q9EUT5             MKVLSVSSEVFPLIKTGGLADVVGALPIALKPYGVETKTLIPGYPA...   \n",
       "\n",
       "                   sequence_length   sequence_update taxonomy_id  \n",
       "primary_accession                                                 \n",
       "Q9EUT5                         480  (01-MAR-2001, 1)       [398]  \n",
       "\n",
       "[1 rows x 24 columns]"
      ]
     },
     "execution_count": 522,
     "metadata": {},
     "output_type": "execute_result"
    }
   ],
   "source": [
    "df.sample()"
   ]
  },
  {
   "cell_type": "code",
   "execution_count": 99,
   "metadata": {},
   "outputs": [],
   "source": [
    "def find_go(row):\n",
    "    for x in row:\n",
    "        if x[0] == 'GO' and 'IEA' not in x[3]: \n",
    "            return True\n",
    "    return False\n",
    "\n",
    "res = df[df['cross_references'].apply(find_go)]"
   ]
  },
  {
   "cell_type": "code",
   "execution_count": 100,
   "metadata": {},
   "outputs": [
    {
     "data": {
      "text/plain": [
       "116775"
      ]
     },
     "execution_count": 100,
     "metadata": {},
     "output_type": "execute_result"
    }
   ],
   "source": [
    "len(res)"
   ]
  },
  {
   "cell_type": "code",
   "execution_count": 109,
   "metadata": {},
   "outputs": [],
   "source": [
    "fasta_file = 'uniprot_sprot_exp.fasta'\n",
    "fasta_path = '../data/cafa3/CAFA 3 Protein Targets/CAFA3_training_data/'\n",
    "\n",
    "col_ids = []\n",
    "col_seqs = []\n",
    "for seq_record in SeqIO.parse(fasta_path + fasta_file, \"fasta\"):\n",
    "    col_ids.append(seq_record.id)\n",
    "    col_seqs.append(str(seq_record.seq))\n",
    "cols = {'accession': col_ids, 'seq': col_seqs}\n",
    "df_cafa_train = pd.DataFrame(data=cols)\n",
    "df_cafa_train.set_index('accession', inplace=True);"
   ]
  },
  {
   "cell_type": "code",
   "execution_count": 110,
   "metadata": {},
   "outputs": [
    {
     "data": {
      "text/html": [
       "<div>\n",
       "<style scoped>\n",
       "    .dataframe tbody tr th:only-of-type {\n",
       "        vertical-align: middle;\n",
       "    }\n",
       "\n",
       "    .dataframe tbody tr th {\n",
       "        vertical-align: top;\n",
       "    }\n",
       "\n",
       "    .dataframe thead th {\n",
       "        text-align: right;\n",
       "    }\n",
       "</style>\n",
       "<table border=\"1\" class=\"dataframe\">\n",
       "  <thead>\n",
       "    <tr style=\"text-align: right;\">\n",
       "      <th></th>\n",
       "      <th>seq</th>\n",
       "    </tr>\n",
       "    <tr>\n",
       "      <th>accession</th>\n",
       "      <th></th>\n",
       "    </tr>\n",
       "  </thead>\n",
       "  <tbody>\n",
       "    <tr>\n",
       "      <th>A0A060X6Z0</th>\n",
       "      <td>MPISSSSSSSTKSMRRAASELERSDSVTSPRFIGRRQSLIEDARKE...</td>\n",
       "    </tr>\n",
       "    <tr>\n",
       "      <th>A0A068FIK2</th>\n",
       "      <td>MEVGGGSEECCVKVAVHVRPLIGDEKVQGCKDCVTVIPGKPQVQIG...</td>\n",
       "    </tr>\n",
       "    <tr>\n",
       "      <th>A0A075F932</th>\n",
       "      <td>MVSESHHEALAAPPATTVAAAPPSNVTEPASPGGGGGKEDAFSKLK...</td>\n",
       "    </tr>\n",
       "    <tr>\n",
       "      <th>A0A078CGE6</th>\n",
       "      <td>MARQMTSSQFHKSKTLDNKYMLGDEIGKGAYGRVYIGLDLENGDFV...</td>\n",
       "    </tr>\n",
       "    <tr>\n",
       "      <th>A0A086F3E3</th>\n",
       "      <td>MTKGRLEAFSDGVLAIIITIMVLELKVPEGSSWASLQPILPRFLAY...</td>\n",
       "    </tr>\n",
       "  </tbody>\n",
       "</table>\n",
       "</div>"
      ],
      "text/plain": [
       "                                                          seq\n",
       "accession                                                    \n",
       "A0A060X6Z0  MPISSSSSSSTKSMRRAASELERSDSVTSPRFIGRRQSLIEDARKE...\n",
       "A0A068FIK2  MEVGGGSEECCVKVAVHVRPLIGDEKVQGCKDCVTVIPGKPQVQIG...\n",
       "A0A075F932  MVSESHHEALAAPPATTVAAAPPSNVTEPASPGGGGGKEDAFSKLK...\n",
       "A0A078CGE6  MARQMTSSQFHKSKTLDNKYMLGDEIGKGAYGRVYIGLDLENGDFV...\n",
       "A0A086F3E3  MTKGRLEAFSDGVLAIIITIMVLELKVPEGSSWASLQPILPRFLAY..."
      ]
     },
     "execution_count": 110,
     "metadata": {},
     "output_type": "execute_result"
    }
   ],
   "source": [
    "df_cafa_train.head()"
   ]
  },
  {
   "cell_type": "code",
   "execution_count": 111,
   "metadata": {},
   "outputs": [],
   "source": [
    "go_file = 'uniprot_sprot_exp.txt'\n",
    "go_path = '../data/cafa3/CAFA 3 Protein Targets/CAFA3_training_data/'\n",
    "\n",
    "df_go = pd.read_csv(go_path + go_file, delimiter='\\t', header=None, names=['accession', 'GO', 'domain']);\n",
    "df_go.set_index('accession', inplace=True);"
   ]
  },
  {
   "cell_type": "code",
   "execution_count": 113,
   "metadata": {},
   "outputs": [
    {
     "data": {
      "text/html": [
       "<div>\n",
       "<style scoped>\n",
       "    .dataframe tbody tr th:only-of-type {\n",
       "        vertical-align: middle;\n",
       "    }\n",
       "\n",
       "    .dataframe tbody tr th {\n",
       "        vertical-align: top;\n",
       "    }\n",
       "\n",
       "    .dataframe thead th {\n",
       "        text-align: right;\n",
       "    }\n",
       "</style>\n",
       "<table border=\"1\" class=\"dataframe\">\n",
       "  <thead>\n",
       "    <tr style=\"text-align: right;\">\n",
       "      <th></th>\n",
       "      <th>GO</th>\n",
       "      <th>domain</th>\n",
       "    </tr>\n",
       "    <tr>\n",
       "      <th>accession</th>\n",
       "      <th></th>\n",
       "      <th></th>\n",
       "    </tr>\n",
       "  </thead>\n",
       "  <tbody>\n",
       "    <tr>\n",
       "      <th>P0DJZ0</th>\n",
       "      <td>GO:0030430</td>\n",
       "      <td>C</td>\n",
       "    </tr>\n",
       "    <tr>\n",
       "      <th>P32234</th>\n",
       "      <td>GO:0005525</td>\n",
       "      <td>F</td>\n",
       "    </tr>\n",
       "    <tr>\n",
       "      <th>P83011</th>\n",
       "      <td>GO:0043231</td>\n",
       "      <td>C</td>\n",
       "    </tr>\n",
       "    <tr>\n",
       "      <th>P83010</th>\n",
       "      <td>GO:0043231</td>\n",
       "      <td>C</td>\n",
       "    </tr>\n",
       "    <tr>\n",
       "      <th>P81928</th>\n",
       "      <td>GO:0007275</td>\n",
       "      <td>P</td>\n",
       "    </tr>\n",
       "  </tbody>\n",
       "</table>\n",
       "</div>"
      ],
      "text/plain": [
       "                   GO domain\n",
       "accession                   \n",
       "P0DJZ0     GO:0030430      C\n",
       "P32234     GO:0005525      F\n",
       "P83011     GO:0043231      C\n",
       "P83010     GO:0043231      C\n",
       "P81928     GO:0007275      P"
      ]
     },
     "execution_count": 113,
     "metadata": {},
     "output_type": "execute_result"
    }
   ],
   "source": [
    "df_go.head()"
   ]
  },
  {
   "cell_type": "code",
   "execution_count": 363,
   "metadata": {},
   "outputs": [
    {
     "data": {
      "text/plain": [
       "2914"
      ]
     },
     "execution_count": 363,
     "metadata": {},
     "output_type": "execute_result"
    }
   ],
   "source": [
    "df_go_10 = df_go[:1000000]\n",
    "def get_evidence(row):\n",
    "    try:\n",
    "        sprot_row = df.loc[row.name, 'cross_references']\n",
    "    except:\n",
    "        sprot_row = []\n",
    "    if len(sprot_row) > 0:\n",
    "        for ref in sprot_row:\n",
    "            if ref[0] == 'GO' and ref[1] == row.GO: \n",
    "                return ref[3]\n",
    "    return None\n",
    "applied = df_go_10.apply(get_evidence, axis=1)\n",
    "df_go_not_found_in_sprot = df_go_10[applied.isnull()];\n",
    "len(df_go_not_found_in_sprot)"
   ]
  },
  {
   "cell_type": "code",
   "execution_count": 375,
   "metadata": {},
   "outputs": [
    {
     "data": {
      "text/plain": [
       "accession\n",
       "P0DJZ0    IDA:UniProtKB\n",
       "P32234      IDA:FlyBase\n",
       "P83011    IDA:UniProtKB\n",
       "P83010    IDA:UniProtKB\n",
       "P81928    IMP:UniProtKB\n",
       "dtype: object"
      ]
     },
     "execution_count": 375,
     "metadata": {},
     "output_type": "execute_result"
    }
   ],
   "source": [
    "applied.head()"
   ]
  },
  {
   "cell_type": "code",
   "execution_count": 403,
   "metadata": {},
   "outputs": [
    {
     "data": {
      "text/plain": [
       "{'EXP',\n",
       " 'IBA',\n",
       " 'IC',\n",
       " 'IDA',\n",
       " 'IEA',\n",
       " 'IEP',\n",
       " 'IGI',\n",
       " 'IMP',\n",
       " 'IPI',\n",
       " 'ISA',\n",
       " 'ISO',\n",
       " 'ISS',\n",
       " 'NAS',\n",
       " 'TAS'}"
      ]
     },
     "execution_count": 403,
     "metadata": {},
     "output_type": "execute_result"
    }
   ],
   "source": [
    "evidences = {x.split(':')[0] for x in applied.groupby(applied).count().index};\n"
   ]
  },
  {
   "cell_type": "code",
   "execution_count": 451,
   "metadata": {},
   "outputs": [
    {
     "data": {
      "text/plain": [
       "13"
      ]
     },
     "execution_count": 451,
     "metadata": {},
     "output_type": "execute_result"
    }
   ],
   "source": [
    "len(evidences)"
   ]
  },
  {
   "cell_type": "code",
   "execution_count": null,
   "metadata": {},
   "outputs": [],
   "source": [
    "evidences.remove('IEA');"
   ]
  },
  {
   "cell_type": "code",
   "execution_count": 435,
   "metadata": {},
   "outputs": [],
   "source": [
    "def getbyEvidence(row):\n",
    "    for ref in row.cross_references:\n",
    "        if ref[0] == 'GO' and ref[3].split(':')[0] in evidences:\n",
    "            return True\n",
    "    return False\n",
    "evidence_series = df.apply(getbyEvidence, axis=1)"
   ]
  },
  {
   "cell_type": "code",
   "execution_count": 436,
   "metadata": {},
   "outputs": [
    {
     "data": {
      "text/plain": [
       "116693"
      ]
     },
     "execution_count": 436,
     "metadata": {},
     "output_type": "execute_result"
    }
   ],
   "source": [
    "len(df[evidence_series])"
   ]
  },
  {
   "cell_type": "code",
   "execution_count": 437,
   "metadata": {},
   "outputs": [],
   "source": [
    "def func(row):\n",
    "    return len(row.accessions)\n",
    "df_acc_len = df.apply(func, axis=1);"
   ]
  },
  {
   "cell_type": "code",
   "execution_count": 438,
   "metadata": {},
   "outputs": [
    {
     "data": {
      "text/html": [
       "<div>\n",
       "<style scoped>\n",
       "    .dataframe tbody tr th:only-of-type {\n",
       "        vertical-align: middle;\n",
       "    }\n",
       "\n",
       "    .dataframe tbody tr th {\n",
       "        vertical-align: top;\n",
       "    }\n",
       "\n",
       "    .dataframe thead th {\n",
       "        text-align: right;\n",
       "    }\n",
       "</style>\n",
       "<table border=\"1\" class=\"dataframe\">\n",
       "  <thead>\n",
       "    <tr style=\"text-align: right;\">\n",
       "      <th></th>\n",
       "      <th>accessions</th>\n",
       "      <th>annotation_update</th>\n",
       "      <th>comments</th>\n",
       "      <th>created</th>\n",
       "      <th>cross_references</th>\n",
       "      <th>data_class</th>\n",
       "      <th>description</th>\n",
       "      <th>entry_name</th>\n",
       "      <th>features</th>\n",
       "      <th>gene_name</th>\n",
       "      <th>...</th>\n",
       "      <th>organelle</th>\n",
       "      <th>organism</th>\n",
       "      <th>organism_classification</th>\n",
       "      <th>protein_existence</th>\n",
       "      <th>references</th>\n",
       "      <th>seqinfo</th>\n",
       "      <th>sequence</th>\n",
       "      <th>sequence_length</th>\n",
       "      <th>sequence_update</th>\n",
       "      <th>taxonomy_id</th>\n",
       "    </tr>\n",
       "    <tr>\n",
       "      <th>primary_accession</th>\n",
       "      <th></th>\n",
       "      <th></th>\n",
       "      <th></th>\n",
       "      <th></th>\n",
       "      <th></th>\n",
       "      <th></th>\n",
       "      <th></th>\n",
       "      <th></th>\n",
       "      <th></th>\n",
       "      <th></th>\n",
       "      <th></th>\n",
       "      <th></th>\n",
       "      <th></th>\n",
       "      <th></th>\n",
       "      <th></th>\n",
       "      <th></th>\n",
       "      <th></th>\n",
       "      <th></th>\n",
       "      <th></th>\n",
       "      <th></th>\n",
       "      <th></th>\n",
       "    </tr>\n",
       "  </thead>\n",
       "  <tbody>\n",
       "    <tr>\n",
       "      <th>Q29983</th>\n",
       "      <td>[Q29983, A8KQR0, A9LRW5, A9QVE0, B1VJF1, O6091...</td>\n",
       "      <td>(02-NOV-2016, 141)</td>\n",
       "      <td>[FUNCTION: Seems to have no role in antigen pr...</td>\n",
       "      <td>(20-MAY-2008, 0)</td>\n",
       "      <td>[(EMBL, L14848, AAA21718.1, -, mRNA), (EMBL, X...</td>\n",
       "      <td>Reviewed</td>\n",
       "      <td>RecName: Full=MHC class I polypeptide-related ...</td>\n",
       "      <td>MICA_HUMAN</td>\n",
       "      <td>[(SIGNAL, 1, 23, , ), (CHAIN, 24, 383, MHC cla...</td>\n",
       "      <td>Name=MICA {ECO:0000312|EMBL:CAI41907.1}; Synon...</td>\n",
       "      <td>...</td>\n",
       "      <td></td>\n",
       "      <td>Homo sapiens (Human).</td>\n",
       "      <td>[Eukaryota, Metazoa, Chordata, Craniata, Verte...</td>\n",
       "      <td>1</td>\n",
       "      <td>[&lt;Bio.SwissProt.Reference object at 0x7fc1cdb3...</td>\n",
       "      <td>(383, 42915, 1FE084813DDA13A8)</td>\n",
       "      <td>MGLGPVFLLLAGIFPFAPPGAAAEPHSLRYNLTVLSWDGSVQSGFL...</td>\n",
       "      <td>383</td>\n",
       "      <td>(01-NOV-1996, 1)</td>\n",
       "      <td>[9606]</td>\n",
       "    </tr>\n",
       "  </tbody>\n",
       "</table>\n",
       "<p>1 rows × 24 columns</p>\n",
       "</div>"
      ],
      "text/plain": [
       "                                                          accessions  \\\n",
       "primary_accession                                                      \n",
       "Q29983             [Q29983, A8KQR0, A9LRW5, A9QVE0, B1VJF1, O6091...   \n",
       "\n",
       "                    annotation_update  \\\n",
       "primary_accession                       \n",
       "Q29983             (02-NOV-2016, 141)   \n",
       "\n",
       "                                                            comments  \\\n",
       "primary_accession                                                      \n",
       "Q29983             [FUNCTION: Seems to have no role in antigen pr...   \n",
       "\n",
       "                            created  \\\n",
       "primary_accession                     \n",
       "Q29983             (20-MAY-2008, 0)   \n",
       "\n",
       "                                                    cross_references  \\\n",
       "primary_accession                                                      \n",
       "Q29983             [(EMBL, L14848, AAA21718.1, -, mRNA), (EMBL, X...   \n",
       "\n",
       "                  data_class  \\\n",
       "primary_accession              \n",
       "Q29983              Reviewed   \n",
       "\n",
       "                                                         description  \\\n",
       "primary_accession                                                      \n",
       "Q29983             RecName: Full=MHC class I polypeptide-related ...   \n",
       "\n",
       "                   entry_name  \\\n",
       "primary_accession               \n",
       "Q29983             MICA_HUMAN   \n",
       "\n",
       "                                                            features  \\\n",
       "primary_accession                                                      \n",
       "Q29983             [(SIGNAL, 1, 23, , ), (CHAIN, 24, 383, MHC cla...   \n",
       "\n",
       "                                                           gene_name  ...  \\\n",
       "primary_accession                                                     ...   \n",
       "Q29983             Name=MICA {ECO:0000312|EMBL:CAI41907.1}; Synon...  ...   \n",
       "\n",
       "                  organelle               organism  \\\n",
       "primary_accession                                    \n",
       "Q29983                       Homo sapiens (Human).   \n",
       "\n",
       "                                             organism_classification  \\\n",
       "primary_accession                                                      \n",
       "Q29983             [Eukaryota, Metazoa, Chordata, Craniata, Verte...   \n",
       "\n",
       "                  protein_existence  \\\n",
       "primary_accession                     \n",
       "Q29983                            1   \n",
       "\n",
       "                                                          references  \\\n",
       "primary_accession                                                      \n",
       "Q29983             [<Bio.SwissProt.Reference object at 0x7fc1cdb3...   \n",
       "\n",
       "                                          seqinfo  \\\n",
       "primary_accession                                   \n",
       "Q29983             (383, 42915, 1FE084813DDA13A8)   \n",
       "\n",
       "                                                            sequence  \\\n",
       "primary_accession                                                      \n",
       "Q29983             MGLGPVFLLLAGIFPFAPPGAAAEPHSLRYNLTVLSWDGSVQSGFL...   \n",
       "\n",
       "                   sequence_length   sequence_update taxonomy_id  \n",
       "primary_accession                                                 \n",
       "Q29983                         383  (01-NOV-1996, 1)      [9606]  \n",
       "\n",
       "[1 rows x 24 columns]"
      ]
     },
     "execution_count": 438,
     "metadata": {},
     "output_type": "execute_result"
    }
   ],
   "source": [
    "df[df_acc_len == 128]"
   ]
  },
  {
   "cell_type": "code",
   "execution_count": 439,
   "metadata": {},
   "outputs": [
    {
     "data": {
      "text/plain": [
       "128"
      ]
     },
     "execution_count": 439,
     "metadata": {},
     "output_type": "execute_result"
    }
   ],
   "source": [
    "len(list(df[df_acc_len == 128].accessions)[0])"
   ]
  },
  {
   "cell_type": "code",
   "execution_count": 440,
   "metadata": {},
   "outputs": [],
   "source": [
    "def func(row):\n",
    "    return len(row.taxonomy_id)\n",
    "df_tax_len = df.apply(func, axis=1);"
   ]
  },
  {
   "cell_type": "code",
   "execution_count": 443,
   "metadata": {},
   "outputs": [
    {
     "data": {
      "text/plain": [
       "1"
      ]
     },
     "execution_count": 443,
     "metadata": {},
     "output_type": "execute_result"
    }
   ],
   "source": [
    "df_tax_len.max() # Only 1 taxonomy per row"
   ]
  },
  {
   "cell_type": "code",
   "execution_count": 450,
   "metadata": {},
   "outputs": [],
   "source": [
    "# df[evidence_series].head()"
   ]
  },
  {
   "cell_type": "code",
   "execution_count": 449,
   "metadata": {},
   "outputs": [
    {
     "data": {
      "text/html": [
       "<div>\n",
       "<style scoped>\n",
       "    .dataframe tbody tr th:only-of-type {\n",
       "        vertical-align: middle;\n",
       "    }\n",
       "\n",
       "    .dataframe tbody tr th {\n",
       "        vertical-align: top;\n",
       "    }\n",
       "\n",
       "    .dataframe thead th {\n",
       "        text-align: right;\n",
       "    }\n",
       "</style>\n",
       "<table border=\"1\" class=\"dataframe\">\n",
       "  <thead>\n",
       "    <tr style=\"text-align: right;\">\n",
       "      <th></th>\n",
       "      <th>accessions</th>\n",
       "      <th>annotation_update</th>\n",
       "      <th>comments</th>\n",
       "      <th>created</th>\n",
       "      <th>cross_references</th>\n",
       "      <th>data_class</th>\n",
       "      <th>description</th>\n",
       "      <th>entry_name</th>\n",
       "      <th>features</th>\n",
       "      <th>gene_name</th>\n",
       "      <th>...</th>\n",
       "      <th>organelle</th>\n",
       "      <th>organism</th>\n",
       "      <th>organism_classification</th>\n",
       "      <th>protein_existence</th>\n",
       "      <th>references</th>\n",
       "      <th>seqinfo</th>\n",
       "      <th>sequence</th>\n",
       "      <th>sequence_length</th>\n",
       "      <th>sequence_update</th>\n",
       "      <th>taxonomy_id</th>\n",
       "    </tr>\n",
       "    <tr>\n",
       "      <th>primary_accession</th>\n",
       "      <th></th>\n",
       "      <th></th>\n",
       "      <th></th>\n",
       "      <th></th>\n",
       "      <th></th>\n",
       "      <th></th>\n",
       "      <th></th>\n",
       "      <th></th>\n",
       "      <th></th>\n",
       "      <th></th>\n",
       "      <th></th>\n",
       "      <th></th>\n",
       "      <th></th>\n",
       "      <th></th>\n",
       "      <th></th>\n",
       "      <th></th>\n",
       "      <th></th>\n",
       "      <th></th>\n",
       "      <th></th>\n",
       "      <th></th>\n",
       "      <th></th>\n",
       "    </tr>\n",
       "  </thead>\n",
       "  <tbody>\n",
       "    <tr>\n",
       "      <th>Q6GZX4</th>\n",
       "      <td>[Q6GZX4]</td>\n",
       "      <td>(17-FEB-2016, 31)</td>\n",
       "      <td>[FUNCTION: Transcription activation. {ECO:0000...</td>\n",
       "      <td>(28-JUN-2011, 0)</td>\n",
       "      <td>[(EMBL, AY548484, AAT09660.1, -, Genomic_DNA),...</td>\n",
       "      <td>Reviewed</td>\n",
       "      <td>RecName: Full=Putative transcription factor 001R;</td>\n",
       "      <td>001R_FRG3G</td>\n",
       "      <td>[(CHAIN, 1, 256, Putative transcription factor...</td>\n",
       "      <td>ORFNames=FV3-001R;</td>\n",
       "      <td>...</td>\n",
       "      <td></td>\n",
       "      <td>Frog virus 3 (isolate Goorha) (FV-3).</td>\n",
       "      <td>[Viruses, dsDNA viruses, no RNA stage, Iridovi...</td>\n",
       "      <td>4</td>\n",
       "      <td>[&lt;Bio.SwissProt.Reference object at 0x7fc1fdca...</td>\n",
       "      <td>(256, 29735, B4840739BF7D4121)</td>\n",
       "      <td>MAFSAEDVLKEYDRRRRMEALLLSLYYPNDRKLLDYKEWSPPRVQV...</td>\n",
       "      <td>256</td>\n",
       "      <td>(19-JUL-2004, 1)</td>\n",
       "      <td>[654924]</td>\n",
       "    </tr>\n",
       "  </tbody>\n",
       "</table>\n",
       "<p>1 rows × 24 columns</p>\n",
       "</div>"
      ],
      "text/plain": [
       "                  accessions  annotation_update  \\\n",
       "primary_accession                                 \n",
       "Q6GZX4              [Q6GZX4]  (17-FEB-2016, 31)   \n",
       "\n",
       "                                                            comments  \\\n",
       "primary_accession                                                      \n",
       "Q6GZX4             [FUNCTION: Transcription activation. {ECO:0000...   \n",
       "\n",
       "                            created  \\\n",
       "primary_accession                     \n",
       "Q6GZX4             (28-JUN-2011, 0)   \n",
       "\n",
       "                                                    cross_references  \\\n",
       "primary_accession                                                      \n",
       "Q6GZX4             [(EMBL, AY548484, AAT09660.1, -, Genomic_DNA),...   \n",
       "\n",
       "                  data_class  \\\n",
       "primary_accession              \n",
       "Q6GZX4              Reviewed   \n",
       "\n",
       "                                                         description  \\\n",
       "primary_accession                                                      \n",
       "Q6GZX4             RecName: Full=Putative transcription factor 001R;   \n",
       "\n",
       "                   entry_name  \\\n",
       "primary_accession               \n",
       "Q6GZX4             001R_FRG3G   \n",
       "\n",
       "                                                            features  \\\n",
       "primary_accession                                                      \n",
       "Q6GZX4             [(CHAIN, 1, 256, Putative transcription factor...   \n",
       "\n",
       "                            gene_name  ... organelle  \\\n",
       "primary_accession                      ...             \n",
       "Q6GZX4             ORFNames=FV3-001R;  ...             \n",
       "\n",
       "                                                organism  \\\n",
       "primary_accession                                          \n",
       "Q6GZX4             Frog virus 3 (isolate Goorha) (FV-3).   \n",
       "\n",
       "                                             organism_classification  \\\n",
       "primary_accession                                                      \n",
       "Q6GZX4             [Viruses, dsDNA viruses, no RNA stage, Iridovi...   \n",
       "\n",
       "                  protein_existence  \\\n",
       "primary_accession                     \n",
       "Q6GZX4                            4   \n",
       "\n",
       "                                                          references  \\\n",
       "primary_accession                                                      \n",
       "Q6GZX4             [<Bio.SwissProt.Reference object at 0x7fc1fdca...   \n",
       "\n",
       "                                          seqinfo  \\\n",
       "primary_accession                                   \n",
       "Q6GZX4             (256, 29735, B4840739BF7D4121)   \n",
       "\n",
       "                                                            sequence  \\\n",
       "primary_accession                                                      \n",
       "Q6GZX4             MAFSAEDVLKEYDRRRRMEALLLSLYYPNDRKLLDYKEWSPPRVQV...   \n",
       "\n",
       "                   sequence_length   sequence_update taxonomy_id  \n",
       "primary_accession                                                 \n",
       "Q6GZX4                         256  (19-JUL-2004, 1)    [654924]  \n",
       "\n",
       "[1 rows x 24 columns]"
      ]
     },
     "execution_count": 449,
     "metadata": {},
     "output_type": "execute_result"
    }
   ],
   "source": [
    "df[:1]"
   ]
  },
  {
   "cell_type": "code",
   "execution_count": null,
   "metadata": {},
   "outputs": [],
   "source": [
    "# TODO \n",
    "# aggregate df_go to have \n",
    "acc : Go1 Go2 ... GoN\n",
    "combine with seq:\n",
    "acc, seq, Go1 Go2 .. GON\n",
    "combine with Tax: \n",
    "tax, acc, seq, Go1 Go2 .. GON\n",
    "combine with Taxes: \n",
    "tax1 tax2 ... taxN, seq, Go1 Go2 .. GON\n",
    "combine with GO_ids: \n",
    "tax1 tax2 ... taxN, seq, Go1_1 GO1_2 .. GON\n",
    "\n",
    "Feed into the NN with different options and see which one works best\n",
    "### Put all codes into one python function ###"
   ]
  },
  {
   "cell_type": "code",
   "execution_count": 473,
   "metadata": {},
   "outputs": [],
   "source": [
    "df_go_agg = df_go.groupby('accession').aggregate(lambda s: ' '.join(s))"
   ]
  },
  {
   "cell_type": "code",
   "execution_count": 475,
   "metadata": {},
   "outputs": [
    {
     "data": {
      "text/plain": [
       "66841"
      ]
     },
     "execution_count": 475,
     "metadata": {},
     "output_type": "execute_result"
    }
   ],
   "source": [
    "len(df_go_agg)"
   ]
  },
  {
   "cell_type": "code",
   "execution_count": 482,
   "metadata": {},
   "outputs": [],
   "source": [
    "df_go_agg['seq'] =  df_go_agg.apply(lambda row: df_cafa_train.loc[row.name], axis=1)"
   ]
  },
  {
   "cell_type": "code",
   "execution_count": 483,
   "metadata": {},
   "outputs": [
    {
     "data": {
      "text/html": [
       "<div>\n",
       "<style scoped>\n",
       "    .dataframe tbody tr th:only-of-type {\n",
       "        vertical-align: middle;\n",
       "    }\n",
       "\n",
       "    .dataframe tbody tr th {\n",
       "        vertical-align: top;\n",
       "    }\n",
       "\n",
       "    .dataframe thead th {\n",
       "        text-align: right;\n",
       "    }\n",
       "</style>\n",
       "<table border=\"1\" class=\"dataframe\">\n",
       "  <thead>\n",
       "    <tr style=\"text-align: right;\">\n",
       "      <th></th>\n",
       "      <th>GO</th>\n",
       "      <th>domain</th>\n",
       "      <th>seq</th>\n",
       "    </tr>\n",
       "    <tr>\n",
       "      <th>accession</th>\n",
       "      <th></th>\n",
       "      <th></th>\n",
       "      <th></th>\n",
       "    </tr>\n",
       "  </thead>\n",
       "  <tbody>\n",
       "    <tr>\n",
       "      <th>A0A060X6Z0</th>\n",
       "      <td>GO:0070852 GO:0043204 GO:0004511</td>\n",
       "      <td>C C F</td>\n",
       "      <td>MPISSSSSSSTKSMRRAASELERSDSVTSPRFIGRRQSLIEDARKE...</td>\n",
       "    </tr>\n",
       "    <tr>\n",
       "      <th>A0A068FIK2</th>\n",
       "      <td>GO:0055028 GO:0005737</td>\n",
       "      <td>C C</td>\n",
       "      <td>MEVGGGSEECCVKVAVHVRPLIGDEKVQGCKDCVTVIPGKPQVQIG...</td>\n",
       "    </tr>\n",
       "    <tr>\n",
       "      <th>A0A075F932</th>\n",
       "      <td>GO:0048609 GO:0046883</td>\n",
       "      <td>P P</td>\n",
       "      <td>MVSESHHEALAAPPATTVAAAPPSNVTEPASPGGGGGKEDAFSKLK...</td>\n",
       "    </tr>\n",
       "    <tr>\n",
       "      <th>A0A078CGE6</th>\n",
       "      <td>GO:0005730 GO:0004674 GO:0046777 GO:0051302</td>\n",
       "      <td>C F P P</td>\n",
       "      <td>MARQMTSSQFHKSKTLDNKYMLGDEIGKGAYGRVYIGLDLENGDFV...</td>\n",
       "    </tr>\n",
       "    <tr>\n",
       "      <th>A0A086F3E3</th>\n",
       "      <td>GO:0022841 GO:0071805</td>\n",
       "      <td>F P</td>\n",
       "      <td>MTKGRLEAFSDGVLAIIITIMVLELKVPEGSSWASLQPILPRFLAY...</td>\n",
       "    </tr>\n",
       "  </tbody>\n",
       "</table>\n",
       "</div>"
      ],
      "text/plain": [
       "                                                     GO   domain  \\\n",
       "accession                                                          \n",
       "A0A060X6Z0             GO:0070852 GO:0043204 GO:0004511    C C F   \n",
       "A0A068FIK2                        GO:0055028 GO:0005737      C C   \n",
       "A0A075F932                        GO:0048609 GO:0046883      P P   \n",
       "A0A078CGE6  GO:0005730 GO:0004674 GO:0046777 GO:0051302  C F P P   \n",
       "A0A086F3E3                        GO:0022841 GO:0071805      F P   \n",
       "\n",
       "                                                          seq  \n",
       "accession                                                      \n",
       "A0A060X6Z0  MPISSSSSSSTKSMRRAASELERSDSVTSPRFIGRRQSLIEDARKE...  \n",
       "A0A068FIK2  MEVGGGSEECCVKVAVHVRPLIGDEKVQGCKDCVTVIPGKPQVQIG...  \n",
       "A0A075F932  MVSESHHEALAAPPATTVAAAPPSNVTEPASPGGGGGKEDAFSKLK...  \n",
       "A0A078CGE6  MARQMTSSQFHKSKTLDNKYMLGDEIGKGAYGRVYIGLDLENGDFV...  \n",
       "A0A086F3E3  MTKGRLEAFSDGVLAIIITIMVLELKVPEGSSWASLQPILPRFLAY...  "
      ]
     },
     "execution_count": 483,
     "metadata": {},
     "output_type": "execute_result"
    }
   ],
   "source": [
    "df_go_agg.head()"
   ]
  },
  {
   "cell_type": "code",
   "execution_count": null,
   "metadata": {},
   "outputs": [],
   "source": []
  },
  {
   "cell_type": "code",
   "execution_count": 542,
   "metadata": {},
   "outputs": [
    {
     "name": "stdout",
     "output_type": "stream",
     "text": [
      "GO             GO:0072562 GO:0005886 GO:0004252 GO:0006956 GO...\n",
      "domain                                         C C F P P P P P P\n",
      "seq            MEAPAQLLFLLLLWLPDTTREIVMTQSPPTLSLSPGERVTLSCRAS...\n",
      "taxonomy_id                                                 None\n",
      "Name: P04434, dtype: object\n"
     ]
    }
   ],
   "source": [
    "def fetch_tax(row):\n",
    "    try:\n",
    "        sprot_row = df.loc[row.name, 'taxonomy_id'][0]\n",
    "    except:\n",
    "        try:\n",
    "            # for those accessions which are not the primary accessions, we look into other accessions that they have\n",
    "            sprot_row = df[[row.name in s for s in df.accessions]].iloc[0].taxonomy_id[0]\n",
    "        except:\n",
    "            print(row)\n",
    "            sprot_row = ''\n",
    "    if len(sprot_row) > 0:\n",
    "        return sprot_row\n",
    "    return None\n",
    "df_go_agg['taxonomy_id'] = df_go_agg.apply(fetch_tax, axis=1)"
   ]
  },
  {
   "cell_type": "code",
   "execution_count": 541,
   "metadata": {},
   "outputs": [
    {
     "data": {
      "text/plain": [
       "1"
      ]
     },
     "execution_count": 541,
     "metadata": {},
     "output_type": "execute_result"
    }
   ],
   "source": [
    "df_go_agg.taxonomy_id.isnull().sum()"
   ]
  },
  {
   "cell_type": "code",
   "execution_count": 546,
   "metadata": {},
   "outputs": [
    {
     "data": {
      "text/html": [
       "<div>\n",
       "<style scoped>\n",
       "    .dataframe tbody tr th:only-of-type {\n",
       "        vertical-align: middle;\n",
       "    }\n",
       "\n",
       "    .dataframe tbody tr th {\n",
       "        vertical-align: top;\n",
       "    }\n",
       "\n",
       "    .dataframe thead th {\n",
       "        text-align: right;\n",
       "    }\n",
       "</style>\n",
       "<table border=\"1\" class=\"dataframe\">\n",
       "  <thead>\n",
       "    <tr style=\"text-align: right;\">\n",
       "      <th></th>\n",
       "      <th>accessions</th>\n",
       "      <th>annotation_update</th>\n",
       "      <th>comments</th>\n",
       "      <th>created</th>\n",
       "      <th>cross_references</th>\n",
       "      <th>data_class</th>\n",
       "      <th>description</th>\n",
       "      <th>entry_name</th>\n",
       "      <th>features</th>\n",
       "      <th>gene_name</th>\n",
       "      <th>...</th>\n",
       "      <th>organelle</th>\n",
       "      <th>organism</th>\n",
       "      <th>organism_classification</th>\n",
       "      <th>protein_existence</th>\n",
       "      <th>references</th>\n",
       "      <th>seqinfo</th>\n",
       "      <th>sequence</th>\n",
       "      <th>sequence_length</th>\n",
       "      <th>sequence_update</th>\n",
       "      <th>taxonomy_id</th>\n",
       "    </tr>\n",
       "    <tr>\n",
       "      <th>primary_accession</th>\n",
       "      <th></th>\n",
       "      <th></th>\n",
       "      <th></th>\n",
       "      <th></th>\n",
       "      <th></th>\n",
       "      <th></th>\n",
       "      <th></th>\n",
       "      <th></th>\n",
       "      <th></th>\n",
       "      <th></th>\n",
       "      <th></th>\n",
       "      <th></th>\n",
       "      <th></th>\n",
       "      <th></th>\n",
       "      <th></th>\n",
       "      <th></th>\n",
       "      <th></th>\n",
       "      <th></th>\n",
       "      <th></th>\n",
       "      <th></th>\n",
       "      <th></th>\n",
       "    </tr>\n",
       "  </thead>\n",
       "  <tbody>\n",
       "  </tbody>\n",
       "</table>\n",
       "<p>0 rows × 24 columns</p>\n",
       "</div>"
      ],
      "text/plain": [
       "Empty DataFrame\n",
       "Columns: [accessions, annotation_update, comments, created, cross_references, data_class, description, entry_name, features, gene_name, host_organism, host_taxonomy_id, keywords, molecule_type, organelle, organism, organism_classification, protein_existence, references, seqinfo, sequence, sequence_length, sequence_update, taxonomy_id]\n",
       "Index: []\n",
       "\n",
       "[0 rows x 24 columns]"
      ]
     },
     "execution_count": 546,
     "metadata": {},
     "output_type": "execute_result"
    }
   ],
   "source": [
    "df[['P04434' in s for s in df.accessions]] # 'P04434' was deleted from swiss-prot in November 2, 2016"
   ]
  },
  {
   "cell_type": "code",
   "execution_count": 551,
   "metadata": {},
   "outputs": [
    {
     "data": {
      "text/html": [
       "<div>\n",
       "<style scoped>\n",
       "    .dataframe tbody tr th:only-of-type {\n",
       "        vertical-align: middle;\n",
       "    }\n",
       "\n",
       "    .dataframe tbody tr th {\n",
       "        vertical-align: top;\n",
       "    }\n",
       "\n",
       "    .dataframe thead th {\n",
       "        text-align: right;\n",
       "    }\n",
       "</style>\n",
       "<table border=\"1\" class=\"dataframe\">\n",
       "  <thead>\n",
       "    <tr style=\"text-align: right;\">\n",
       "      <th></th>\n",
       "      <th>GO</th>\n",
       "      <th>domain</th>\n",
       "      <th>seq</th>\n",
       "      <th>taxonomy_id</th>\n",
       "    </tr>\n",
       "    <tr>\n",
       "      <th>accession</th>\n",
       "      <th></th>\n",
       "      <th></th>\n",
       "      <th></th>\n",
       "      <th></th>\n",
       "    </tr>\n",
       "  </thead>\n",
       "  <tbody>\n",
       "    <tr>\n",
       "      <th>A0A060X6Z0</th>\n",
       "      <td>GO:0070852 GO:0043204 GO:0004511</td>\n",
       "      <td>C C F</td>\n",
       "      <td>MPISSSSSSSTKSMRRAASELERSDSVTSPRFIGRRQSLIEDARKE...</td>\n",
       "      <td>8022</td>\n",
       "    </tr>\n",
       "  </tbody>\n",
       "</table>\n",
       "</div>"
      ],
      "text/plain": [
       "                                          GO domain  \\\n",
       "accession                                             \n",
       "A0A060X6Z0  GO:0070852 GO:0043204 GO:0004511  C C F   \n",
       "\n",
       "                                                          seq taxonomy_id  \n",
       "accession                                                                  \n",
       "A0A060X6Z0  MPISSSSSSSTKSMRRAASELERSDSVTSPRFIGRRQSLIEDARKE...        8022  "
      ]
     },
     "execution_count": 551,
     "metadata": {},
     "output_type": "execute_result"
    }
   ],
   "source": [
    "df_go_agg.head(1)"
   ]
  },
  {
   "cell_type": "code",
   "execution_count": null,
   "metadata": {},
   "outputs": [],
   "source": [
    "# this is based on the CAFA provided training, I can create my own training by just using the Evidences"
   ]
  },
  {
   "cell_type": "code",
   "execution_count": 552,
   "metadata": {},
   "outputs": [
    {
     "name": "stdout",
     "output_type": "stream",
     "text": [
      "../data/cafa3/Gene Ontology Hirarchy/ncbitaxon.obo: fmt(1.2) rel(2018-07-27) 1,877,499 GO Terms\n",
      "../data/cafa3/Gene Ontology Hirarchy/gene_ontology_edit.obo.2016-06-01: fmt(1.2) rel(2016-05-31) 44,636 GO Terms\n"
     ]
    }
   ],
   "source": [
    "obo_go_file = 'gene_ontology_edit.obo.2016-06-01'\n",
    "obo_go_path = '../data/cafa3/Gene Ontology Hirarchy/'\n",
    "\n",
    "obo_tax_file = 'ncbitaxon.obo'\n",
    "obo_tax_path = '../data/cafa3/Gene Ontology Hirarchy/'\n",
    "from goatools import obo_parser\n",
    "p_tax = obo_parser.GODag(obo_tax_path + obo_tax_file)\n",
    "p_go = obo_parser.GODag(obo_go_path + obo_go_file)"
   ]
  },
  {
   "cell_type": "code",
   "execution_count": 645,
   "metadata": {},
   "outputs": [
    {
     "data": {
      "text/plain": [
       "'biological_process'"
      ]
     },
     "execution_count": 645,
     "metadata": {},
     "output_type": "execute_result"
    }
   ],
   "source": [
    "p_go['GO:0000001'].namespace"
   ]
  },
  {
   "cell_type": "code",
   "execution_count": 555,
   "metadata": {},
   "outputs": [
    {
     "data": {
      "text/plain": [
       "{'GO:0006996',\n",
       " 'GO:0007005',\n",
       " 'GO:0008150',\n",
       " 'GO:0009987',\n",
       " 'GO:0016043',\n",
       " 'GO:0044699',\n",
       " 'GO:0044763',\n",
       " 'GO:0048308',\n",
       " 'GO:0048311',\n",
       " 'GO:0051179',\n",
       " 'GO:0051640',\n",
       " 'GO:0051641',\n",
       " 'GO:0051646',\n",
       " 'GO:0071840',\n",
       " 'GO:1902578',\n",
       " 'GO:1902580',\n",
       " 'GO:1902589'}"
      ]
     },
     "execution_count": 555,
     "metadata": {},
     "output_type": "execute_result"
    }
   ],
   "source": [
    "p_go['GO:0000001'].get_all_parents()"
   ]
  },
  {
   "cell_type": "code",
   "execution_count": 554,
   "metadata": {},
   "outputs": [
    {
     "data": {
      "text/plain": [
       "{'NCBITaxon:1',\n",
       " 'NCBITaxon:1224',\n",
       " 'NCBITaxon:1236',\n",
       " 'NCBITaxon:131567',\n",
       " 'NCBITaxon:1706369',\n",
       " 'NCBITaxon:1706371',\n",
       " 'NCBITaxon:2'}"
      ]
     },
     "execution_count": 554,
     "metadata": {},
     "output_type": "execute_result"
    }
   ],
   "source": [
    "p_tax['NCBITaxon:10'].get_all_parents()"
   ]
  },
  {
   "cell_type": "code",
   "execution_count": 587,
   "metadata": {},
   "outputs": [],
   "source": [
    "def add_GO_ancesstors_C(row):\n",
    "    go_ans = set()\n",
    "    go_list = row.GO.split(' ')\n",
    "    domain_list = row.domain.split(' ')\n",
    "    for i in range(len(go_list)):\n",
    "        go = go_list[i]\n",
    "        domain = domain_list[i]\n",
    "        if domain == 'C': # TODO: use p_go[go].namespace == 'biological_process', ...\n",
    "            try :\n",
    "                go_ans |= p_go[go].get_all_parents()\n",
    "            except:\n",
    "                print(f\"errror in fetching {go}\")\n",
    "    return go_ans\n",
    "        \n",
    "            \n",
    "            \n",
    "df_go_agg['GO_ancestors_C'] = df_go_agg.apply(add_GO_ancesstors_C, axis=1)"
   ]
  },
  {
   "cell_type": "code",
   "execution_count": 588,
   "metadata": {},
   "outputs": [],
   "source": [
    "def add_GO_ancesstors_P(row):\n",
    "    go_ans = set()\n",
    "    go_list = row.GO.split(' ')\n",
    "    domain_list = row.domain.split(' ')\n",
    "    for i in range(len(go_list)):\n",
    "        go = go_list[i]\n",
    "        domain = domain_list[i]\n",
    "        if domain == 'P':\n",
    "            try :\n",
    "                go_ans |= p_go[go].get_all_parents()\n",
    "            except:\n",
    "                print(f\"errror in fetching {go}\")\n",
    "    return go_ans\n",
    "        \n",
    "            \n",
    "            \n",
    "df_go_agg['GO_ancestors_P'] = df_go_agg.apply(add_GO_ancesstors_P, axis=1)"
   ]
  },
  {
   "cell_type": "code",
   "execution_count": 589,
   "metadata": {},
   "outputs": [],
   "source": [
    "def add_GO_ancesstors_F(row):\n",
    "    go_ans = set()\n",
    "    go_list = row.GO.split(' ')\n",
    "    domain_list = row.domain.split(' ')\n",
    "    for i in range(len(go_list)):\n",
    "        go = go_list[i]\n",
    "        domain = domain_list[i]\n",
    "        if domain == 'F':\n",
    "            try :\n",
    "                go_ans |= p_go[go].get_all_parents()\n",
    "            except:\n",
    "                print(f\"errror in fetching {go}\")\n",
    "    return go_ans\n",
    "        \n",
    "            \n",
    "            \n",
    "df_go_agg['GO_ancestors_F'] = df_go_agg.apply(add_GO_ancesstors_F, axis=1)"
   ]
  },
  {
   "cell_type": "code",
   "execution_count": 590,
   "metadata": {},
   "outputs": [
    {
     "data": {
      "text/html": [
       "<div>\n",
       "<style scoped>\n",
       "    .dataframe tbody tr th:only-of-type {\n",
       "        vertical-align: middle;\n",
       "    }\n",
       "\n",
       "    .dataframe tbody tr th {\n",
       "        vertical-align: top;\n",
       "    }\n",
       "\n",
       "    .dataframe thead th {\n",
       "        text-align: right;\n",
       "    }\n",
       "</style>\n",
       "<table border=\"1\" class=\"dataframe\">\n",
       "  <thead>\n",
       "    <tr style=\"text-align: right;\">\n",
       "      <th></th>\n",
       "      <th>GO</th>\n",
       "      <th>domain</th>\n",
       "      <th>seq</th>\n",
       "      <th>taxonomy_id</th>\n",
       "      <th>GO_ancestors_C</th>\n",
       "      <th>GO_ancestors_P</th>\n",
       "      <th>GO_ancestors_F</th>\n",
       "    </tr>\n",
       "    <tr>\n",
       "      <th>accession</th>\n",
       "      <th></th>\n",
       "      <th></th>\n",
       "      <th></th>\n",
       "      <th></th>\n",
       "      <th></th>\n",
       "      <th></th>\n",
       "      <th></th>\n",
       "    </tr>\n",
       "  </thead>\n",
       "  <tbody>\n",
       "    <tr>\n",
       "      <th>A0A060X6Z0</th>\n",
       "      <td>GO:0070852 GO:0043204 GO:0004511</td>\n",
       "      <td>C C F</td>\n",
       "      <td>MPISSSSSSSTKSMRRAASELERSDSVTSPRFIGRRQSLIEDARKE...</td>\n",
       "      <td>8022</td>\n",
       "      <td>{GO:0097458, GO:0042995, GO:0005575, GO:004300...</td>\n",
       "      <td>{}</td>\n",
       "      <td>{GO:0016705, GO:0016714, GO:0004497, GO:000382...</td>\n",
       "    </tr>\n",
       "  </tbody>\n",
       "</table>\n",
       "</div>"
      ],
      "text/plain": [
       "                                          GO domain  \\\n",
       "accession                                             \n",
       "A0A060X6Z0  GO:0070852 GO:0043204 GO:0004511  C C F   \n",
       "\n",
       "                                                          seq taxonomy_id  \\\n",
       "accession                                                                   \n",
       "A0A060X6Z0  MPISSSSSSSTKSMRRAASELERSDSVTSPRFIGRRQSLIEDARKE...        8022   \n",
       "\n",
       "                                               GO_ancestors_C GO_ancestors_P  \\\n",
       "accession                                                                      \n",
       "A0A060X6Z0  {GO:0097458, GO:0042995, GO:0005575, GO:004300...             {}   \n",
       "\n",
       "                                               GO_ancestors_F  \n",
       "accession                                                      \n",
       "A0A060X6Z0  {GO:0016705, GO:0016714, GO:0004497, GO:000382...  "
      ]
     },
     "execution_count": 590,
     "metadata": {},
     "output_type": "execute_result"
    }
   ],
   "source": [
    "df_go_agg.head(1)"
   ]
  },
  {
   "cell_type": "code",
   "execution_count": 607,
   "metadata": {},
   "outputs": [
    {
     "data": {
      "text/plain": [
       "GO                0\n",
       "domain            0\n",
       "seq               0\n",
       "taxonomy_id       1\n",
       "GO_ancestors_C    0\n",
       "GO_ancestors_P    0\n",
       "GO_ancestors_F    0\n",
       "dtype: int64"
      ]
     },
     "execution_count": 607,
     "metadata": {},
     "output_type": "execute_result"
    }
   ],
   "source": [
    "df_go_agg.isnull().sum()"
   ]
  },
  {
   "cell_type": "code",
   "execution_count": 608,
   "metadata": {},
   "outputs": [],
   "source": [
    "df_go_agg.dropna(subset=['taxonomy_id'], inplace=True)"
   ]
  },
  {
   "cell_type": "code",
   "execution_count": 610,
   "metadata": {},
   "outputs": [],
   "source": [
    "def add_Tax_ancesstors(row):\n",
    "    taxon_name = 'NCBITaxon:' + str(row.taxonomy_id)\n",
    "    try :\n",
    "        return p_tax[taxon_name].get_all_parents()\n",
    "    except:\n",
    "        print(f\"errror in fetching {row.taxonomy_id}\")\n",
    "    return None\n",
    "df_go_agg['Tax_ancestors'] = df_go_agg.apply(add_Tax_ancesstors, axis=1)"
   ]
  },
  {
   "cell_type": "code",
   "execution_count": 617,
   "metadata": {},
   "outputs": [
    {
     "data": {
      "text/html": [
       "<div>\n",
       "<style scoped>\n",
       "    .dataframe tbody tr th:only-of-type {\n",
       "        vertical-align: middle;\n",
       "    }\n",
       "\n",
       "    .dataframe tbody tr th {\n",
       "        vertical-align: top;\n",
       "    }\n",
       "\n",
       "    .dataframe thead th {\n",
       "        text-align: right;\n",
       "    }\n",
       "</style>\n",
       "<table border=\"1\" class=\"dataframe\">\n",
       "  <thead>\n",
       "    <tr style=\"text-align: right;\">\n",
       "      <th></th>\n",
       "      <th>GO</th>\n",
       "      <th>domain</th>\n",
       "      <th>seq</th>\n",
       "      <th>taxonomy_id</th>\n",
       "      <th>GO_ancestors_C</th>\n",
       "      <th>GO_ancestors_P</th>\n",
       "      <th>GO_ancestors_F</th>\n",
       "      <th>Tax_ancestors</th>\n",
       "    </tr>\n",
       "    <tr>\n",
       "      <th>accession</th>\n",
       "      <th></th>\n",
       "      <th></th>\n",
       "      <th></th>\n",
       "      <th></th>\n",
       "      <th></th>\n",
       "      <th></th>\n",
       "      <th></th>\n",
       "      <th></th>\n",
       "    </tr>\n",
       "  </thead>\n",
       "  <tbody>\n",
       "    <tr>\n",
       "      <th>A0A060X6Z0</th>\n",
       "      <td>GO:0070852 GO:0043204 GO:0004511</td>\n",
       "      <td>C C F</td>\n",
       "      <td>MPISSSSSSSTKSMRRAASELERSDSVTSPRFIGRRQSLIEDARKE...</td>\n",
       "      <td>8022</td>\n",
       "      <td>{GO:0097458, GO:0042995, GO:0005575, GO:004300...</td>\n",
       "      <td>{}</td>\n",
       "      <td>{GO:0016705, GO:0016714, GO:0004497, GO:000382...</td>\n",
       "      <td>{NCBITaxon:131567, NCBITaxon:33154, NCBITaxon:...</td>\n",
       "    </tr>\n",
       "  </tbody>\n",
       "</table>\n",
       "</div>"
      ],
      "text/plain": [
       "                                          GO domain  \\\n",
       "accession                                             \n",
       "A0A060X6Z0  GO:0070852 GO:0043204 GO:0004511  C C F   \n",
       "\n",
       "                                                          seq taxonomy_id  \\\n",
       "accession                                                                   \n",
       "A0A060X6Z0  MPISSSSSSSTKSMRRAASELERSDSVTSPRFIGRRQSLIEDARKE...        8022   \n",
       "\n",
       "                                               GO_ancestors_C GO_ancestors_P  \\\n",
       "accession                                                                      \n",
       "A0A060X6Z0  {GO:0097458, GO:0042995, GO:0005575, GO:004300...             {}   \n",
       "\n",
       "                                               GO_ancestors_F  \\\n",
       "accession                                                       \n",
       "A0A060X6Z0  {GO:0016705, GO:0016714, GO:0004497, GO:000382...   \n",
       "\n",
       "                                                Tax_ancestors  \n",
       "accession                                                      \n",
       "A0A060X6Z0  {NCBITaxon:131567, NCBITaxon:33154, NCBITaxon:...  "
      ]
     },
     "execution_count": 617,
     "metadata": {},
     "output_type": "execute_result"
    }
   ],
   "source": [
    "df_go_agg.head(1)"
   ]
  },
  {
   "cell_type": "code",
   "execution_count": 619,
   "metadata": {},
   "outputs": [],
   "source": [
    "pickle.dump(df_go_agg, open('train_df', 'wb'))"
   ]
  },
  {
   "cell_type": "code",
   "execution_count": 641,
   "metadata": {},
   "outputs": [],
   "source": [
    "def seq_taxons_combine(row):\n",
    "    return ' '.join(row.Tax_ancestors).replace('NCBITaxon:', '') + ' ' + row.taxonomy_id + ' [TaxonsEnd] ' + row.seq\n",
    "df_go_agg['seq_taxons'] = df_go_agg.apply(seq_taxons_combine, axis=1)\n",
    "\n",
    "def seq_tax_combine(row):\n",
    "    return row.taxonomy_id + ' ' + row.seq\n",
    "df_go_agg['seq_tax'] = df_go_agg.apply(seq_tax_combine, axis=1)"
   ]
  },
  {
   "cell_type": "code",
   "execution_count": 643,
   "metadata": {},
   "outputs": [],
   "source": [
    "pickle.dump(df_go_agg, open('train_df', 'wb'))"
   ]
  },
  {
   "cell_type": "code",
   "execution_count": null,
   "metadata": {},
   "outputs": [],
   "source": []
  },
  {
   "cell_type": "code",
   "execution_count": null,
   "metadata": {},
   "outputs": [],
   "source": []
  }
 ],
 "metadata": {
  "kernelspec": {
   "display_name": "Python 3",
   "language": "python",
   "name": "python3"
  },
  "language_info": {
   "codemirror_mode": {
    "name": "ipython",
    "version": 3
   },
   "file_extension": ".py",
   "mimetype": "text/x-python",
   "name": "python",
   "nbconvert_exporter": "python",
   "pygments_lexer": "ipython3",
   "version": "3.7.3"
  }
 },
 "nbformat": 4,
 "nbformat_minor": 2
}
