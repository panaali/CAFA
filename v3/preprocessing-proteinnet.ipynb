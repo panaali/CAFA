{
 "cells": [
  {
   "cell_type": "code",
   "execution_count": 1,
   "metadata": {},
   "outputs": [],
   "source": [
    "import pandas as pd\n",
    "import numpy as np\n",
    "import glob\n",
    "import matplotlib.pyplot as plt\n",
    "from Bio import SeqIO\n",
    "from ttictoc import TicToc\n"
   ]
  },
  {
   "cell_type": "code",
   "execution_count": 2,
   "metadata": {},
   "outputs": [
    {
     "name": "stdout",
     "output_type": "stream",
     "text": [
      "1326.5178289413452\n"
     ]
    }
   ],
   "source": [
    "t = TicToc() ## TicToc(\"name\")\n",
    "t.tic();\n",
    "\n",
    "fasta_file = 'proteinnet12'\n",
    "fasta_path = '../data/proteinnet/'\n",
    "\n",
    "col_ids = []\n",
    "col_seqs = []\n",
    "for seq_record in SeqIO.parse(fasta_path + fasta_file, \"fasta\"):\n",
    "    col_ids.append(seq_record.id)\n",
    "    col_seqs.append(str(seq_record.seq))\n",
    "cols = {'uni': col_ids, 'seq': col_seqs}\n",
    "\n",
    "t.toc();\n",
    "print(t.elapsed)\n"
   ]
  },
  {
   "cell_type": "code",
   "execution_count": 3,
   "metadata": {},
   "outputs": [
    {
     "name": "stdout",
     "output_type": "stream",
     "text": [
      "256.00460505485535\n"
     ]
    }
   ],
   "source": [
    "t = TicToc() ## TicToc(\"name\")\n",
    "t.tic();\n",
    "df = pd.DataFrame(data=cols)\n",
    "t.toc();\n",
    "print(t.elapsed)"
   ]
  },
  {
   "cell_type": "code",
   "execution_count": 4,
   "metadata": {},
   "outputs": [],
   "source": [
    "df.to_csv('../data/proteinnet/proteinnet12.csv', index=False)"
   ]
  },
  {
   "cell_type": "code",
   "execution_count": 5,
   "metadata": {},
   "outputs": [
    {
     "data": {
      "text/plain": [
       "332283871"
      ]
     },
     "execution_count": 5,
     "metadata": {},
     "output_type": "execute_result"
    }
   ],
   "source": [
    "len(df)"
   ]
  },
  {
   "cell_type": "code",
   "execution_count": null,
   "metadata": {},
   "outputs": [],
   "source": []
  }
 ],
 "metadata": {
  "kernelspec": {
   "display_name": "Python 3",
   "language": "python",
   "name": "python3"
  },
  "language_info": {
   "codemirror_mode": {
    "name": "ipython",
    "version": 3
   },
   "file_extension": ".py",
   "mimetype": "text/x-python",
   "name": "python",
   "nbconvert_exporter": "python",
   "pygments_lexer": "ipython3",
   "version": "3.7.3"
  }
 },
 "nbformat": 4,
 "nbformat_minor": 2
}
